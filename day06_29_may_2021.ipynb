{
  "nbformat": 4,
  "nbformat_minor": 0,
  "metadata": {
    "colab": {
      "name": "day06_29-may-2021.ipynb",
      "provenance": [],
      "collapsed_sections": []
    },
    "kernelspec": {
      "name": "python3",
      "display_name": "Python 3"
    },
    "language_info": {
      "name": "python"
    }
  },
  "cells": [
    {
      "cell_type": "markdown",
      "metadata": {
        "id": "Xf-p_etW0tN5"
      },
      "source": [
        "# Python Basics\n",
        "## Todays Objectives\n",
        "- Output & Input\n",
        "- Variables in python\n",
        "- Type Conversion in Python\n",
        "- Operators in Python\n",
        "- Conditional Statements"
      ]
    },
    {
      "cell_type": "code",
      "metadata": {
        "colab": {
          "base_uri": "https://localhost:8080/"
        },
        "id": "mRTCAHpi1dgB",
        "outputId": "7e56f285-6d23-4b79-b3ca-3337cf6257e0"
      },
      "source": [
        "print(\"Hello World\")"
      ],
      "execution_count": null,
      "outputs": [
        {
          "output_type": "stream",
          "text": [
            "Hello World\n"
          ],
          "name": "stdout"
        }
      ]
    },
    {
      "cell_type": "code",
      "metadata": {
        "colab": {
          "base_uri": "https://localhost:8080/"
        },
        "id": "MbbTTbg513Wl",
        "outputId": "978b25e6-8892-4426-f3bd-d572efa3c45e"
      },
      "source": [
        "print(\"Todays date is\",29)"
      ],
      "execution_count": null,
      "outputs": [
        {
          "output_type": "stream",
          "text": [
            "Todays date is 29\n"
          ],
          "name": "stdout"
        }
      ]
    },
    {
      "cell_type": "code",
      "metadata": {
        "colab": {
          "base_uri": "https://localhost:8080/"
        },
        "id": "ee9cf0kT2AdH",
        "outputId": "877d8bae-d569-4b50-db0e-9caa6618460e"
      },
      "source": [
        "print(\"Todays date is\",29, sep = '-')"
      ],
      "execution_count": null,
      "outputs": [
        {
          "output_type": "stream",
          "text": [
            "Todays date is-29\n"
          ],
          "name": "stdout"
        }
      ]
    },
    {
      "cell_type": "code",
      "metadata": {
        "colab": {
          "base_uri": "https://localhost:8080/"
        },
        "id": "O_vZtUu-2g38",
        "outputId": "35ab593f-6679-4570-f673-252772b84499"
      },
      "source": [
        "print(1,2,3,4,5,6, sep ='\\t')"
      ],
      "execution_count": null,
      "outputs": [
        {
          "output_type": "stream",
          "text": [
            "1\t2\t3\t4\t5\t6\n"
          ],
          "name": "stdout"
        }
      ]
    },
    {
      "cell_type": "code",
      "metadata": {
        "colab": {
          "base_uri": "https://localhost:8080/"
        },
        "id": "Ej3bDSUq2uCi",
        "outputId": "468cc78e-7ca3-46a9-90de-9d8f27c96ead"
      },
      "source": [
        "print(1,2,3,4,5,6, sep ='abc')"
      ],
      "execution_count": null,
      "outputs": [
        {
          "output_type": "stream",
          "text": [
            "1abc2abc3abc4abc5abc6\n"
          ],
          "name": "stdout"
        }
      ]
    },
    {
      "cell_type": "code",
      "metadata": {
        "colab": {
          "base_uri": "https://localhost:8080/"
        },
        "id": "lMEojp9I23D5",
        "outputId": "79ab584d-eb98-4d37-dae9-2cb7dd4b383c"
      },
      "source": [
        "print(\"HEllo World\")\n",
        "print(\"HEllo World\")\n",
        "print(\"HEllo World3\")"
      ],
      "execution_count": null,
      "outputs": [
        {
          "output_type": "stream",
          "text": [
            "HEllo World\n",
            "HEllo World\n",
            "HEllo World3\n"
          ],
          "name": "stdout"
        }
      ]
    },
    {
      "cell_type": "code",
      "metadata": {
        "colab": {
          "base_uri": "https://localhost:8080/"
        },
        "id": "ThLThA393EyF",
        "outputId": "2c83be68-0494-4b93-c857-4b823f71d63e"
      },
      "source": [
        "print(\"HEllo World\", end ='\\t')\n",
        "print(\"HEllo World\")\n",
        "print(\"HEllo World3\")"
      ],
      "execution_count": null,
      "outputs": [
        {
          "output_type": "stream",
          "text": [
            "HEllo World\tHEllo World\n",
            "HEllo World3\n"
          ],
          "name": "stdout"
        }
      ]
    },
    {
      "cell_type": "markdown",
      "metadata": {
        "id": "vVb3xwC24cOQ"
      },
      "source": [
        "### Variables\n",
        "\n",
        "It is the named memory location which holds some value\n",
        "\n",
        "### Properties of declaring a variable\n",
        "\n",
        "- It can contain AZaz09_\n",
        "- It shouldn't start with a number\n",
        "- No special characters should included in variable name except` _ `\n",
        "- Keywords are not allowed\n",
        "- Case Sensitive"
      ]
    },
    {
      "cell_type": "code",
      "metadata": {
        "id": "uwhwl4_Z5auf"
      },
      "source": [
        "a = 100\n",
        "A = 5"
      ],
      "execution_count": null,
      "outputs": []
    },
    {
      "cell_type": "code",
      "metadata": {
        "id": "1ClcTDJ0576X"
      },
      "source": [
        "a = 55\n",
        "_a = 56567\n",
        "# 1a = 66\n",
        "# a-b = 67+66\n",
        "_ =765\n",
        "a9 = 'Python'\n",
        "a9_ = 'APSSDC'"
      ],
      "execution_count": null,
      "outputs": []
    },
    {
      "cell_type": "markdown",
      "metadata": {
        "id": "W9uzsQW66zLi"
      },
      "source": [
        "### Data Types in Python\n",
        "\n",
        "\n",
        "- Primary Data Types -> int, float,Dictionary,string, Boolean\n",
        "- Secondary Data Types -> Containers -> List, Tuples, Dictionary, set\n",
        "\n",
        "\n"
      ]
    },
    {
      "cell_type": "code",
      "metadata": {
        "id": "m6mm51JJ8cxI"
      },
      "source": [
        "a = 55\n",
        "b = 55.87\n",
        "c = 5+6j\n",
        "d = True\n",
        "e = 'a+5/.,;'\n",
        "f = ['python', 65, 5+6j, 55.665]\n",
        "g = ('python', 65, 5+6j, 55.665)\n",
        "h = {'Name': 'Python'}\n",
        "i = {1,2,3,4}"
      ],
      "execution_count": null,
      "outputs": []
    },
    {
      "cell_type": "code",
      "metadata": {
        "colab": {
          "base_uri": "https://localhost:8080/"
        },
        "id": "LtC3DwJh-Bq5",
        "outputId": "369b226e-e618-4e4e-b0b5-0693fec6496e"
      },
      "source": [
        "print(type(a))"
      ],
      "execution_count": null,
      "outputs": [
        {
          "output_type": "stream",
          "text": [
            "<class 'int'>\n"
          ],
          "name": "stdout"
        }
      ]
    },
    {
      "cell_type": "code",
      "metadata": {
        "colab": {
          "base_uri": "https://localhost:8080/"
        },
        "id": "LAElayau-ZGE",
        "outputId": "eb06467c-21fb-4af1-d689-0adf8cd76a0a"
      },
      "source": [
        "a=66.78\n",
        "print(type(a))\n"
      ],
      "execution_count": null,
      "outputs": [
        {
          "output_type": "stream",
          "text": [
            "<class 'float'>\n"
          ],
          "name": "stdout"
        }
      ]
    },
    {
      "cell_type": "code",
      "metadata": {
        "id": "9q04mINoAGpr",
        "colab": {
          "base_uri": "https://localhost:8080/"
        },
        "outputId": "66bfd08d-4962-43a1-df96-c36261464739"
      },
      "source": [
        "print (type(c), type(i))"
      ],
      "execution_count": null,
      "outputs": [
        {
          "output_type": "stream",
          "text": [
            "<class 'complex'> <class 'set'>\n"
          ],
          "name": "stdout"
        }
      ]
    },
    {
      "cell_type": "code",
      "metadata": {
        "colab": {
          "base_uri": "https://localhost:8080/"
        },
        "id": "BWDCfdu5Z5O-",
        "outputId": "07966f2a-5c5f-4eac-e23a-fcd41c0f08a1"
      },
      "source": [
        "a= input()"
      ],
      "execution_count": null,
      "outputs": [
        {
          "output_type": "stream",
          "text": [
            "123\n"
          ],
          "name": "stdout"
        }
      ]
    },
    {
      "cell_type": "code",
      "metadata": {
        "id": "QkEcmLrpZ9iz"
      },
      "source": [
        "abc = 555.6"
      ],
      "execution_count": null,
      "outputs": []
    },
    {
      "cell_type": "code",
      "metadata": {
        "colab": {
          "base_uri": "https://localhost:8080/"
        },
        "id": "aqNBmeMbaJpM",
        "outputId": "80ccbc64-2eb8-4c9b-af70-f18491d8542d"
      },
      "source": [
        "print(type(a))"
      ],
      "execution_count": null,
      "outputs": [
        {
          "output_type": "stream",
          "text": [
            "<class 'str'>\n"
          ],
          "name": "stdout"
        }
      ]
    },
    {
      "cell_type": "code",
      "metadata": {
        "colab": {
          "base_uri": "https://localhost:8080/"
        },
        "id": "oo1PtuUwal3D",
        "outputId": "5407643a-1b8a-4f3d-e3e8-1616eeaa15fa"
      },
      "source": [
        "b = input()"
      ],
      "execution_count": null,
      "outputs": [
        {
          "output_type": "stream",
          "text": [
            "1,2,3\n"
          ],
          "name": "stdout"
        }
      ]
    },
    {
      "cell_type": "code",
      "metadata": {
        "colab": {
          "base_uri": "https://localhost:8080/"
        },
        "id": "VjcTRFn3asbb",
        "outputId": "7e08271b-a722-4fd3-ca11-e197e4dda758"
      },
      "source": [
        "print(b, type(b))"
      ],
      "execution_count": null,
      "outputs": [
        {
          "output_type": "stream",
          "text": [
            "1,2,3 <class 'str'>\n"
          ],
          "name": "stdout"
        }
      ]
    },
    {
      "cell_type": "markdown",
      "metadata": {
        "id": "6z1eBkZ8_Fn2"
      },
      "source": [
        "## Type Conversion"
      ]
    },
    {
      "cell_type": "code",
      "metadata": {
        "id": "yvfElRP5AnvK",
        "colab": {
          "base_uri": "https://localhost:8080/"
        },
        "outputId": "b3663125-7f96-45e6-b4b6-6ffca9ee56c2"
      },
      "source": [
        "a= int(input())\n",
        "\n",
        "print(a, type(a))"
      ],
      "execution_count": null,
      "outputs": [
        {
          "output_type": "stream",
          "text": [
            "123\n",
            "123 <class 'int'>\n"
          ],
          "name": "stdout"
        }
      ]
    },
    {
      "cell_type": "code",
      "metadata": {
        "colab": {
          "base_uri": "https://localhost:8080/",
          "height": 214
        },
        "id": "Lyd9QJLwbNlH",
        "outputId": "e05b0ce0-bc8a-43bf-d824-b94b3869fcd4"
      },
      "source": [
        "a= int(input())\n",
        "\n",
        "print(a, type(a))"
      ],
      "execution_count": null,
      "outputs": [
        {
          "output_type": "stream",
          "text": [
            "256.66\n"
          ],
          "name": "stdout"
        },
        {
          "output_type": "error",
          "ename": "ValueError",
          "evalue": "ignored",
          "traceback": [
            "\u001b[0;31m---------------------------------------------------------------------------\u001b[0m",
            "\u001b[0;31mValueError\u001b[0m                                Traceback (most recent call last)",
            "\u001b[0;32m<ipython-input-57-d048e7f95982>\u001b[0m in \u001b[0;36m<module>\u001b[0;34m()\u001b[0m\n\u001b[0;32m----> 1\u001b[0;31m \u001b[0ma\u001b[0m\u001b[0;34m=\u001b[0m \u001b[0mint\u001b[0m\u001b[0;34m(\u001b[0m\u001b[0minput\u001b[0m\u001b[0;34m(\u001b[0m\u001b[0;34m)\u001b[0m\u001b[0;34m)\u001b[0m\u001b[0;34m\u001b[0m\u001b[0;34m\u001b[0m\u001b[0m\n\u001b[0m\u001b[1;32m      2\u001b[0m \u001b[0;34m\u001b[0m\u001b[0m\n\u001b[1;32m      3\u001b[0m \u001b[0mprint\u001b[0m\u001b[0;34m(\u001b[0m\u001b[0ma\u001b[0m\u001b[0;34m,\u001b[0m \u001b[0mtype\u001b[0m\u001b[0;34m(\u001b[0m\u001b[0ma\u001b[0m\u001b[0;34m)\u001b[0m\u001b[0;34m)\u001b[0m\u001b[0;34m\u001b[0m\u001b[0;34m\u001b[0m\u001b[0m\n",
            "\u001b[0;31mValueError\u001b[0m: invalid literal for int() with base 10: '256.66'"
          ]
        }
      ]
    },
    {
      "cell_type": "code",
      "metadata": {
        "colab": {
          "base_uri": "https://localhost:8080/"
        },
        "id": "726Zlt8JbdIU",
        "outputId": "f3229fe2-22b9-4491-db8a-f6f626e2a610"
      },
      "source": [
        "a = float(input())\n",
        "\n",
        "print(a, type(a))"
      ],
      "execution_count": null,
      "outputs": [
        {
          "output_type": "stream",
          "text": [
            "125.56\n",
            "125.56 <class 'float'>\n"
          ],
          "name": "stdout"
        }
      ]
    },
    {
      "cell_type": "markdown",
      "metadata": {
        "id": "JcrLGnZoAlct"
      },
      "source": [
        "### Number Sytems\n",
        "\n",
        "- Decimal ->10 ->0-9\n",
        "- binary ->2 -> 0,1\n",
        "- Octal -> 8-> 0-7\n",
        "- Hexadecimal -> 16 -> 0-F"
      ]
    },
    {
      "cell_type": "code",
      "metadata": {
        "colab": {
          "base_uri": "https://localhost:8080/"
        },
        "id": "XvCFvxtN_B8X",
        "outputId": "85fa8f90-b78a-4150-f6cd-8c19bf7e9e92"
      },
      "source": [
        "a=55\n",
        "\n",
        "print(bin(a), oct(a), hex(a))"
      ],
      "execution_count": null,
      "outputs": [
        {
          "output_type": "stream",
          "text": [
            "0b110111 0o67 0x37\n"
          ],
          "name": "stdout"
        }
      ]
    },
    {
      "cell_type": "code",
      "metadata": {
        "colab": {
          "base_uri": "https://localhost:8080/"
        },
        "id": "9naijLofBKfW",
        "outputId": "c91667f9-e4e6-4a82-b7ca-a37bf6299210"
      },
      "source": [
        "print(int('110111', 2), int('67', 8), int('37', 16))"
      ],
      "execution_count": null,
      "outputs": [
        {
          "output_type": "stream",
          "text": [
            "55 55 55\n"
          ],
          "name": "stdout"
        }
      ]
    },
    {
      "cell_type": "code",
      "metadata": {
        "colab": {
          "base_uri": "https://localhost:8080/"
        },
        "id": "YbUeOYplBeCS",
        "outputId": "7f4dbb9d-d3f7-4238-fe58-6a66b8c0813d"
      },
      "source": [
        "print(ord('a'))"
      ],
      "execution_count": null,
      "outputs": [
        {
          "output_type": "stream",
          "text": [
            "97\n"
          ],
          "name": "stdout"
        }
      ]
    },
    {
      "cell_type": "code",
      "metadata": {
        "colab": {
          "base_uri": "https://localhost:8080/"
        },
        "id": "5UzlVxuABqlh",
        "outputId": "105d9266-831c-4f8d-d260-e928ecf59891"
      },
      "source": [
        "print(chr(97))"
      ],
      "execution_count": null,
      "outputs": [
        {
          "output_type": "stream",
          "text": [
            "a\n"
          ],
          "name": "stdout"
        }
      ]
    },
    {
      "cell_type": "markdown",
      "metadata": {
        "id": "32VuRSKzB1_S"
      },
      "source": [
        "### Operators in Python\n",
        "\n",
        "- Arthemetic Operator ->  +, -, *, /, %, //, **\n",
        "- Logical -> and, or, not\n",
        "- Comparision/relational -> <, >, <=, >=, ==, !=\n",
        "- Bitwise Operator -> &(and), |(or), ~(Not), ^(XOR), >>(right shift), <<(Left shift)\n",
        "- Assignment Operator -> +=, -=, /=, %=, //=, **=\n",
        "- Identity Operators -> is, not is\n",
        "- Membership Operatord -> in, not in"
      ]
    },
    {
      "cell_type": "code",
      "metadata": {
        "id": "0jnZawfGELvM",
        "colab": {
          "base_uri": "https://localhost:8080/"
        },
        "outputId": "c56d283b-c000-45de-b7c0-2a1f32489568"
      },
      "source": [
        "a = 4\n",
        "b = 10\n",
        "\n",
        "print(a+b, a-b, a*b, a/b, a%b, a//b, a ** 2,sep = '->')"
      ],
      "execution_count": null,
      "outputs": [
        {
          "output_type": "stream",
          "text": [
            "14->-6->40->0.4->4->0->16\n"
          ],
          "name": "stdout"
        }
      ]
    },
    {
      "cell_type": "markdown",
      "metadata": {
        "id": "vXvi74sKExwA"
      },
      "source": [
        "### AND (inp1*inp2)\n",
        "|inp1|inp2|inp1 and inp2|\n",
        "|----|----|--------------|\n",
        "|T|T|T|\n",
        "|T|F|F|\n",
        "|F|T|F|\n",
        "|F|F|F|\n",
        " \n",
        " ## OR (inp1+inp2)\n",
        " |inp1|inp2|inp1 OR inp2|\n",
        " |----|----|-----|\n",
        " |T|T|T|\n",
        " |T|F|T|\n",
        " |F|T|T|\n",
        " |F|F|F|\n",
        "\n",
        " ### NOT\n",
        " |inp1|not inp1|\n",
        " |------|-----|\n",
        " |T|F|\n",
        " |F|T|\n",
        "\n",
        " "
      ]
    },
    {
      "cell_type": "code",
      "metadata": {
        "colab": {
          "base_uri": "https://localhost:8080/"
        },
        "id": "AmB9ZqyfbJoN",
        "outputId": "26205081-704a-42f0-cce1-66e7885b734a"
      },
      "source": [
        "a = 1\n",
        "b = 0\n",
        "c = '0'\n",
        "\n",
        "print(a and b, a or b, not a, a and c, type(a and c), not c,sep = '->')"
      ],
      "execution_count": null,
      "outputs": [
        {
          "output_type": "stream",
          "text": [
            "0->1->False->0-><class 'str'>->False\n"
          ],
          "name": "stdout"
        }
      ]
    },
    {
      "cell_type": "code",
      "metadata": {
        "colab": {
          "base_uri": "https://localhost:8080/"
        },
        "id": "dhXJ9rB1ddxn",
        "outputId": "073470a2-e353-490b-a1dc-009316244b45"
      },
      "source": [
        "print(c and a, a or c)"
      ],
      "execution_count": null,
      "outputs": [
        {
          "output_type": "stream",
          "text": [
            "1 1\n"
          ],
          "name": "stdout"
        }
      ]
    },
    {
      "cell_type": "code",
      "metadata": {
        "colab": {
          "base_uri": "https://localhost:8080/"
        },
        "id": "1eWjohyNdm70",
        "outputId": "19bf652f-16ef-4a19-b3e1-70913ea076d6"
      },
      "source": [
        "a = 5\n",
        "b = 6\n",
        "c = 0\n",
        "print(a and b)"
      ],
      "execution_count": null,
      "outputs": [
        {
          "output_type": "stream",
          "text": [
            "6\n"
          ],
          "name": "stdout"
        }
      ]
    },
    {
      "cell_type": "code",
      "metadata": {
        "colab": {
          "base_uri": "https://localhost:8080/"
        },
        "id": "CJIgqA8PdyTy",
        "outputId": "ee773b89-f5e4-4b68-8dc7-8f906cddd049"
      },
      "source": [
        "print(a and c, c and a)"
      ],
      "execution_count": null,
      "outputs": [
        {
          "output_type": "stream",
          "text": [
            "0 0\n"
          ],
          "name": "stdout"
        }
      ]
    },
    {
      "cell_type": "code",
      "metadata": {
        "colab": {
          "base_uri": "https://localhost:8080/"
        },
        "id": "OrZJDIp5d5pd",
        "outputId": "869239cb-a324-47c2-bb2a-60a3c4c50416"
      },
      "source": [
        "a = 5\n",
        "b = 6\n",
        "\n",
        "print(a < b, a > b, a==b)"
      ],
      "execution_count": null,
      "outputs": [
        {
          "output_type": "stream",
          "text": [
            "True False False\n"
          ],
          "name": "stdout"
        }
      ]
    },
    {
      "cell_type": "markdown",
      "metadata": {
        "id": "hQgHHoC1eSx9"
      },
      "source": [
        "### **Bitwise Operators**\n",
        "- works on binary data\n",
        "\n",
        "&, |, ~, ^\n",
        "\n",
        "a = 4   -> 0100\n",
        "\n",
        "b = 10  -> 1010\n",
        "\n",
        "     0000 -> 0 -> and\n",
        "     1110 -> 14 -> or\n",
        "\n",
        " ~a\n",
        "\n",
        "     4  -> 0100\n",
        "\n",
        "           0001\n",
        "          ______\n",
        "          -0101 -> *5 "
      ]
    },
    {
      "cell_type": "code",
      "metadata": {
        "colab": {
          "base_uri": "https://localhost:8080/"
        },
        "id": "KHYdKT5Dfce0",
        "outputId": "a1c5f2e5-7ba3-41fb-bc0f-c82259772143"
      },
      "source": [
        "a = 4\n",
        "b = 10\n",
        "\n",
        "print(a&b,a|b,~a)"
      ],
      "execution_count": null,
      "outputs": [
        {
          "output_type": "stream",
          "text": [
            "0 14 -5\n"
          ],
          "name": "stdout"
        }
      ]
    },
    {
      "cell_type": "markdown",
      "metadata": {
        "id": "gCcSyWG_iBIe"
      },
      "source": [
        "XOR -> A'B + AB'\n",
        "\n",
        "|inp1|inp2|inp1 and inp2|\n",
        "|----|----|-------------|\n",
        "|T|T|F|\n",
        "|T|F|T|\n",
        "|F|T|T|\n",
        "|F|F|F|\n",
        "\n",
        "a = 4    ->  0100\n",
        "            \n",
        "b = 10   ->  1010\n",
        "             \n",
        "\n",
        "\n",
        "            1110 ->14\n",
        "            "
      ]
    },
    {
      "cell_type": "code",
      "metadata": {
        "colab": {
          "base_uri": "https://localhost:8080/"
        },
        "id": "rccc_kqmn0fm",
        "outputId": "a5a09d35-dff3-4951-e79e-273d2d2e804e"
      },
      "source": [
        "print(a ^ b)"
      ],
      "execution_count": null,
      "outputs": [
        {
          "output_type": "stream",
          "text": [
            "14\n"
          ],
          "name": "stdout"
        }
      ]
    },
    {
      "cell_type": "markdown",
      "metadata": {
        "id": "qAlWHGlSn51u"
      },
      "source": [
        "###  Left Shift and Right Shift\n",
        "\n",
        "a = 4 -> 0100\n",
        "\n",
        "a << 2 -> 010000 -> 16\n",
        "\n",
        "a << 2 -> 0001 -> 1\n",
        "\n",
        "a = 8 -> 1000\n",
        "\n",
        "a << 2 -> 100000 -> 32\n",
        "\n",
        "a >> 2 -> 0010 -> 2"
      ]
    },
    {
      "cell_type": "code",
      "metadata": {
        "colab": {
          "base_uri": "https://localhost:8080/"
        },
        "id": "_-NX4ihhodT5",
        "outputId": "d821ec50-9190-4e70-babc-e23dd4fdc490"
      },
      "source": [
        "a = 4\n",
        "print(a << 2, a>> 2)"
      ],
      "execution_count": null,
      "outputs": [
        {
          "output_type": "stream",
          "text": [
            "16 1\n"
          ],
          "name": "stdout"
        }
      ]
    },
    {
      "cell_type": "code",
      "metadata": {
        "colab": {
          "base_uri": "https://localhost:8080/"
        },
        "id": "1djY2y-Gze69",
        "outputId": "b89467c6-b0d2-49e6-ebe0-7aa5aa1d2bbc"
      },
      "source": [
        "a = 8\n",
        "\n",
        "print(a << 3, a >> 3)"
      ],
      "execution_count": 85,
      "outputs": [
        {
          "output_type": "stream",
          "text": [
            "64 1\n"
          ],
          "name": "stdout"
        }
      ]
    },
    {
      "cell_type": "code",
      "metadata": {
        "colab": {
          "base_uri": "https://localhost:8080/"
        },
        "id": "nJvyfg6iopfR",
        "outputId": "7d056055-8bc3-49e6-9fd3-9c5d3fa47dee"
      },
      "source": [
        "a = 5\n",
        "a = a + 10\n",
        "print(a)\n",
        "a += 10\n",
        "print(a)\n",
        "a -= 5\n",
        "print(a)\n",
        "a **= 2\n",
        "print(a)"
      ],
      "execution_count": null,
      "outputs": [
        {
          "output_type": "stream",
          "text": [
            "15\n",
            "25\n",
            "20\n",
            "400\n"
          ],
          "name": "stdout"
        }
      ]
    },
    {
      "cell_type": "markdown",
      "metadata": {
        "id": "O33X1MIApEH-"
      },
      "source": [
        "###  Membership Operators\n"
      ]
    },
    {
      "cell_type": "code",
      "metadata": {
        "colab": {
          "base_uri": "https://localhost:8080/"
        },
        "id": "NYvyZP8qpTBA",
        "outputId": "d0e5b0e4-d3a7-4692-ae85-ba090f7f3dc9"
      },
      "source": [
        "a = 'Python'\n",
        "b = 'Py'\n",
        "c = 'py'\n",
        "\n",
        "print(a in b, a in c, a not in c)"
      ],
      "execution_count": null,
      "outputs": [
        {
          "output_type": "stream",
          "text": [
            "False False True\n"
          ],
          "name": "stdout"
        }
      ]
    },
    {
      "cell_type": "markdown",
      "metadata": {
        "id": "gIvB_a32pk9v"
      },
      "source": [
        "### Identity Operators\n",
        "\n"
      ]
    },
    {
      "cell_type": "code",
      "metadata": {
        "id": "7NEQV49MpsyC"
      },
      "source": [
        "a = 5\n",
        "b = 5.5\n",
        "c = 5\n",
        "d = [1,2,3]\n",
        "e = [1,2,3]\n",
        "f = d"
      ],
      "execution_count": null,
      "outputs": []
    },
    {
      "cell_type": "code",
      "metadata": {
        "colab": {
          "base_uri": "https://localhost:8080/"
        },
        "id": "dL-Vg_rPpjpv",
        "outputId": "1087ce86-1b4d-4897-bf97-4609ac861a77"
      },
      "source": [
        "print(f)"
      ],
      "execution_count": null,
      "outputs": [
        {
          "output_type": "stream",
          "text": [
            "[1, 2, 3]\n"
          ],
          "name": "stdout"
        }
      ]
    },
    {
      "cell_type": "code",
      "metadata": {
        "colab": {
          "base_uri": "https://localhost:8080/"
        },
        "id": "OSkLKti6qEUK",
        "outputId": "4f6a7cd0-8d8a-41fb-8cb8-0e8a3063e2a8"
      },
      "source": [
        "print(a == c, d == e, d ==f)"
      ],
      "execution_count": null,
      "outputs": [
        {
          "output_type": "stream",
          "text": [
            "True True True\n"
          ],
          "name": "stdout"
        }
      ]
    },
    {
      "cell_type": "code",
      "metadata": {
        "colab": {
          "base_uri": "https://localhost:8080/"
        },
        "id": "1nkLeMGrqLpl",
        "outputId": "fb2475a0-35ee-414f-a3d4-b026d77031b4"
      },
      "source": [
        "print(id(a))\n",
        "print(id(c))\n",
        "print(id(d))\n",
        "print(id(e))\n",
        "print(id(f))"
      ],
      "execution_count": null,
      "outputs": [
        {
          "output_type": "stream",
          "text": [
            "94730336340608\n",
            "94730336340608\n",
            "140001466020960\n",
            "140001458849824\n",
            "140001466020960\n"
          ],
          "name": "stdout"
        }
      ]
    },
    {
      "cell_type": "code",
      "metadata": {
        "colab": {
          "base_uri": "https://localhost:8080/"
        },
        "id": "B7bxAH4vqfTL",
        "outputId": "3f9fc78b-75e4-469f-abf2-6a411f006380"
      },
      "source": [
        "d.append('python')\n",
        "\n",
        "print(d)\n",
        "print(f)"
      ],
      "execution_count": null,
      "outputs": [
        {
          "output_type": "stream",
          "text": [
            "[1, 2, 3, 'python']\n",
            "[1, 2, 3, 'python']\n"
          ],
          "name": "stdout"
        }
      ]
    },
    {
      "cell_type": "code",
      "metadata": {
        "colab": {
          "base_uri": "https://localhost:8080/"
        },
        "id": "TwHBaGziqrh1",
        "outputId": "daa7ac5b-0a5b-4e96-96a7-c1d61c818b74"
      },
      "source": [
        "print(d,e,f)\n",
        "print(d is e, d is f, e is f, d is not e)"
      ],
      "execution_count": null,
      "outputs": [
        {
          "output_type": "stream",
          "text": [
            "[1, 2, 3, 'python'] [1, 2, 3] [1, 2, 3, 'python']\n",
            "False True False True\n"
          ],
          "name": "stdout"
        }
      ]
    }
  ]
}