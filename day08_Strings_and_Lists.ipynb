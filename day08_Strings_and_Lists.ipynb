{
  "nbformat": 4,
  "nbformat_minor": 0,
  "metadata": {
    "colab": {
      "name": "day08_Strings and Lists",
      "provenance": [],
      "collapsed_sections": []
    },
    "kernelspec": {
      "name": "python3",
      "display_name": "Python 3"
    },
    "language_info": {
      "name": "python"
    }
  },
  "cells": [
    {
      "cell_type": "markdown",
      "metadata": {
        "id": "Ed1QPuNk8O59"
      },
      "source": [
        "### Day Objectives\n",
        "\n",
        "- Strings\n",
        "   - SLicing in python\n",
        "   - String methods\n",
        "- Lists \n",
        "   - Accessing elements from the list\n",
        "   - List Methods\n",
        "- Tuples\n",
        "   - Accessing elements from the list\n",
        "   - Tuple Methods"
      ]
    },
    {
      "cell_type": "code",
      "metadata": {
        "id": "ZePUGGAS9XkG"
      },
      "source": [
        "s1 = \"\"\"Python is an interpreted high-level general-purpose programming language. Python's design philosophy emphasizes code readability with its notable use of significant indentation. Wikipedia\n",
        "Developer: Python Software Foundation\n",
        "Stable release: 3.9.5 / 3 May 2021; 19 days ago\n",
        "Preview release: 3.10.0b1 / 3 May 2021; 19 days ago\n",
        "Typing discipline: Duck, dynamic, strong typing; gradual (since 3.5, but ignored in CPython)\n",
        "First appeared: February 1991; 30 years ago\n",
        "Paradigm: Multi-paradigm: object-oriented, procedural (imperative), functional, structured, reflective\"\"\""
      ],
      "execution_count": 114,
      "outputs": []
    },
    {
      "cell_type": "code",
      "metadata": {
        "colab": {
          "base_uri": "https://localhost:8080/"
        },
        "id": "4X8Op2neeSAJ",
        "outputId": "c7cbaa7c-8304-427a-8874-5c1ce78c7c66"
      },
      "source": [
        "print(s1[0], s1[55], s1[10])"
      ],
      "execution_count": 79,
      "outputs": [
        {
          "output_type": "stream",
          "text": [
            "P g a\n"
          ],
          "name": "stdout"
        }
      ]
    },
    {
      "cell_type": "code",
      "metadata": {
        "colab": {
          "base_uri": "https://localhost:8080/"
        },
        "id": "hcA8SsLqeePx",
        "outputId": "c082b3dd-c209-426c-8f83-80581e1f7944"
      },
      "source": [
        "print(len(s1))"
      ],
      "execution_count": 80,
      "outputs": [
        {
          "output_type": "stream",
          "text": [
            "565\n"
          ],
          "name": "stdout"
        }
      ]
    },
    {
      "cell_type": "markdown",
      "metadata": {
        "id": "DAsNrmEWejpI"
      },
      "source": [
        "### String Slicing\n",
        "\n",
        "\n",
        "### Syntax\n",
        "\n",
        "string_var[startingIndex:EndingIndex]"
      ]
    },
    {
      "cell_type": "code",
      "metadata": {
        "colab": {
          "base_uri": "https://localhost:8080/"
        },
        "id": "jgVgc2q5g2Ef",
        "outputId": "b6abfe62-1a5b-4c2a-a7fe-11fd7569e7f3"
      },
      "source": [
        "print(s1[0:6])"
      ],
      "execution_count": 81,
      "outputs": [
        {
          "output_type": "stream",
          "text": [
            "Python\n"
          ],
          "name": "stdout"
        }
      ]
    },
    {
      "cell_type": "code",
      "metadata": {
        "colab": {
          "base_uri": "https://localhost:8080/"
        },
        "id": "apDVdimihNyG",
        "outputId": "cca8a4a8-8f6f-42b3-c3eb-61bc8974ca81"
      },
      "source": [
        "print(s1[0: 100])\n"
      ],
      "execution_count": 82,
      "outputs": [
        {
          "output_type": "stream",
          "text": [
            "Python is an interpreted high-level general-purpose programming language. Python's design philosophy\n"
          ],
          "name": "stdout"
        }
      ]
    },
    {
      "cell_type": "code",
      "metadata": {
        "colab": {
          "base_uri": "https://localhost:8080/"
        },
        "id": "veDzojW5hh3j",
        "outputId": "509c82ec-e67c-4925-a40b-7d8011bdc398"
      },
      "source": [
        "print(s1[-100: ])"
      ],
      "execution_count": 83,
      "outputs": [
        {
          "output_type": "stream",
          "text": [
            "radigm: Multi-paradigm: object-oriented, procedural (imperative), functional, structured, reflective\n"
          ],
          "name": "stdout"
        }
      ]
    },
    {
      "cell_type": "code",
      "metadata": {
        "colab": {
          "base_uri": "https://localhost:8080/"
        },
        "id": "uXqYDEV_ijdx",
        "outputId": "07ded385-2fe6-43c4-c917-ef892f9d730a"
      },
      "source": [
        "print(s1[6])"
      ],
      "execution_count": 84,
      "outputs": [
        {
          "output_type": "stream",
          "text": [
            " \n"
          ],
          "name": "stdout"
        }
      ]
    },
    {
      "cell_type": "code",
      "metadata": {
        "colab": {
          "base_uri": "https://localhost:8080/"
        },
        "id": "7f26bXQliybf",
        "outputId": "6117ceb3-b1c6-44da-c292-82a547aad1f5"
      },
      "source": [
        "print(s1[: 15], s1[0: 15])"
      ],
      "execution_count": 85,
      "outputs": [
        {
          "output_type": "stream",
          "text": [
            "Python is an in Python is an in\n"
          ],
          "name": "stdout"
        }
      ]
    },
    {
      "cell_type": "code",
      "metadata": {
        "colab": {
          "base_uri": "https://localhost:8080/"
        },
        "id": "quRdRRROi1EQ",
        "outputId": "f3adb385-3233-496c-848d-78409d494606"
      },
      "source": [
        "print(s1[:])"
      ],
      "execution_count": 86,
      "outputs": [
        {
          "output_type": "stream",
          "text": [
            "Python is an interpreted high-level general-purpose programming language. Python's design philosophy emphasizes code readability with its notable use of significant indentation. Wikipedia\n",
            "Developer: Python Software Foundation\n",
            "Stable release: 3.9.5 / 3 May 2021; 19 days ago\n",
            "Preview release: 3.10.0b1 / 3 May 2021; 19 days ago\n",
            "Typing discipline: Duck, dynamic, strong typing; gradual (since 3.5, but ignored in CPython)\n",
            "First appeared: February 1991; 30 years ago\n",
            "Paradigm: Multi-paradigm: object-oriented, procedural (imperative), functional, structured, reflective\n"
          ],
          "name": "stdout"
        }
      ]
    },
    {
      "cell_type": "markdown",
      "metadata": {
        "id": "baloFZbyjRP2"
      },
      "source": [
        "- string_va5r[startingIndex:EndingIndex:stepSize]"
      ]
    },
    {
      "cell_type": "code",
      "metadata": {
        "colab": {
          "base_uri": "https://localhost:8080/"
        },
        "id": "pkVm9Axdjg9n",
        "outputId": "3a70d34f-3332-402d-9089-52f39b9d22d8"
      },
      "source": [
        "print(s1[0: 10: 2])"
      ],
      "execution_count": 87,
      "outputs": [
        {
          "output_type": "stream",
          "text": [
            "Pto s\n"
          ],
          "name": "stdout"
        }
      ]
    },
    {
      "cell_type": "code",
      "metadata": {
        "colab": {
          "base_uri": "https://localhost:8080/"
        },
        "id": "a8hm9U9ajx94",
        "outputId": "52af20f5-14c5-4445-8532-a0cbe449ba06"
      },
      "source": [
        "print(s1[0: 10: 3])"
      ],
      "execution_count": 88,
      "outputs": [
        {
          "output_type": "stream",
          "text": [
            "Ph  \n"
          ],
          "name": "stdout"
        }
      ]
    },
    {
      "cell_type": "code",
      "metadata": {
        "colab": {
          "base_uri": "https://localhost:8080/"
        },
        "id": "_n1SzIrhj2Do",
        "outputId": "040e4225-42bc-42a2-e96b-decf9cf5d39c"
      },
      "source": [
        "print(s1[-10: :-2])"
      ],
      "execution_count": 89,
      "outputs": [
        {
          "output_type": "stream",
          "text": [
            "r,eucrs,aotnf,eiaem(lrdcr dter-cjo:gdrpilM:gdrPoasay0 19 rubF:eapatrF)otP idrnitb,. ci(luag;nptgot cmnd,cD:nlisdgiy\n",
            "g yd9 10 a   b.13:see evr\n",
            "g yd9 10 a   .. ealrebt\n",
            "otduFeato otP:eoee\n",
            "ieii nianditaiigsf s lao t twyiiaareo eiapeypslh gsdsnhy eaga nmagr spu-aee ee-ghdtrrtin inhy\n"
          ],
          "name": "stdout"
        }
      ]
    },
    {
      "cell_type": "code",
      "metadata": {
        "colab": {
          "base_uri": "https://localhost:8080/"
        },
        "id": "cwq5MedfkMe-",
        "outputId": "06000caf-b4a4-4c8e-d1ea-e4bd37745c70"
      },
      "source": [
        "print(s1[-10: :2])"
      ],
      "execution_count": 90,
      "outputs": [
        {
          "output_type": "stream",
          "text": [
            "rfetv\n"
          ],
          "name": "stdout"
        }
      ]
    },
    {
      "cell_type": "code",
      "metadata": {
        "colab": {
          "base_uri": "https://localhost:8080/"
        },
        "id": "Ka4IEVsikQjk",
        "outputId": "edad7fd8-4f91-4763-fdc8-81e6aa22bc13"
      },
      "source": [
        "print(s1[ : : -1])"
      ],
      "execution_count": 91,
      "outputs": [
        {
          "output_type": "stream",
          "text": [
            "evitcelfer ,derutcurts ,lanoitcnuf ,)evitarepmi( larudecorp ,detneiro-tcejbo :mgidarap-itluM :mgidaraP\n",
            "oga sraey 03 ;1991 yraurbeF :deraeppa tsriF\n",
            ")nohtyPC ni derongi tub ,5.3 ecnis( laudarg ;gnipyt gnorts ,cimanyd ,kcuD :enilpicsid gnipyT\n",
            "oga syad 91 ;1202 yaM 3 / 1b0.01.3 :esaeler weiverP\n",
            "oga syad 91 ;1202 yaM 3 / 5.9.3 :esaeler elbatS\n",
            "noitadnuoF erawtfoS nohtyP :repoleveD\n",
            "aidepikiW .noitatnedni tnacifingis fo esu elbaton sti htiw ytilibadaer edoc sezisahpme yhposolihp ngised s'nohtyP .egaugnal gnimmargorp esoprup-lareneg level-hgih deterpretni na si nohtyP\n"
          ],
          "name": "stdout"
        }
      ]
    },
    {
      "cell_type": "code",
      "metadata": {
        "colab": {
          "base_uri": "https://localhost:8080/"
        },
        "id": "ixOih7CykeUr",
        "outputId": "1223270e-b3fe-4438-cec9-64e111356ba9"
      },
      "source": [
        "print(s1[ : : 1])"
      ],
      "execution_count": 92,
      "outputs": [
        {
          "output_type": "stream",
          "text": [
            "Python is an interpreted high-level general-purpose programming language. Python's design philosophy emphasizes code readability with its notable use of significant indentation. Wikipedia\n",
            "Developer: Python Software Foundation\n",
            "Stable release: 3.9.5 / 3 May 2021; 19 days ago\n",
            "Preview release: 3.10.0b1 / 3 May 2021; 19 days ago\n",
            "Typing discipline: Duck, dynamic, strong typing; gradual (since 3.5, but ignored in CPython)\n",
            "First appeared: February 1991; 30 years ago\n",
            "Paradigm: Multi-paradigm: object-oriented, procedural (imperative), functional, structured, reflective\n"
          ],
          "name": "stdout"
        }
      ]
    },
    {
      "cell_type": "code",
      "metadata": {
        "colab": {
          "base_uri": "https://localhost:8080/"
        },
        "id": "3eRznBpCkleN",
        "outputId": "44987a51-34e1-4322-af0e-4635e1ad73ea"
      },
      "source": [
        "print(s1[: : -2])"
      ],
      "execution_count": 93,
      "outputs": [
        {
          "output_type": "stream",
          "text": [
            "eicle drtut lnicu )vtrpi aueop,enioteb miaa-tu miaa\n",
            "g re 3;91yare drep si\n",
            "nhyCn eog u 53ens adr giy nrs,iay ku eipci npToasa 1;22yM3/100. ealrwiePoasa 1;22yM3/593:see laSniano rwfSnhy rplvDadpkW.otten ncfni oeuebtnsihi tlbde dcszshm hooipnie 'otP.gunlgimropeorplrnglvlhi eepen as otP\n"
          ],
          "name": "stdout"
        }
      ]
    },
    {
      "cell_type": "markdown",
      "metadata": {
        "id": "NnfsSm4dkyEY"
      },
      "source": [
        "### String Methods\n"
      ]
    },
    {
      "cell_type": "code",
      "metadata": {
        "colab": {
          "base_uri": "https://localhost:8080/"
        },
        "id": "brLKk9M7k53n",
        "outputId": "06780269-4291-4d54-ac03-006e6e8c39a4"
      },
      "source": [
        "s = 'Apssdc Data Science training program'\n",
        "\n",
        "print(s.upper())"
      ],
      "execution_count": 94,
      "outputs": [
        {
          "output_type": "stream",
          "text": [
            "APSSDC DATA SCIENCE TRAINING PROGRAM\n"
          ],
          "name": "stdout"
        }
      ]
    },
    {
      "cell_type": "code",
      "metadata": {
        "colab": {
          "base_uri": "https://localhost:8080/"
        },
        "id": "HGx8EmdtlNSP",
        "outputId": "27d10c5f-e3d5-4786-cdd3-9ecf0387179b"
      },
      "source": [
        "print(s)"
      ],
      "execution_count": 95,
      "outputs": [
        {
          "output_type": "stream",
          "text": [
            "Apssdc Data Science training program\n"
          ],
          "name": "stdout"
        }
      ]
    },
    {
      "cell_type": "code",
      "metadata": {
        "colab": {
          "base_uri": "https://localhost:8080/"
        },
        "id": "miXGJp_MlSm_",
        "outputId": "5219a7e3-c022-4bd9-e9d1-a557e5583f8e"
      },
      "source": [
        "print(s.lower())"
      ],
      "execution_count": 96,
      "outputs": [
        {
          "output_type": "stream",
          "text": [
            "apssdc data science training program\n"
          ],
          "name": "stdout"
        }
      ]
    },
    {
      "cell_type": "code",
      "metadata": {
        "colab": {
          "base_uri": "https://localhost:8080/"
        },
        "id": "CubWMEsSlZzf",
        "outputId": "bb0e2051-fb0e-4994-c91c-941570a02ba9"
      },
      "source": [
        "print(s.swapcase())"
      ],
      "execution_count": 97,
      "outputs": [
        {
          "output_type": "stream",
          "text": [
            "aPSSDC dATA sCIENCE TRAINING PROGRAM\n"
          ],
          "name": "stdout"
        }
      ]
    },
    {
      "cell_type": "code",
      "metadata": {
        "colab": {
          "base_uri": "https://localhost:8080/"
        },
        "id": "dkUO07iwle2Q",
        "outputId": "2057b74b-cc68-4621-aa69-8e47396383a0"
      },
      "source": [
        "su = 'APSSDC'\n",
        "sl = 'python'\n",
        "sn = '9876543210'\n",
        "\n",
        "\n",
        "print(su.isupper(), sl.isupper())"
      ],
      "execution_count": 98,
      "outputs": [
        {
          "output_type": "stream",
          "text": [
            "True False\n"
          ],
          "name": "stdout"
        }
      ]
    },
    {
      "cell_type": "code",
      "metadata": {
        "colab": {
          "base_uri": "https://localhost:8080/"
        },
        "id": "n6v8ZRZYll4j",
        "outputId": "696d2a35-47a0-423f-e2c1-76a8dc234104"
      },
      "source": [
        "print(sl.islower(), su.islower())"
      ],
      "execution_count": 99,
      "outputs": [
        {
          "output_type": "stream",
          "text": [
            "True False\n"
          ],
          "name": "stdout"
        }
      ]
    },
    {
      "cell_type": "code",
      "metadata": {
        "colab": {
          "base_uri": "https://localhost:8080/"
        },
        "id": "WSU1cWCelrsE",
        "outputId": "26ee92b4-aff4-49ee-affd-eadf4ea99690"
      },
      "source": [
        "print(su.isdigit(), sn.isdigit())"
      ],
      "execution_count": 100,
      "outputs": [
        {
          "output_type": "stream",
          "text": [
            "False True\n"
          ],
          "name": "stdout"
        }
      ]
    },
    {
      "cell_type": "markdown",
      "metadata": {
        "id": "p1UVnUW3lyAS"
      },
      "source": [
        "### **Validating indian mobile Number**\n",
        "- +91 ->\n",
        "\n",
        "- 10 digits -> len()\n",
        "\n",
        "- 9,8,7,6"
      ]
    },
    {
      "cell_type": "code",
      "metadata": {
        "colab": {
          "base_uri": "https://localhost:8080/"
        },
        "id": "P01wz0-MmTF3",
        "outputId": "4aa2d4cb-80e1-44ba-8dac-1d10beb02820"
      },
      "source": [
        "n1 = '+919876543210'\n",
        "n3 = '9876543210'\n",
        "n2 = '+91563214565'\n",
        "n4 = '+5632147890'\n",
        "\n",
        "n1 = '+91987654321o'\n",
        "\n",
        "if n1[0] == '+':\n",
        "    if n1[1:3] == '91' and len(n1[3: ]) == 10 and n1[3] in '9876' and n1[1: ].isdigit():\n",
        "        print(n1, 'is valid indian mobile number')\n",
        "    else:\n",
        "        print(n1, 'is not valid indian mobile number')\n",
        "elif len(n1) == 10 and n1[0] in '9876' and n1.isdigit():\n",
        "    print(n1, 'is valid indian mobile number')\n",
        "else:\n",
        "    print(n1, 'is not valid indian mobile number')"
      ],
      "execution_count": 101,
      "outputs": [
        {
          "output_type": "stream",
          "text": [
            "+91987654321o is not valid indian mobile number\n"
          ],
          "name": "stdout"
        }
      ]
    },
    {
      "cell_type": "code",
      "metadata": {
        "colab": {
          "base_uri": "https://localhost:8080/"
        },
        "id": "IDF-IHqTpJSV",
        "outputId": "7d417769-f632-44a9-f29b-c2eca5e32d0a"
      },
      "source": [
        "rollNo = '19KQ1A0237'\n",
        "\n",
        "print(rollNo.startswith('19'))"
      ],
      "execution_count": 102,
      "outputs": [
        {
          "output_type": "stream",
          "text": [
            "True\n"
          ],
          "name": "stdout"
        }
      ]
    },
    {
      "cell_type": "code",
      "metadata": {
        "id": "0mEaM4jFpo8-"
      },
      "source": [
        "\n",
        "email = 'anilkumar_t@apssdc.in'\n",
        "email2 = 'anil@gmail.com'"
      ],
      "execution_count": 103,
      "outputs": []
    },
    {
      "cell_type": "code",
      "metadata": {
        "colab": {
          "base_uri": "https://localhost:8080/"
        },
        "id": "pUkHT2Yypt1O",
        "outputId": "6137bb6c-c42f-4680-cbbd-5caff8ace105"
      },
      "source": [
        "print(email2.endswith('apssdc.in'))"
      ],
      "execution_count": 104,
      "outputs": [
        {
          "output_type": "stream",
          "text": [
            "False\n"
          ],
          "name": "stdout"
        }
      ]
    },
    {
      "cell_type": "code",
      "metadata": {
        "colab": {
          "base_uri": "https://localhost:8080/"
        },
        "id": "wlkPVWJfpzvm",
        "outputId": "5b8d4ee8-6c28-452a-a62a-61e2eacadf67"
      },
      "source": [
        "email = 'anilkumar_t@apssdc.in'\n",
        "email2 = 'swamy@apssdc.in'\n",
        "\n",
        "print(email.index('@'))"
      ],
      "execution_count": 105,
      "outputs": [
        {
          "output_type": "stream",
          "text": [
            "11\n"
          ],
          "name": "stdout"
        }
      ]
    },
    {
      "cell_type": "code",
      "metadata": {
        "colab": {
          "base_uri": "https://localhost:8080/"
        },
        "id": "QF5P57eNrF23",
        "outputId": "3f139876-fee1-4c24-f588-f149424c774e"
      },
      "source": [
        "print(email[0: email.index('@')])"
      ],
      "execution_count": 106,
      "outputs": [
        {
          "output_type": "stream",
          "text": [
            "anilkumar_t\n"
          ],
          "name": "stdout"
        }
      ]
    },
    {
      "cell_type": "code",
      "metadata": {
        "colab": {
          "base_uri": "https://localhost:8080/"
        },
        "id": "hqGeZf_VrjGP",
        "outputId": "1c3b7fbf-3e7a-44ed-f306-3c9db63d44ab"
      },
      "source": [
        "print(email2[0: email2.index('@')])"
      ],
      "execution_count": 107,
      "outputs": [
        {
          "output_type": "stream",
          "text": [
            "swamy\n"
          ],
          "name": "stdout"
        }
      ]
    },
    {
      "cell_type": "code",
      "metadata": {
        "colab": {
          "base_uri": "https://localhost:8080/"
        },
        "id": "EE0Xowf3rxJ_",
        "outputId": "da223ac9-b4b2-4431-ea1a-43eaab8f295e"
      },
      "source": [
        "\n",
        "email = 'anilkumar_t@apssdc.in'\n",
        "email2 = 'swamy@apssdc.in'\n",
        "email3 = 'anil@gmail.com'\n",
        "\n",
        "\n",
        "print(email2[email2.index('@') + 1: email2.index('.')])"
      ],
      "execution_count": 108,
      "outputs": [
        {
          "output_type": "stream",
          "text": [
            "apssdc\n"
          ],
          "name": "stdout"
        }
      ]
    },
    {
      "cell_type": "code",
      "metadata": {
        "colab": {
          "base_uri": "https://localhost:8080/",
          "height": 35
        },
        "id": "xkvdimTssLvC",
        "outputId": "4a799998-8d2d-49e4-bea8-2faf04910586"
      },
      "source": [
        "email3[email3.index('@') + 1: email3.index('.')]"
      ],
      "execution_count": 109,
      "outputs": [
        {
          "output_type": "execute_result",
          "data": {
            "application/vnd.google.colaboratory.intrinsic+json": {
              "type": "string"
            },
            "text/plain": [
              "'gmail'"
            ]
          },
          "metadata": {
            "tags": []
          },
          "execution_count": 109
        }
      ]
    },
    {
      "cell_type": "code",
      "metadata": {
        "colab": {
          "base_uri": "https://localhost:8080/"
        },
        "id": "GzV0rwbIsfMV",
        "outputId": "5fc5e99e-7588-4de9-db7b-aff006b9817e"
      },
      "source": [
        "help(str.index)"
      ],
      "execution_count": 110,
      "outputs": [
        {
          "output_type": "stream",
          "text": [
            "Help on method_descriptor:\n",
            "\n",
            "index(...)\n",
            "    S.index(sub[, start[, end]]) -> int\n",
            "    \n",
            "    Return the lowest index in S where substring sub is found, \n",
            "    such that sub is contained within S[start:end].  Optional\n",
            "    arguments start and end are interpreted as in slice notation.\n",
            "    \n",
            "    Raises ValueError when the substring is not found.\n",
            "\n"
          ],
          "name": "stdout"
        }
      ]
    },
    {
      "cell_type": "code",
      "metadata": {
        "colab": {
          "base_uri": "https://localhost:8080/"
        },
        "id": "6UUoRtRFsw9I",
        "outputId": "ca8a46c4-a4d1-4057-cd5e-d8837a4a4fee"
      },
      "source": [
        "email = 'anil@apssdc@in'\n",
        "\n",
        "print(email.index('@'))"
      ],
      "execution_count": 111,
      "outputs": [
        {
          "output_type": "stream",
          "text": [
            "4\n"
          ],
          "name": "stdout"
        }
      ]
    },
    {
      "cell_type": "code",
      "metadata": {
        "colab": {
          "base_uri": "https://localhost:8080/"
        },
        "id": "lfqbbNWJtMuV",
        "outputId": "0ae15d6b-c3b8-4509-d8cc-a6469ffc8d8b"
      },
      "source": [
        "email = 'anil@apssdc@in'\n",
        "\n",
        "print(email.index('@', 5))\n"
      ],
      "execution_count": 112,
      "outputs": [
        {
          "output_type": "stream",
          "text": [
            "11\n"
          ],
          "name": "stdout"
        }
      ]
    },
    {
      "cell_type": "code",
      "metadata": {
        "colab": {
          "base_uri": "https://localhost:8080/",
          "height": 180
        },
        "id": "zghjFL6rtbI3",
        "outputId": "f72547e3-d729-4aa5-adcc-6d70a308dd01"
      },
      "source": [
        "email = 'anil@apssdc@in'\n",
        "print(email.index('@', 12))"
      ],
      "execution_count": 115,
      "outputs": [
        {
          "output_type": "error",
          "ename": "ValueError",
          "evalue": "ignored",
          "traceback": [
            "\u001b[0;31m---------------------------------------------------------------------------\u001b[0m",
            "\u001b[0;31mValueError\u001b[0m                                Traceback (most recent call last)",
            "\u001b[0;32m<ipython-input-115-1faa695793fd>\u001b[0m in \u001b[0;36m<module>\u001b[0;34m()\u001b[0m\n\u001b[1;32m      1\u001b[0m \u001b[0memail\u001b[0m \u001b[0;34m=\u001b[0m \u001b[0;34m'anil@apssdc@in'\u001b[0m\u001b[0;34m\u001b[0m\u001b[0;34m\u001b[0m\u001b[0m\n\u001b[0;32m----> 2\u001b[0;31m \u001b[0mprint\u001b[0m\u001b[0;34m(\u001b[0m\u001b[0memail\u001b[0m\u001b[0;34m.\u001b[0m\u001b[0mindex\u001b[0m\u001b[0;34m(\u001b[0m\u001b[0;34m'@'\u001b[0m\u001b[0;34m,\u001b[0m \u001b[0;36m12\u001b[0m\u001b[0;34m)\u001b[0m\u001b[0;34m)\u001b[0m\u001b[0;34m\u001b[0m\u001b[0;34m\u001b[0m\u001b[0m\n\u001b[0m",
            "\u001b[0;31mValueError\u001b[0m: substring not found"
          ]
        }
      ]
    },
    {
      "cell_type": "code",
      "metadata": {
        "colab": {
          "base_uri": "https://localhost:8080/"
        },
        "id": "wy-LTuIFt06x",
        "outputId": "edb32f7f-0198-407c-b540-943cbdfc5d6e"
      },
      "source": [
        "print(email.count('a'))"
      ],
      "execution_count": 116,
      "outputs": [
        {
          "output_type": "stream",
          "text": [
            "2\n"
          ],
          "name": "stdout"
        }
      ]
    },
    {
      "cell_type": "code",
      "metadata": {
        "colab": {
          "base_uri": "https://localhost:8080/"
        },
        "id": "EiXKRzyLt6yu",
        "outputId": "3b296278-2afd-4c4c-e231-b2cead2534a0"
      },
      "source": [
        "print(email.count('@'))"
      ],
      "execution_count": 117,
      "outputs": [
        {
          "output_type": "stream",
          "text": [
            "2\n"
          ],
          "name": "stdout"
        }
      ]
    },
    {
      "cell_type": "code",
      "metadata": {
        "colab": {
          "base_uri": "https://localhost:8080/"
        },
        "id": "AzUpJg-HuAXY",
        "outputId": "ff98864a-f6d5-445d-a8f0-6748df65682c"
      },
      "source": [
        "\n",
        "print(email.count('ss'))"
      ],
      "execution_count": 118,
      "outputs": [
        {
          "output_type": "stream",
          "text": [
            "1\n"
          ],
          "name": "stdout"
        }
      ]
    },
    {
      "cell_type": "code",
      "metadata": {
        "colab": {
          "base_uri": "https://localhost:8080/"
        },
        "id": "PUfjEwihuD-H",
        "outputId": "9112d0c3-6713-42dd-967b-5b29a33475d7"
      },
      "source": [
        "s = '   APSSDC python    '\n",
        "\n",
        "\n",
        "print(s.lstrip(), s.rstrip(), s.strip())"
      ],
      "execution_count": 119,
      "outputs": [
        {
          "output_type": "stream",
          "text": [
            "APSSDC python        APSSDC python APSSDC python\n"
          ],
          "name": "stdout"
        }
      ]
    },
    {
      "cell_type": "code",
      "metadata": {
        "colab": {
          "base_uri": "https://localhost:8080/"
        },
        "id": "3ox5KavLtfPr",
        "outputId": "bf5273c3-9ed9-44f0-c31c-9522ea6b58b2"
      },
      "source": [
        "s = '((((APSSDC python)))))))'\n",
        "\n",
        "\n",
        "print(s.lstrip('('), s.rstrip(')'), s.strip('()'))"
      ],
      "execution_count": 120,
      "outputs": [
        {
          "output_type": "stream",
          "text": [
            "APSSDC python))))))) ((((APSSDC python APSSDC python\n"
          ],
          "name": "stdout"
        }
      ]
    },
    {
      "cell_type": "code",
      "metadata": {
        "colab": {
          "base_uri": "https://localhost:8080/"
        },
        "id": "2whocqHmtnJo",
        "outputId": "7adab37c-b4c5-4fca-898a-bcdbd1679e46"
      },
      "source": [
        "s = '((((()))))[[[[]]]]]]]{{{{{{}}}}}}Cleaned data{{{{}}}}}}}}}}]]]])))))'\n",
        "\n",
        "\n",
        "print(s.strip('([{}])'))"
      ],
      "execution_count": 121,
      "outputs": [
        {
          "output_type": "stream",
          "text": [
            "Cleaned data\n"
          ],
          "name": "stdout"
        }
      ]
    },
    {
      "cell_type": "code",
      "metadata": {
        "colab": {
          "base_uri": "https://localhost:8080/"
        },
        "id": "TGl66BK5tyJB",
        "outputId": "ae292a6a-5afd-45fa-bec9-5b36f4921383"
      },
      "source": [
        "print(s1)"
      ],
      "execution_count": 123,
      "outputs": [
        {
          "output_type": "stream",
          "text": [
            "Python is an interpreted high-level general-purpose programming language. Python's design philosophy emphasizes code readability with its notable use of significant indentation. Wikipedia\n",
            "Developer: Python Software Foundation\n",
            "Stable release: 3.9.5 / 3 May 2021; 19 days ago\n",
            "Preview release: 3.10.0b1 / 3 May 2021; 19 days ago\n",
            "Typing discipline: Duck, dynamic, strong typing; gradual (since 3.5, but ignored in CPython)\n",
            "First appeared: February 1991; 30 years ago\n",
            "Paradigm: Multi-paradigm: object-oriented, procedural (imperative), functional, structured, reflective\n"
          ],
          "name": "stdout"
        }
      ]
    },
    {
      "cell_type": "code",
      "metadata": {
        "colab": {
          "base_uri": "https://localhost:8080/"
        },
        "id": "LXRhQEyWt9C5",
        "outputId": "c74a429a-0a56-4c18-a1aa-a53bbbc28b40"
      },
      "source": [
        "print(s1.split(' '))"
      ],
      "execution_count": 124,
      "outputs": [
        {
          "output_type": "stream",
          "text": [
            "['Python', 'is', 'an', 'interpreted', 'high-level', 'general-purpose', 'programming', 'language.', \"Python's\", 'design', 'philosophy', 'emphasizes', 'code', 'readability', 'with', 'its', 'notable', 'use', 'of', 'significant', 'indentation.', 'Wikipedia\\nDeveloper:', 'Python', 'Software', 'Foundation\\nStable', 'release:', '3.9.5', '/', '3', 'May', '2021;', '19', 'days', 'ago\\nPreview', 'release:', '3.10.0b1', '/', '3', 'May', '2021;', '19', 'days', 'ago\\nTyping', 'discipline:', 'Duck,', 'dynamic,', 'strong', 'typing;', 'gradual', '(since', '3.5,', 'but', 'ignored', 'in', 'CPython)\\nFirst', 'appeared:', 'February', '1991;', '30', 'years', 'ago\\nParadigm:', 'Multi-paradigm:', 'object-oriented,', 'procedural', '(imperative),', 'functional,', 'structured,', 'reflective']\n"
          ],
          "name": "stdout"
        }
      ]
    },
    {
      "cell_type": "code",
      "metadata": {
        "colab": {
          "base_uri": "https://localhost:8080/"
        },
        "id": "1flho16luNL4",
        "outputId": "7f5df064-3ee9-4c05-b328-a571e4f3bdb0"
      },
      "source": [
        "print(s1.split('\\n'))"
      ],
      "execution_count": 125,
      "outputs": [
        {
          "output_type": "stream",
          "text": [
            "[\"Python is an interpreted high-level general-purpose programming language. Python's design philosophy emphasizes code readability with its notable use of significant indentation. Wikipedia\", 'Developer: Python Software Foundation', 'Stable release: 3.9.5 / 3 May 2021; 19 days ago', 'Preview release: 3.10.0b1 / 3 May 2021; 19 days ago', 'Typing discipline: Duck, dynamic, strong typing; gradual (since 3.5, but ignored in CPython)', 'First appeared: February 1991; 30 years ago', 'Paradigm: Multi-paradigm: object-oriented, procedural (imperative), functional, structured, reflective']\n"
          ],
          "name": "stdout"
        }
      ]
    },
    {
      "cell_type": "code",
      "metadata": {
        "colab": {
          "base_uri": "https://localhost:8080/"
        },
        "id": "ZLd19ZFeuyBV",
        "outputId": "2ce7315d-23f6-4676-a166-635f7e9c40e6"
      },
      "source": [
        "print(s1.split('.'))\n",
        "\n",
        "sen = s1.split('.')"
      ],
      "execution_count": 126,
      "outputs": [
        {
          "output_type": "stream",
          "text": [
            "['Python is an interpreted high-level general-purpose programming language', \" Python's design philosophy emphasizes code readability with its notable use of significant indentation\", ' Wikipedia\\nDeveloper: Python Software Foundation\\nStable release: 3', '9', '5 / 3 May 2021; 19 days ago\\nPreview release: 3', '10', '0b1 / 3 May 2021; 19 days ago\\nTyping discipline: Duck, dynamic, strong typing; gradual (since 3', '5, but ignored in CPython)\\nFirst appeared: February 1991; 30 years ago\\nParadigm: Multi-paradigm: object-oriented, procedural (imperative), functional, structured, reflective']\n"
          ],
          "name": "stdout"
        }
      ]
    },
    {
      "cell_type": "code",
      "metadata": {
        "colab": {
          "base_uri": "https://localhost:8080/",
          "height": 86
        },
        "id": "NrgopC57vE-Z",
        "outputId": "0bbaac87-b9e1-4c82-d629-e50b2fd9c69f"
      },
      "source": [
        "'.'.join(sen)"
      ],
      "execution_count": 127,
      "outputs": [
        {
          "output_type": "execute_result",
          "data": {
            "application/vnd.google.colaboratory.intrinsic+json": {
              "type": "string"
            },
            "text/plain": [
              "\"Python is an interpreted high-level general-purpose programming language. Python's design philosophy emphasizes code readability with its notable use of significant indentation. Wikipedia\\nDeveloper: Python Software Foundation\\nStable release: 3.9.5 / 3 May 2021; 19 days ago\\nPreview release: 3.10.0b1 / 3 May 2021; 19 days ago\\nTyping discipline: Duck, dynamic, strong typing; gradual (since 3.5, but ignored in CPython)\\nFirst appeared: February 1991; 30 years ago\\nParadigm: Multi-paradigm: object-oriented, procedural (imperative), functional, structured, reflective\""
            ]
          },
          "metadata": {
            "tags": []
          },
          "execution_count": 127
        }
      ]
    },
    {
      "cell_type": "code",
      "metadata": {
        "colab": {
          "base_uri": "https://localhost:8080/",
          "height": 86
        },
        "id": "v59t6kTFvJxk",
        "outputId": "bc657a3e-0aa2-42f2-f8c4-0fe4b894db47"
      },
      "source": [
        "'**********'.join(sen)"
      ],
      "execution_count": 128,
      "outputs": [
        {
          "output_type": "execute_result",
          "data": {
            "application/vnd.google.colaboratory.intrinsic+json": {
              "type": "string"
            },
            "text/plain": [
              "\"Python is an interpreted high-level general-purpose programming language********** Python's design philosophy emphasizes code readability with its notable use of significant indentation********** Wikipedia\\nDeveloper: Python Software Foundation\\nStable release: 3**********9**********5 / 3 May 2021; 19 days ago\\nPreview release: 3**********10**********0b1 / 3 May 2021; 19 days ago\\nTyping discipline: Duck, dynamic, strong typing; gradual (since 3**********5, but ignored in CPython)\\nFirst appeared: February 1991; 30 years ago\\nParadigm: Multi-paradigm: object-oriented, procedural (imperative), functional, structured, reflective\""
            ]
          },
          "metadata": {
            "tags": []
          },
          "execution_count": 128
        }
      ]
    },
    {
      "cell_type": "code",
      "metadata": {
        "colab": {
          "base_uri": "https://localhost:8080/"
        },
        "id": "z9nKrMl_vTiW",
        "outputId": "5483ce04-3d6e-47cc-8300-a5705cf48894"
      },
      "source": [
        "print(s1.replace(' ', '-'))"
      ],
      "execution_count": 129,
      "outputs": [
        {
          "output_type": "stream",
          "text": [
            "Python-is-an-interpreted-high-level-general-purpose-programming-language.-Python's-design-philosophy-emphasizes-code-readability-with-its-notable-use-of-significant-indentation.-Wikipedia\n",
            "Developer:-Python-Software-Foundation\n",
            "Stable-release:-3.9.5-/-3-May-2021;-19-days-ago\n",
            "Preview-release:-3.10.0b1-/-3-May-2021;-19-days-ago\n",
            "Typing-discipline:-Duck,-dynamic,-strong-typing;-gradual-(since-3.5,-but-ignored-in-CPython)\n",
            "First-appeared:-February-1991;-30-years-ago\n",
            "Paradigm:-Multi-paradigm:-object-oriented,-procedural-(imperative),-functional,-structured,-reflective\n"
          ],
          "name": "stdout"
        }
      ]
    },
    {
      "cell_type": "code",
      "metadata": {
        "colab": {
          "base_uri": "https://localhost:8080/"
        },
        "id": "MjGmReILvb24",
        "outputId": "e1d11984-cdd8-49eb-f7c9-707fc7cccd05"
      },
      "source": [
        "print(s1.title())"
      ],
      "execution_count": 130,
      "outputs": [
        {
          "output_type": "stream",
          "text": [
            "Python Is An Interpreted High-Level General-Purpose Programming Language. Python'S Design Philosophy Emphasizes Code Readability With Its Notable Use Of Significant Indentation. Wikipedia\n",
            "Developer: Python Software Foundation\n",
            "Stable Release: 3.9.5 / 3 May 2021; 19 Days Ago\n",
            "Preview Release: 3.10.0B1 / 3 May 2021; 19 Days Ago\n",
            "Typing Discipline: Duck, Dynamic, Strong Typing; Gradual (Since 3.5, But Ignored In Cpython)\n",
            "First Appeared: February 1991; 30 Years Ago\n",
            "Paradigm: Multi-Paradigm: Object-Oriented, Procedural (Imperative), Functional, Structured, Reflective\n"
          ],
          "name": "stdout"
        }
      ]
    },
    {
      "cell_type": "code",
      "metadata": {
        "colab": {
          "base_uri": "https://localhost:8080/"
        },
        "id": "cKo6-q41vkHM",
        "outputId": "72d2e5a3-5124-459a-93ef-fc121bad38a0"
      },
      "source": [
        "print(s1.capitalize())"
      ],
      "execution_count": 131,
      "outputs": [
        {
          "output_type": "stream",
          "text": [
            "Python is an interpreted high-level general-purpose programming language. python's design philosophy emphasizes code readability with its notable use of significant indentation. wikipedia\n",
            "developer: python software foundation\n",
            "stable release: 3.9.5 / 3 may 2021; 19 days ago\n",
            "preview release: 3.10.0b1 / 3 may 2021; 19 days ago\n",
            "typing discipline: duck, dynamic, strong typing; gradual (since 3.5, but ignored in cpython)\n",
            "first appeared: february 1991; 30 years ago\n",
            "paradigm: multi-paradigm: object-oriented, procedural (imperative), functional, structured, reflective\n"
          ],
          "name": "stdout"
        }
      ]
    },
    {
      "cell_type": "code",
      "metadata": {
        "colab": {
          "base_uri": "https://localhost:8080/"
        },
        "id": "KNNhh4X8vw57",
        "outputId": "a66b8fe1-65f0-4f1e-8a79-7a90afe984d0"
      },
      "source": [
        "print(s1.istitle())"
      ],
      "execution_count": 132,
      "outputs": [
        {
          "output_type": "stream",
          "text": [
            "False\n"
          ],
          "name": "stdout"
        }
      ]
    },
    {
      "cell_type": "code",
      "metadata": {
        "colab": {
          "base_uri": "https://localhost:8080/"
        },
        "id": "QeSbLH0Hv2Vn",
        "outputId": "be8b20de-d107-4530-9422-1b9877f1fa56"
      },
      "source": [
        "print(s1.casefold())"
      ],
      "execution_count": 133,
      "outputs": [
        {
          "output_type": "stream",
          "text": [
            "python is an interpreted high-level general-purpose programming language. python's design philosophy emphasizes code readability with its notable use of significant indentation. wikipedia\n",
            "developer: python software foundation\n",
            "stable release: 3.9.5 / 3 may 2021; 19 days ago\n",
            "preview release: 3.10.0b1 / 3 may 2021; 19 days ago\n",
            "typing discipline: duck, dynamic, strong typing; gradual (since 3.5, but ignored in cpython)\n",
            "first appeared: february 1991; 30 years ago\n",
            "paradigm: multi-paradigm: object-oriented, procedural (imperative), functional, structured, reflective\n"
          ],
          "name": "stdout"
        }
      ]
    },
    {
      "cell_type": "code",
      "metadata": {
        "colab": {
          "base_uri": "https://localhost:8080/"
        },
        "id": "MrEMYxj-v8Yb",
        "outputId": "7780aaf9-fcef-4fe5-fdaa-5b25b646e7de"
      },
      "source": [
        "s = 'Python Programming'\n",
        "\n",
        "\n",
        "print(s.istitle())"
      ],
      "execution_count": 134,
      "outputs": [
        {
          "output_type": "stream",
          "text": [
            "True\n"
          ],
          "name": "stdout"
        }
      ]
    },
    {
      "cell_type": "code",
      "metadata": {
        "colab": {
          "base_uri": "https://localhost:8080/"
        },
        "id": "q0TEE8fLwD6B",
        "outputId": "56e77615-4aa5-4825-d48a-178906cb230c"
      },
      "source": [
        "certificate = 'I\"m certify that {} from Institute, on Program, from Date'.format('Haritha')\n",
        "\n",
        "print(certificate)"
      ],
      "execution_count": 140,
      "outputs": [
        {
          "output_type": "stream",
          "text": [
            "I\"m certify that Haritha from Institute, on Program, from Date\n"
          ],
          "name": "stdout"
        }
      ]
    },
    {
      "cell_type": "code",
      "metadata": {
        "colab": {
          "base_uri": "https://localhost:8080/"
        },
        "id": "WSESo2OCwdak",
        "outputId": "1c5424e5-a5ef-47e6-e120-a229389a0788"
      },
      "source": [
        "print('I\"m certify that {} from Institute, on Program, from {}'.format('Haritha', '01-June'))"
      ],
      "execution_count": 141,
      "outputs": [
        {
          "output_type": "stream",
          "text": [
            "I\"m certify that Haritha from Institute, on Program, from 01-June\n"
          ],
          "name": "stdout"
        }
      ]
    },
    {
      "cell_type": "code",
      "metadata": {
        "colab": {
          "base_uri": "https://localhost:8080/"
        },
        "id": "IpANms8VwyMb",
        "outputId": "e1cba4b0-cfc6-4890-dcdb-a940e814be36"
      },
      "source": [
        "print('I\"m certify that {0} from Institute, on Program, form {1}, {0} performance is excellant'.format('Haritha', '01-June'))"
      ],
      "execution_count": 143,
      "outputs": [
        {
          "output_type": "stream",
          "text": [
            "I\"m certify that Haritha from Institute, on Program, form 01-June, Haritha performance is excellant\n"
          ],
          "name": "stdout"
        }
      ]
    },
    {
      "cell_type": "code",
      "metadata": {
        "colab": {
          "base_uri": "https://localhost:8080/"
        },
        "id": "7ycmLvbiw99h",
        "outputId": "c15bfde8-e6bc-4cc9-afba-ed4cc5d7169e"
      },
      "source": [
        "s = 'asdfg'\n",
        "s3 = 'asd456'\n",
        "\n",
        "print(s.isalpha(), s3.isalnum())"
      ],
      "execution_count": 144,
      "outputs": [
        {
          "output_type": "stream",
          "text": [
            "True True\n"
          ],
          "name": "stdout"
        }
      ]
    },
    {
      "cell_type": "code",
      "metadata": {
        "colab": {
          "base_uri": "https://localhost:8080/"
        },
        "id": "0M_woyASxLCh",
        "outputId": "e1f22275-d5e8-4169-b745-5bbf88c7fca7"
      },
      "source": [
        "s4 = 'kubksvad wkek'\n",
        "\n",
        "print(s4.isalnum())"
      ],
      "execution_count": 145,
      "outputs": [
        {
          "output_type": "stream",
          "text": [
            "False\n"
          ],
          "name": "stdout"
        }
      ]
    },
    {
      "cell_type": "code",
      "metadata": {
        "id": "ry6l0H3qxRYs"
      },
      "source": [
        "s1 = \"\"\"Python is an interpreted high-level general-purpose programming language. Python's design philosophy emphasizes code readability with its notable use of significant indentation. Wikipedia\n",
        "Developer: Python Software Foundation\n",
        "Stable release: 3.9.5 / 3 May 2021; 19 days ago\n",
        "Preview release: 3.10.0b1 / 3 May 2021; 19 days ago\n",
        "Typing discipline: Duck, dynamic, strong typing; gradual (since 3.5, but ignored in CPython)\n",
        "First appeared: February 1991; 30 years ago\n",
        "Paradigm: Multi-paradigm: object-oriented, procedural (imperative), functional, structured, reflective\"\"\""
      ],
      "execution_count": 146,
      "outputs": []
    },
    {
      "cell_type": "code",
      "metadata": {
        "colab": {
          "base_uri": "https://localhost:8080/"
        },
        "id": "FL5Wu_HKxdzy",
        "outputId": "1ec42aa3-2536-4968-c4ea-8dde75bea5be"
      },
      "source": [
        "for char in s1:\n",
        "    print(char, end = '\\t')"
      ],
      "execution_count": 147,
      "outputs": [
        {
          "output_type": "stream",
          "text": [
            "P\ty\tt\th\to\tn\t \ti\ts\t \ta\tn\t \ti\tn\tt\te\tr\tp\tr\te\tt\te\td\t \th\ti\tg\th\t-\tl\te\tv\te\tl\t \tg\te\tn\te\tr\ta\tl\t-\tp\tu\tr\tp\to\ts\te\t \tp\tr\to\tg\tr\ta\tm\tm\ti\tn\tg\t \tl\ta\tn\tg\tu\ta\tg\te\t.\t \tP\ty\tt\th\to\tn\t'\ts\t \td\te\ts\ti\tg\tn\t \tp\th\ti\tl\to\ts\to\tp\th\ty\t \te\tm\tp\th\ta\ts\ti\tz\te\ts\t \tc\to\td\te\t \tr\te\ta\td\ta\tb\ti\tl\ti\tt\ty\t \tw\ti\tt\th\t \ti\tt\ts\t \tn\to\tt\ta\tb\tl\te\t \tu\ts\te\t \to\tf\t \ts\ti\tg\tn\ti\tf\ti\tc\ta\tn\tt\t \ti\tn\td\te\tn\tt\ta\tt\ti\to\tn\t.\t \tW\ti\tk\ti\tp\te\td\ti\ta\t\n",
            "\tD\te\tv\te\tl\to\tp\te\tr\t:\t \tP\ty\tt\th\to\tn\t \tS\to\tf\tt\tw\ta\tr\te\t \tF\to\tu\tn\td\ta\tt\ti\to\tn\t\n",
            "\tS\tt\ta\tb\tl\te\t \tr\te\tl\te\ta\ts\te\t:\t \t3\t.\t9\t.\t5\t \t/\t \t3\t \tM\ta\ty\t \t2\t0\t2\t1\t;\t \t1\t9\t \td\ta\ty\ts\t \ta\tg\to\t\n",
            "\tP\tr\te\tv\ti\te\tw\t \tr\te\tl\te\ta\ts\te\t:\t \t3\t.\t1\t0\t.\t0\tb\t1\t \t/\t \t3\t \tM\ta\ty\t \t2\t0\t2\t1\t;\t \t1\t9\t \td\ta\ty\ts\t \ta\tg\to\t\n",
            "\tT\ty\tp\ti\tn\tg\t \td\ti\ts\tc\ti\tp\tl\ti\tn\te\t:\t \tD\tu\tc\tk\t,\t \td\ty\tn\ta\tm\ti\tc\t,\t \ts\tt\tr\to\tn\tg\t \tt\ty\tp\ti\tn\tg\t;\t \tg\tr\ta\td\tu\ta\tl\t \t(\ts\ti\tn\tc\te\t \t3\t.\t5\t,\t \tb\tu\tt\t \ti\tg\tn\to\tr\te\td\t \ti\tn\t \tC\tP\ty\tt\th\to\tn\t)\t\n",
            "\tF\ti\tr\ts\tt\t \ta\tp\tp\te\ta\tr\te\td\t:\t \tF\te\tb\tr\tu\ta\tr\ty\t \t1\t9\t9\t1\t;\t \t3\t0\t \ty\te\ta\tr\ts\t \ta\tg\to\t\n",
            "\tP\ta\tr\ta\td\ti\tg\tm\t:\t \tM\tu\tl\tt\ti\t-\tp\ta\tr\ta\td\ti\tg\tm\t:\t \to\tb\tj\te\tc\tt\t-\to\tr\ti\te\tn\tt\te\td\t,\t \tp\tr\to\tc\te\td\tu\tr\ta\tl\t \t(\ti\tm\tp\te\tr\ta\tt\ti\tv\te\t)\t,\t \tf\tu\tn\tc\tt\ti\to\tn\ta\tl\t,\t \ts\tt\tr\tu\tc\tt\tu\tr\te\td\t,\t \tr\te\tf\tl\te\tc\tt\ti\tv\te\t"
          ],
          "name": "stdout"
        }
      ]
    },
    {
      "cell_type": "code",
      "metadata": {
        "colab": {
          "base_uri": "https://localhost:8080/"
        },
        "id": "mLhk9cSXyNvG",
        "outputId": "48abd162-b159-40b3-fed5-061e83cedee5"
      },
      "source": [
        "for char in s1:\n",
        "    if char.isalpha():\n",
        "        print(char, end = '\\t')"
      ],
      "execution_count": 148,
      "outputs": [
        {
          "output_type": "stream",
          "text": [
            "P\ty\tt\th\to\tn\ti\ts\ta\tn\ti\tn\tt\te\tr\tp\tr\te\tt\te\td\th\ti\tg\th\tl\te\tv\te\tl\tg\te\tn\te\tr\ta\tl\tp\tu\tr\tp\to\ts\te\tp\tr\to\tg\tr\ta\tm\tm\ti\tn\tg\tl\ta\tn\tg\tu\ta\tg\te\tP\ty\tt\th\to\tn\ts\td\te\ts\ti\tg\tn\tp\th\ti\tl\to\ts\to\tp\th\ty\te\tm\tp\th\ta\ts\ti\tz\te\ts\tc\to\td\te\tr\te\ta\td\ta\tb\ti\tl\ti\tt\ty\tw\ti\tt\th\ti\tt\ts\tn\to\tt\ta\tb\tl\te\tu\ts\te\to\tf\ts\ti\tg\tn\ti\tf\ti\tc\ta\tn\tt\ti\tn\td\te\tn\tt\ta\tt\ti\to\tn\tW\ti\tk\ti\tp\te\td\ti\ta\tD\te\tv\te\tl\to\tp\te\tr\tP\ty\tt\th\to\tn\tS\to\tf\tt\tw\ta\tr\te\tF\to\tu\tn\td\ta\tt\ti\to\tn\tS\tt\ta\tb\tl\te\tr\te\tl\te\ta\ts\te\tM\ta\ty\td\ta\ty\ts\ta\tg\to\tP\tr\te\tv\ti\te\tw\tr\te\tl\te\ta\ts\te\tb\tM\ta\ty\td\ta\ty\ts\ta\tg\to\tT\ty\tp\ti\tn\tg\td\ti\ts\tc\ti\tp\tl\ti\tn\te\tD\tu\tc\tk\td\ty\tn\ta\tm\ti\tc\ts\tt\tr\to\tn\tg\tt\ty\tp\ti\tn\tg\tg\tr\ta\td\tu\ta\tl\ts\ti\tn\tc\te\tb\tu\tt\ti\tg\tn\to\tr\te\td\ti\tn\tC\tP\ty\tt\th\to\tn\tF\ti\tr\ts\tt\ta\tp\tp\te\ta\tr\te\td\tF\te\tb\tr\tu\ta\tr\ty\ty\te\ta\tr\ts\ta\tg\to\tP\ta\tr\ta\td\ti\tg\tm\tM\tu\tl\tt\ti\tp\ta\tr\ta\td\ti\tg\tm\to\tb\tj\te\tc\tt\to\tr\ti\te\tn\tt\te\td\tp\tr\to\tc\te\td\tu\tr\ta\tl\ti\tm\tp\te\tr\ta\tt\ti\tv\te\tf\tu\tn\tc\tt\ti\to\tn\ta\tl\ts\tt\tr\tu\tc\tt\tu\tr\te\td\tr\te\tf\tl\te\tc\tt\ti\tv\te\t"
          ],
          "name": "stdout"
        }
      ]
    },
    {
      "cell_type": "code",
      "metadata": {
        "colab": {
          "base_uri": "https://localhost:8080/"
        },
        "id": "Lrc-4_Lzywge",
        "outputId": "91bdd06b-db5c-4ac8-b353-d533c8c909d5"
      },
      "source": [
        "\n",
        "for char in s1:\n",
        "    if char.isdigit():\n",
        "        print(char, end = '\\t')"
      ],
      "execution_count": 149,
      "outputs": [
        {
          "output_type": "stream",
          "text": [
            "3\t9\t5\t3\t2\t0\t2\t1\t1\t9\t3\t1\t0\t0\t1\t3\t2\t0\t2\t1\t1\t9\t3\t5\t1\t9\t9\t1\t3\t0\t"
          ],
          "name": "stdout"
        }
      ]
    },
    {
      "cell_type": "code",
      "metadata": {
        "colab": {
          "base_uri": "https://localhost:8080/"
        },
        "id": "zyWFmuAvy7cu",
        "outputId": "aa802f1b-ffc6-42b2-d9ec-5a4d3ed8c642"
      },
      "source": [
        "for char in s1:\n",
        "    if char in 'AEIOUaeiou':\n",
        "        print(char, end = '\\t')"
      ],
      "execution_count": 150,
      "outputs": [
        {
          "output_type": "stream",
          "text": [
            "o\ti\ta\ti\te\te\te\ti\te\te\te\te\ta\tu\to\te\to\ta\ti\ta\tu\ta\te\to\te\ti\ti\to\to\te\ta\ti\te\to\te\te\ta\ta\ti\ti\ti\ti\to\ta\te\tu\te\to\ti\ti\ti\ta\ti\te\ta\ti\to\ti\ti\te\ti\ta\te\te\to\te\to\to\ta\te\to\tu\ta\ti\to\ta\te\te\te\ta\te\ta\ta\ta\to\te\ti\te\te\te\ta\te\ta\ta\ta\to\ti\ti\ti\ti\te\tu\ta\ti\to\ti\ta\tu\ta\ti\te\tu\ti\to\te\ti\to\ti\ta\te\ta\te\te\tu\ta\te\ta\ta\to\ta\ta\ti\tu\ti\ta\ta\ti\to\te\to\ti\te\te\to\te\tu\ta\ti\te\ta\ti\te\tu\ti\to\ta\tu\tu\te\te\te\ti\te\t"
          ],
          "name": "stdout"
        }
      ]
    },
    {
      "cell_type": "code",
      "metadata": {
        "colab": {
          "base_uri": "https://localhost:8080/"
        },
        "id": "SAgDm46hzELj",
        "outputId": "a9b2b2bd-6f78-41da-e50e-0a11e9ef09e0"
      },
      "source": [
        "ac = 0\n",
        "nc = 0\n",
        "sc = 0\n",
        "\n",
        "for char in s1:\n",
        "    if char.isalpha():\n",
        "        ac += 1\n",
        "    elif char.isdigit():\n",
        "        nc += 1\n",
        "    else:\n",
        "        sc += 1\n",
        "        \n",
        "print('Alpha', ac, 'Digits', nc, \"Special Charac\", sc)"
      ],
      "execution_count": 151,
      "outputs": [
        {
          "output_type": "stream",
          "text": [
            "Alpha 426 Digits 30 Special Charac 109\n"
          ],
          "name": "stdout"
        }
      ]
    },
    {
      "cell_type": "markdown",
      "metadata": {
        "id": "I_OTRq3Nz0YH"
      },
      "source": [
        "### Problems\n",
        "- sum of the digits in the string\n",
        "- sum of the even digits and odd digits in the string\n",
        "### **Lists**\n",
        "- It is used to store the non-homogenous group of valid datatypes in python\n",
        "\n",
        "### Properties\n",
        "- it is declared as []\n",
        "- List mutable dataType\n",
        "- List is an ordered data\n",
        "- It is iterable"
      ]
    },
    {
      "cell_type": "code",
      "metadata": {
        "id": "Ig_Yo4j20Phm"
      },
      "source": [
        "li = []\n",
        "\n",
        "li2 = list()"
      ],
      "execution_count": 153,
      "outputs": []
    },
    {
      "cell_type": "code",
      "metadata": {
        "colab": {
          "base_uri": "https://localhost:8080/"
        },
        "id": "NUY_lFyU0181",
        "outputId": "bc5e5254-02cb-46f9-9925-3acbd9de6a70"
      },
      "source": [
        "print(type(li), type(li2))"
      ],
      "execution_count": 154,
      "outputs": [
        {
          "output_type": "stream",
          "text": [
            "<class 'list'> <class 'list'>\n"
          ],
          "name": "stdout"
        }
      ]
    },
    {
      "cell_type": "code",
      "metadata": {
        "colab": {
          "base_uri": "https://localhost:8080/"
        },
        "id": "PsFQlbdf1KIp",
        "outputId": "c97be6a3-7f5e-47ed-d76c-71c59a415293"
      },
      "source": [
        "li = [1, 5.5, 5 + 6j, 'Python', [1, 2, 3]]\n",
        "\n",
        "print(li)"
      ],
      "execution_count": 155,
      "outputs": [
        {
          "output_type": "stream",
          "text": [
            "[1, 5.5, (5+6j), 'Python', [1, 2, 3]]\n"
          ],
          "name": "stdout"
        }
      ]
    },
    {
      "cell_type": "code",
      "metadata": {
        "colab": {
          "base_uri": "https://localhost:8080/"
        },
        "id": "MJkwZJqj1Xua",
        "outputId": "c435c601-b72c-4ca0-e036-637688c742ba"
      },
      "source": [
        "print(rollNo)"
      ],
      "execution_count": 156,
      "outputs": [
        {
          "output_type": "stream",
          "text": [
            "19KQ1A0237\n"
          ],
          "name": "stdout"
        }
      ]
    },
    {
      "cell_type": "code",
      "metadata": {
        "colab": {
          "base_uri": "https://localhost:8080/"
        },
        "id": "PePE8hsy1d6O",
        "outputId": "a70387a7-d3a8-4328-a77e-a7cd81a2b8b4"
      },
      "source": [
        "rollNo[-4:-2] == '02'"
      ],
      "execution_count": 157,
      "outputs": [
        {
          "output_type": "execute_result",
          "data": {
            "text/plain": [
              "True"
            ]
          },
          "metadata": {
            "tags": []
          },
          "execution_count": 157
        }
      ]
    },
    {
      "cell_type": "code",
      "metadata": {
        "colab": {
          "base_uri": "https://localhost:8080/"
        },
        "id": "_1ig4KZG1rJX",
        "outputId": "81d4cc3b-5c31-45be-a763-c4c1e73454c5"
      },
      "source": [
        "rollNo[-4:-2].endswith('02')"
      ],
      "execution_count": 158,
      "outputs": [
        {
          "output_type": "execute_result",
          "data": {
            "text/plain": [
              "True"
            ]
          },
          "metadata": {
            "tags": []
          },
          "execution_count": 158
        }
      ]
    },
    {
      "cell_type": "markdown",
      "metadata": {
        "id": "UIi0SKxU15UV"
      },
      "source": [
        "\n",
        "### **Day Outcomes**\n",
        "- Strings\n",
        " - Slicing in Python\n",
        " - String Methods\n",
        "- Lists\n",
        "  - Declaring a List"
      ]
    }
  ]
}