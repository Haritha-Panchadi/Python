{
  "nbformat": 4,
  "nbformat_minor": 0,
  "metadata": {
    "colab": {
      "name": "Day09_Lists and Tuples.ipynb",
      "provenance": [],
      "collapsed_sections": []
    },
    "kernelspec": {
      "name": "python3",
      "display_name": "Python 3"
    },
    "language_info": {
      "name": "python"
    }
  },
  "cells": [
    {
      "cell_type": "markdown",
      "metadata": {
        "id": "YJL36drsg1U-"
      },
      "source": [
        "### Recap\n",
        "- Strings\n",
        "- String Methods\n",
        "- List Intro..\n",
        "### Todays Objectives\n",
        "- Accessing Elements of List\n",
        "  - Indexing\n",
        "  - Slicing\n",
        "- List Methods\n",
        "- Tuple\n",
        "  - Accessing Elements of Tuple\n",
        "      - Indexing\n",
        "      - Slicing\n",
        "  - Tuple Methods"
      ]
    },
    {
      "cell_type": "code",
      "metadata": {
        "id": "V5665W9RieeN"
      },
      "source": [
        "li = [1, 2, 5, 4, 8, 85]"
      ],
      "execution_count": 2,
      "outputs": []
    },
    {
      "cell_type": "code",
      "metadata": {
        "colab": {
          "base_uri": "https://localhost:8080/"
        },
        "id": "gzwrjoeoim-2",
        "outputId": "0255fb74-947b-49f8-d289-4446d87137b4"
      },
      "source": [
        "print(len(li), max(li), min(li), sum(li))"
      ],
      "execution_count": 3,
      "outputs": [
        {
          "output_type": "stream",
          "text": [
            "6 85 1 105\n"
          ],
          "name": "stdout"
        }
      ]
    },
    {
      "cell_type": "code",
      "metadata": {
        "colab": {
          "base_uri": "https://localhost:8080/",
          "height": 214
        },
        "id": "4_pxzhBDipyE",
        "outputId": "ee2f70b9-7a44-4d79-9f31-570e1d8bbd5d"
      },
      "source": [
        "li2 = [1, 2, 5, 4, 8, 85, 'Python']\n",
        "\n",
        "\n",
        "print(len(li2))\n",
        "print(min(li2))"
      ],
      "execution_count": 4,
      "outputs": [
        {
          "output_type": "stream",
          "text": [
            "7\n"
          ],
          "name": "stdout"
        },
        {
          "output_type": "error",
          "ename": "TypeError",
          "evalue": "ignored",
          "traceback": [
            "\u001b[0;31m---------------------------------------------------------------------------\u001b[0m",
            "\u001b[0;31mTypeError\u001b[0m                                 Traceback (most recent call last)",
            "\u001b[0;32m<ipython-input-4-4dbd9b3f513b>\u001b[0m in \u001b[0;36m<module>\u001b[0;34m()\u001b[0m\n\u001b[1;32m      3\u001b[0m \u001b[0;34m\u001b[0m\u001b[0m\n\u001b[1;32m      4\u001b[0m \u001b[0mprint\u001b[0m\u001b[0;34m(\u001b[0m\u001b[0mlen\u001b[0m\u001b[0;34m(\u001b[0m\u001b[0mli2\u001b[0m\u001b[0;34m)\u001b[0m\u001b[0;34m)\u001b[0m\u001b[0;34m\u001b[0m\u001b[0;34m\u001b[0m\u001b[0m\n\u001b[0;32m----> 5\u001b[0;31m \u001b[0mprint\u001b[0m\u001b[0;34m(\u001b[0m\u001b[0mmin\u001b[0m\u001b[0;34m(\u001b[0m\u001b[0mli2\u001b[0m\u001b[0;34m)\u001b[0m\u001b[0;34m)\u001b[0m\u001b[0;34m\u001b[0m\u001b[0;34m\u001b[0m\u001b[0m\n\u001b[0m",
            "\u001b[0;31mTypeError\u001b[0m: '<' not supported between instances of 'str' and 'int'"
          ]
        }
      ]
    },
    {
      "cell_type": "markdown",
      "metadata": {
        "id": "2jfViTqLiwtX"
      },
      "source": [
        "### Accessing Elements from the list\n",
        "- Indexing\n",
        "  - +ve\n",
        "  - -ve\n",
        "- Slicing\n",
        "  - +ve\n",
        "  - -ve"
      ]
    },
    {
      "cell_type": "code",
      "metadata": {
        "colab": {
          "base_uri": "https://localhost:8080/"
        },
        "id": "csq7nekQi9nP",
        "outputId": "f71079ca-d0d7-4696-9575-d18442814bff"
      },
      "source": [
        "print(li[0])"
      ],
      "execution_count": 5,
      "outputs": [
        {
          "output_type": "stream",
          "text": [
            "1\n"
          ],
          "name": "stdout"
        }
      ]
    },
    {
      "cell_type": "code",
      "metadata": {
        "colab": {
          "base_uri": "https://localhost:8080/"
        },
        "id": "6g4PZc7Wi_5y",
        "outputId": "70536e38-7022-46e3-d6cb-c110d669899a"
      },
      "source": [
        "print(li[5])"
      ],
      "execution_count": 6,
      "outputs": [
        {
          "output_type": "stream",
          "text": [
            "85\n"
          ],
          "name": "stdout"
        }
      ]
    },
    {
      "cell_type": "code",
      "metadata": {
        "colab": {
          "base_uri": "https://localhost:8080/"
        },
        "id": "R9hcGGBdjCPo",
        "outputId": "bee6c9ff-d7d6-41dd-ba1b-ce39ab93dfc8"
      },
      "source": [
        "\n",
        "print(li[-2])"
      ],
      "execution_count": 7,
      "outputs": [
        {
          "output_type": "stream",
          "text": [
            "8\n"
          ],
          "name": "stdout"
        }
      ]
    },
    {
      "cell_type": "code",
      "metadata": {
        "colab": {
          "base_uri": "https://localhost:8080/"
        },
        "id": "0N_7BhVijGMB",
        "outputId": "93bf3379-b610-47d8-b067-2717447ed07b"
      },
      "source": [
        "print(li[-6])"
      ],
      "execution_count": 8,
      "outputs": [
        {
          "output_type": "stream",
          "text": [
            "1\n"
          ],
          "name": "stdout"
        }
      ]
    },
    {
      "cell_type": "code",
      "metadata": {
        "colab": {
          "base_uri": "https://localhost:8080/",
          "height": 163
        },
        "id": "veGc3_xbjIik",
        "outputId": "0dc74eb3-7758-481a-e083-4022672efbc6"
      },
      "source": [
        "print(li[7])"
      ],
      "execution_count": 9,
      "outputs": [
        {
          "output_type": "error",
          "ename": "IndexError",
          "evalue": "ignored",
          "traceback": [
            "\u001b[0;31m---------------------------------------------------------------------------\u001b[0m",
            "\u001b[0;31mIndexError\u001b[0m                                Traceback (most recent call last)",
            "\u001b[0;32m<ipython-input-9-c96b4b304720>\u001b[0m in \u001b[0;36m<module>\u001b[0;34m()\u001b[0m\n\u001b[0;32m----> 1\u001b[0;31m \u001b[0mprint\u001b[0m\u001b[0;34m(\u001b[0m\u001b[0mli\u001b[0m\u001b[0;34m[\u001b[0m\u001b[0;36m7\u001b[0m\u001b[0;34m]\u001b[0m\u001b[0;34m)\u001b[0m\u001b[0;34m\u001b[0m\u001b[0;34m\u001b[0m\u001b[0m\n\u001b[0m",
            "\u001b[0;31mIndexError\u001b[0m: list index out of range"
          ]
        }
      ]
    },
    {
      "cell_type": "code",
      "metadata": {
        "colab": {
          "base_uri": "https://localhost:8080/",
          "height": 163
        },
        "id": "cbrgRgyljKzs",
        "outputId": "f1c230f3-9a43-4225-a19f-d265386a669b"
      },
      "source": [
        "print(li[1.2])"
      ],
      "execution_count": 10,
      "outputs": [
        {
          "output_type": "error",
          "ename": "TypeError",
          "evalue": "ignored",
          "traceback": [
            "\u001b[0;31m---------------------------------------------------------------------------\u001b[0m",
            "\u001b[0;31mTypeError\u001b[0m                                 Traceback (most recent call last)",
            "\u001b[0;32m<ipython-input-10-f165e6fb7646>\u001b[0m in \u001b[0;36m<module>\u001b[0;34m()\u001b[0m\n\u001b[0;32m----> 1\u001b[0;31m \u001b[0mprint\u001b[0m\u001b[0;34m(\u001b[0m\u001b[0mli\u001b[0m\u001b[0;34m[\u001b[0m\u001b[0;36m1.2\u001b[0m\u001b[0;34m]\u001b[0m\u001b[0;34m)\u001b[0m\u001b[0;34m\u001b[0m\u001b[0;34m\u001b[0m\u001b[0m\n\u001b[0m",
            "\u001b[0;31mTypeError\u001b[0m: list indices must be integers or slices, not float"
          ]
        }
      ]
    },
    {
      "cell_type": "markdown",
      "metadata": {
        "id": "pgxje_4KjMAA"
      },
      "source": [
        "### Syntax\n",
        "list_var[SI: EI]"
      ]
    },
    {
      "cell_type": "code",
      "metadata": {
        "colab": {
          "base_uri": "https://localhost:8080/"
        },
        "id": "G9_c6P-hjTPn",
        "outputId": "442ea3d0-267b-4674-ddf7-3887ecd0fdfe"
      },
      "source": [
        "print(li[0:1], li[0: 2], li[: 2], li[0:])"
      ],
      "execution_count": 11,
      "outputs": [
        {
          "output_type": "stream",
          "text": [
            "[1] [1, 2] [1, 2] [1, 2, 5, 4, 8, 85]\n"
          ],
          "name": "stdout"
        }
      ]
    },
    {
      "cell_type": "code",
      "metadata": {
        "colab": {
          "base_uri": "https://localhost:8080/"
        },
        "id": "moXdb-HqjVes",
        "outputId": "742adeb8-716c-49d0-9897-9523ee88a3e4"
      },
      "source": [
        "print(li[:-2], li[-1:-3], li[4:], li[len(li) - 2:], li[:-3])"
      ],
      "execution_count": 12,
      "outputs": [
        {
          "output_type": "stream",
          "text": [
            "[1, 2, 5, 4] [] [8, 85] [8, 85] [1, 2, 5]\n"
          ],
          "name": "stdout"
        }
      ]
    },
    {
      "cell_type": "code",
      "metadata": {
        "colab": {
          "base_uri": "https://localhost:8080/"
        },
        "id": "12kzlcVbjYOe",
        "outputId": "50fbe86c-79d3-4330-f7b7-bcd95e18bcff"
      },
      "source": [
        "print(li[-2: ], li[-3: ], li[-3: -1])"
      ],
      "execution_count": 13,
      "outputs": [
        {
          "output_type": "stream",
          "text": [
            "[8, 85] [4, 8, 85] [4, 8]\n"
          ],
          "name": "stdout"
        }
      ]
    },
    {
      "cell_type": "code",
      "metadata": {
        "colab": {
          "base_uri": "https://localhost:8080/"
        },
        "id": "UqTUoctFja2I",
        "outputId": "33ff1716-f929-4c00-f41b-1dcc82abdb0f"
      },
      "source": [
        "print(li[ : 2: -1])\n"
      ],
      "execution_count": 14,
      "outputs": [
        {
          "output_type": "stream",
          "text": [
            "[85, 8, 4]\n"
          ],
          "name": "stdout"
        }
      ]
    },
    {
      "cell_type": "code",
      "metadata": {
        "colab": {
          "base_uri": "https://localhost:8080/"
        },
        "id": "cNPQXzKijlt7",
        "outputId": "9f74ac98-7b71-46e6-fbb3-8205a87dd7db"
      },
      "source": [
        "print(li[::-1])"
      ],
      "execution_count": 15,
      "outputs": [
        {
          "output_type": "stream",
          "text": [
            "[85, 8, 4, 5, 2, 1]\n"
          ],
          "name": "stdout"
        }
      ]
    },
    {
      "cell_type": "code",
      "metadata": {
        "colab": {
          "base_uri": "https://localhost:8080/"
        },
        "id": "KKj0rpMRjqRb",
        "outputId": "3a76b47d-435a-4300-9178-f8b336c9dd5a"
      },
      "source": [
        "print(li[0::2])"
      ],
      "execution_count": 17,
      "outputs": [
        {
          "output_type": "stream",
          "text": [
            "[1, 5, 8]\n"
          ],
          "name": "stdout"
        }
      ]
    },
    {
      "cell_type": "code",
      "metadata": {
        "colab": {
          "base_uri": "https://localhost:8080/"
        },
        "id": "RS6lCnhojsak",
        "outputId": "66afa3f8-f7a4-4a35-efaf-2168ce6c5ba6"
      },
      "source": [
        "print(li[:2:-1])"
      ],
      "execution_count": 19,
      "outputs": [
        {
          "output_type": "stream",
          "text": [
            "[85, 8, 4]\n"
          ],
          "name": "stdout"
        }
      ]
    },
    {
      "cell_type": "code",
      "metadata": {
        "colab": {
          "base_uri": "https://localhost:8080/"
        },
        "id": "K7dM8w2Bju-9",
        "outputId": "d726a47b-bd91-40e9-c0df-8b9985010a1c"
      },
      "source": [
        "li"
      ],
      "execution_count": 20,
      "outputs": [
        {
          "output_type": "execute_result",
          "data": {
            "text/plain": [
              "[1, 2, 5, 4, 8, 85]"
            ]
          },
          "metadata": {
            "tags": []
          },
          "execution_count": 20
        }
      ]
    },
    {
      "cell_type": "code",
      "metadata": {
        "colab": {
          "base_uri": "https://localhost:8080/"
        },
        "id": "j-An7zpIjwCo",
        "outputId": "56eda40d-d9b8-4748-9391-94d2b9a46420"
      },
      "source": [
        "print(li[:2:-1])"
      ],
      "execution_count": 21,
      "outputs": [
        {
          "output_type": "stream",
          "text": [
            "[85, 8, 4]\n"
          ],
          "name": "stdout"
        }
      ]
    },
    {
      "cell_type": "code",
      "metadata": {
        "colab": {
          "base_uri": "https://localhost:8080/"
        },
        "id": "b29BGX6NjygH",
        "outputId": "8ac8378b-7a64-4c74-e8cd-8f28a3512b92"
      },
      "source": [
        "print(li[: :-1])"
      ],
      "execution_count": 22,
      "outputs": [
        {
          "output_type": "stream",
          "text": [
            "[85, 8, 4, 5, 2, 1]\n"
          ],
          "name": "stdout"
        }
      ]
    },
    {
      "cell_type": "code",
      "metadata": {
        "colab": {
          "base_uri": "https://localhost:8080/"
        },
        "id": "uZSW9HtLj2e1",
        "outputId": "e7085f61-46ff-4968-baa5-f7cfa7afd287"
      },
      "source": [
        "print(li[: :2])"
      ],
      "execution_count": 23,
      "outputs": [
        {
          "output_type": "stream",
          "text": [
            "[1, 5, 8]\n"
          ],
          "name": "stdout"
        }
      ]
    },
    {
      "cell_type": "code",
      "metadata": {
        "colab": {
          "base_uri": "https://localhost:8080/"
        },
        "id": "4aH6eq-Oj4gf",
        "outputId": "afe0d421-d080-4d29-8111-6c832948450c"
      },
      "source": [
        "print(li[: :-2])"
      ],
      "execution_count": 24,
      "outputs": [
        {
          "output_type": "stream",
          "text": [
            "[85, 4, 2]\n"
          ],
          "name": "stdout"
        }
      ]
    },
    {
      "cell_type": "code",
      "metadata": {
        "colab": {
          "base_uri": "https://localhost:8080/"
        },
        "id": "OoZDnWD5j-VK",
        "outputId": "80fcb1c0-bffc-4af0-9795-45fa26ef31db"
      },
      "source": [
        "print(li)"
      ],
      "execution_count": 25,
      "outputs": [
        {
          "output_type": "stream",
          "text": [
            "[1, 2, 5, 4, 8, 85]\n"
          ],
          "name": "stdout"
        }
      ]
    },
    {
      "cell_type": "code",
      "metadata": {
        "colab": {
          "base_uri": "https://localhost:8080/"
        },
        "id": "UHe7JeSfkAjm",
        "outputId": "37de9435-934f-4202-b3cf-a7cc51efee65"
      },
      "source": [
        "print(li2)"
      ],
      "execution_count": 26,
      "outputs": [
        {
          "output_type": "stream",
          "text": [
            "[1, 2, 5, 4, 8, 85, 'Python']\n"
          ],
          "name": "stdout"
        }
      ]
    },
    {
      "cell_type": "code",
      "metadata": {
        "colab": {
          "base_uri": "https://localhost:8080/"
        },
        "id": "OBJ4d9Z3kDEU",
        "outputId": "0fb75406-ce3e-4e3e-b4fe-8d6343cd3fcb"
      },
      "source": [
        "print(len(li2))"
      ],
      "execution_count": 27,
      "outputs": [
        {
          "output_type": "stream",
          "text": [
            "7\n"
          ],
          "name": "stdout"
        }
      ]
    },
    {
      "cell_type": "code",
      "metadata": {
        "colab": {
          "base_uri": "https://localhost:8080/"
        },
        "id": "h9-mLp0ckEOC",
        "outputId": "7e58867d-19b1-4197-fb3c-63b1063cfebe"
      },
      "source": [
        "print(li2[0], li2[5])"
      ],
      "execution_count": 28,
      "outputs": [
        {
          "output_type": "stream",
          "text": [
            "1 85\n"
          ],
          "name": "stdout"
        }
      ]
    },
    {
      "cell_type": "code",
      "metadata": {
        "colab": {
          "base_uri": "https://localhost:8080/"
        },
        "id": "F0JK9-8nkHeE",
        "outputId": "fd4ee9fd-b289-4103-cf17-e9ee381b5adf"
      },
      "source": [
        "print(li2[-1], li[-2])"
      ],
      "execution_count": 29,
      "outputs": [
        {
          "output_type": "stream",
          "text": [
            "Python 8\n"
          ],
          "name": "stdout"
        }
      ]
    },
    {
      "cell_type": "code",
      "metadata": {
        "colab": {
          "base_uri": "https://localhost:8080/",
          "height": 35
        },
        "id": "27cBlrxekJvT",
        "outputId": "0234ae97-6760-4c74-a004-b3c613cdd28c"
      },
      "source": [
        "li2[-1].upper()"
      ],
      "execution_count": 30,
      "outputs": [
        {
          "output_type": "execute_result",
          "data": {
            "application/vnd.google.colaboratory.intrinsic+json": {
              "type": "string"
            },
            "text/plain": [
              "'PYTHON'"
            ]
          },
          "metadata": {
            "tags": []
          },
          "execution_count": 30
        }
      ]
    },
    {
      "cell_type": "code",
      "metadata": {
        "colab": {
          "base_uri": "https://localhost:8080/",
          "height": 35
        },
        "id": "DONurNQQkNN3",
        "outputId": "aaf95260-9cd4-4253-8715-3039954f973d"
      },
      "source": [
        "li2[-1].strip()"
      ],
      "execution_count": 31,
      "outputs": [
        {
          "output_type": "execute_result",
          "data": {
            "application/vnd.google.colaboratory.intrinsic+json": {
              "type": "string"
            },
            "text/plain": [
              "'Python'"
            ]
          },
          "metadata": {
            "tags": []
          },
          "execution_count": 31
        }
      ]
    },
    {
      "cell_type": "code",
      "metadata": {
        "colab": {
          "base_uri": "https://localhost:8080/"
        },
        "id": "XjlS4PX-kOHl",
        "outputId": "d0d4d180-756c-41e3-adf7-0ffaf5dd7f5f"
      },
      "source": [
        "print(li2[0:5], li2[ :5])"
      ],
      "execution_count": 32,
      "outputs": [
        {
          "output_type": "stream",
          "text": [
            "[1, 2, 5, 4, 8] [1, 2, 5, 4, 8]\n"
          ],
          "name": "stdout"
        }
      ]
    },
    {
      "cell_type": "code",
      "metadata": {
        "colab": {
          "base_uri": "https://localhost:8080/"
        },
        "id": "vKfij4rlkQn9",
        "outputId": "a420aac0-696d-4e65-9204-e7b085f83d74"
      },
      "source": [
        "print(li2[-3:])"
      ],
      "execution_count": 33,
      "outputs": [
        {
          "output_type": "stream",
          "text": [
            "[8, 85, 'Python']\n"
          ],
          "name": "stdout"
        }
      ]
    },
    {
      "cell_type": "code",
      "metadata": {
        "colab": {
          "base_uri": "https://localhost:8080/"
        },
        "id": "kA-WyNj7kS2h",
        "outputId": "419c5618-fda4-4eee-8243-49425c73cc8b"
      },
      "source": [
        "print(li2[0: :2])"
      ],
      "execution_count": 34,
      "outputs": [
        {
          "output_type": "stream",
          "text": [
            "[1, 5, 8, 'Python']\n"
          ],
          "name": "stdout"
        }
      ]
    },
    {
      "cell_type": "code",
      "metadata": {
        "colab": {
          "base_uri": "https://localhost:8080/"
        },
        "id": "bjDsqolAkV8E",
        "outputId": "37bf86f6-99aa-41ff-8b2d-816fcad2b5bc"
      },
      "source": [
        "print(li2[: :-2])"
      ],
      "execution_count": 35,
      "outputs": [
        {
          "output_type": "stream",
          "text": [
            "['Python', 8, 5, 1]\n"
          ],
          "name": "stdout"
        }
      ]
    },
    {
      "cell_type": "code",
      "metadata": {
        "colab": {
          "base_uri": "https://localhost:8080/"
        },
        "id": "ABbHigcLkbPH",
        "outputId": "ba298f2b-07a3-4fbc-9adc-fe01f92e54ff"
      },
      "source": [
        "print(li2[::-1])"
      ],
      "execution_count": 36,
      "outputs": [
        {
          "output_type": "stream",
          "text": [
            "['Python', 85, 8, 4, 5, 2, 1]\n"
          ],
          "name": "stdout"
        }
      ]
    },
    {
      "cell_type": "code",
      "metadata": {
        "colab": {
          "base_uri": "https://localhost:8080/"
        },
        "id": "33tA-OxBkd2a",
        "outputId": "da6d14ba-8fe0-4804-a75c-85d4f7e99dd7"
      },
      "source": [
        "matrix = [[1,2,3],[4,5,6], [6,7,8]]\n",
        "\n",
        "print(matrix)"
      ],
      "execution_count": 37,
      "outputs": [
        {
          "output_type": "stream",
          "text": [
            "[[1, 2, 3], [4, 5, 6], [6, 7, 8]]\n"
          ],
          "name": "stdout"
        }
      ]
    },
    {
      "cell_type": "code",
      "metadata": {
        "colab": {
          "base_uri": "https://localhost:8080/"
        },
        "id": "4eUMkGJ1kfzr",
        "outputId": "50fe241f-c4e0-43a1-a400-c45e23aa520b"
      },
      "source": [
        "print(matrix[0])"
      ],
      "execution_count": 38,
      "outputs": [
        {
          "output_type": "stream",
          "text": [
            "[1, 2, 3]\n"
          ],
          "name": "stdout"
        }
      ]
    },
    {
      "cell_type": "code",
      "metadata": {
        "colab": {
          "base_uri": "https://localhost:8080/"
        },
        "id": "W_qqLpu8kilR",
        "outputId": "cbb3500b-2c2f-42a0-b38d-84cb326fae64"
      },
      "source": [
        "print(matrix[0][0])"
      ],
      "execution_count": 39,
      "outputs": [
        {
          "output_type": "stream",
          "text": [
            "1\n"
          ],
          "name": "stdout"
        }
      ]
    },
    {
      "cell_type": "code",
      "metadata": {
        "colab": {
          "base_uri": "https://localhost:8080/"
        },
        "id": "RwefGE_JklVX",
        "outputId": "50616bcf-7c56-459e-f385-53e703d8a653"
      },
      "source": [
        "print(matrix[1][1])"
      ],
      "execution_count": 40,
      "outputs": [
        {
          "output_type": "stream",
          "text": [
            "5\n"
          ],
          "name": "stdout"
        }
      ]
    },
    {
      "cell_type": "code",
      "metadata": {
        "colab": {
          "base_uri": "https://localhost:8080/"
        },
        "id": "86ssvtOvkmA9",
        "outputId": "4388ecdb-f5e9-471b-c69e-ec92a7d0a02a"
      },
      "source": [
        "print(matrix[0][1:], matrix[0][1:2])"
      ],
      "execution_count": 41,
      "outputs": [
        {
          "output_type": "stream",
          "text": [
            "[2, 3] [2]\n"
          ],
          "name": "stdout"
        }
      ]
    },
    {
      "cell_type": "code",
      "metadata": {
        "colab": {
          "base_uri": "https://localhost:8080/"
        },
        "id": "0AoDhIGVkp4_",
        "outputId": "19633d9e-8aa4-4909-f33b-125dbad9788f"
      },
      "source": [
        "print(matrix[1][::-1])"
      ],
      "execution_count": 42,
      "outputs": [
        {
          "output_type": "stream",
          "text": [
            "[6, 5, 4]\n"
          ],
          "name": "stdout"
        }
      ]
    },
    {
      "cell_type": "code",
      "metadata": {
        "colab": {
          "base_uri": "https://localhost:8080/"
        },
        "id": "vm_rLPlbkrJH",
        "outputId": "2c2eb729-212a-41d3-9a98-eaf48762b07a"
      },
      "source": [
        "print(len(matrix[2]), max(matrix[2]))"
      ],
      "execution_count": 43,
      "outputs": [
        {
          "output_type": "stream",
          "text": [
            "3 8\n"
          ],
          "name": "stdout"
        }
      ]
    },
    {
      "cell_type": "code",
      "metadata": {
        "colab": {
          "base_uri": "https://localhost:8080/"
        },
        "id": "CI0YQJJNktdD",
        "outputId": "11c2d7b2-c884-4893-c14b-753dd65022cf"
      },
      "source": [
        "print(matrix[0][1:2])"
      ],
      "execution_count": 44,
      "outputs": [
        {
          "output_type": "stream",
          "text": [
            "[2]\n"
          ],
          "name": "stdout"
        }
      ]
    },
    {
      "cell_type": "code",
      "metadata": {
        "colab": {
          "base_uri": "https://localhost:8080/"
        },
        "id": "yNOIoAbqkxjw",
        "outputId": "1afc15d6-437e-43c2-d0a8-81f8ef1be2bf"
      },
      "source": [
        "for ele in matrix:\n",
        "    print(ele)"
      ],
      "execution_count": 45,
      "outputs": [
        {
          "output_type": "stream",
          "text": [
            "[1, 2, 3]\n",
            "[4, 5, 6]\n",
            "[6, 7, 8]\n"
          ],
          "name": "stdout"
        }
      ]
    },
    {
      "cell_type": "code",
      "metadata": {
        "colab": {
          "base_uri": "https://localhost:8080/"
        },
        "id": "aGsw6ev8kzrM",
        "outputId": "ce80d5ec-4add-4718-cab0-50d44131ab07"
      },
      "source": [
        "for ele in li:\n",
        "    print(ele)"
      ],
      "execution_count": 46,
      "outputs": [
        {
          "output_type": "stream",
          "text": [
            "1\n",
            "2\n",
            "5\n",
            "4\n",
            "8\n",
            "85\n"
          ],
          "name": "stdout"
        }
      ]
    },
    {
      "cell_type": "code",
      "metadata": {
        "colab": {
          "base_uri": "https://localhost:8080/"
        },
        "id": "s9qCpOQNk2Wn",
        "outputId": "f504705a-ea19-487e-84c2-0901ec036fca"
      },
      "source": [
        "for i in range(3):\n",
        "    for j in range(3):\n",
        "        if j==1:\n",
        "            print(matrix[i][j])"
      ],
      "execution_count": 47,
      "outputs": [
        {
          "output_type": "stream",
          "text": [
            "2\n",
            "5\n",
            "7\n"
          ],
          "name": "stdout"
        }
      ]
    },
    {
      "cell_type": "code",
      "metadata": {
        "colab": {
          "base_uri": "https://localhost:8080/"
        },
        "id": "qsAtnh1ak48r",
        "outputId": "ca6e2758-284b-40a3-fe3e-ab1e32c579cb"
      },
      "source": [
        "for ele in matrix:\n",
        "    print(ele[1])"
      ],
      "execution_count": 48,
      "outputs": [
        {
          "output_type": "stream",
          "text": [
            "2\n",
            "5\n",
            "7\n"
          ],
          "name": "stdout"
        }
      ]
    },
    {
      "cell_type": "code",
      "metadata": {
        "colab": {
          "base_uri": "https://localhost:8080/"
        },
        "id": "X9TtXRbLk77R",
        "outputId": "5ab876a0-621e-491b-9959-7ece32d4aebf"
      },
      "source": [
        "print(matrix[:], matrix[:][2])"
      ],
      "execution_count": 49,
      "outputs": [
        {
          "output_type": "stream",
          "text": [
            "[[1, 2, 3], [4, 5, 6], [6, 7, 8]] [6, 7, 8]\n"
          ],
          "name": "stdout"
        }
      ]
    },
    {
      "cell_type": "code",
      "metadata": {
        "colab": {
          "base_uri": "https://localhost:8080/"
        },
        "id": "nk8MtVPNk-Lm",
        "outputId": "67fedefe-5bf0-4c6f-f803-ec105ce4a60c"
      },
      "source": [
        "for ele in matrix:\n",
        "    print(ele[1:])\n",
        "    \n",
        "for ele in matrix:\n",
        "    print(ele[1], ele[2])"
      ],
      "execution_count": 50,
      "outputs": [
        {
          "output_type": "stream",
          "text": [
            "[2, 3]\n",
            "[5, 6]\n",
            "[7, 8]\n",
            "2 3\n",
            "5 6\n",
            "7 8\n"
          ],
          "name": "stdout"
        }
      ]
    },
    {
      "cell_type": "markdown",
      "metadata": {
        "id": "s542TggIlvfW"
      },
      "source": [
        "### List Methods"
      ]
    },
    {
      "cell_type": "code",
      "metadata": {
        "id": "m3o3kxZRlyy2"
      },
      "source": [
        "empty = []"
      ],
      "execution_count": 1,
      "outputs": []
    },
    {
      "cell_type": "code",
      "metadata": {
        "colab": {
          "base_uri": "https://localhost:8080/"
        },
        "id": "CpzeYMr3l1cc",
        "outputId": "10120154-465e-4331-b940-a14dcfbf73e7"
      },
      "source": [
        "empty.append(5)\n",
        "empty.append(55)\n",
        "empty.append([1,2,3])\n",
        "\n",
        "print(empty)"
      ],
      "execution_count": 2,
      "outputs": [
        {
          "output_type": "stream",
          "text": [
            "[5, 55, [1, 2, 3]]\n"
          ],
          "name": "stdout"
        }
      ]
    },
    {
      "cell_type": "code",
      "metadata": {
        "colab": {
          "base_uri": "https://localhost:8080/"
        },
        "id": "4jJM2h1Zl3-s",
        "outputId": "6988589f-4e03-42d3-abe1-7935e2bad739"
      },
      "source": [
        "for i in range(5):\n",
        "    empty.append(input(\"Enter elements to add to list\"))"
      ],
      "execution_count": 3,
      "outputs": [
        {
          "output_type": "stream",
          "text": [
            "Enter elements to add to listravi\n",
            "Enter elements to add to list56\n",
            "Enter elements to add to list90\n",
            "Enter elements to add to list77\n",
            "Enter elements to add to listkgh\n"
          ],
          "name": "stdout"
        }
      ]
    },
    {
      "cell_type": "code",
      "metadata": {
        "colab": {
          "base_uri": "https://localhost:8080/"
        },
        "id": "J8vUg64Ll6pA",
        "outputId": "659ad2c3-de22-477c-a6e5-0842455d2534"
      },
      "source": [
        "print(empty)"
      ],
      "execution_count": 4,
      "outputs": [
        {
          "output_type": "stream",
          "text": [
            "[5, 55, [1, 2, 3], 'ravi', '56', '90', '77', 'kgh']\n"
          ],
          "name": "stdout"
        }
      ]
    },
    {
      "cell_type": "code",
      "metadata": {
        "id": "cKgXkPkkmbGx"
      },
      "source": [
        "li = [1,2,3,4]\n",
        "\n",
        "empty = [5, 55, [1, 2, 3], 'ravi', '56', '90', '77', 'kgh']"
      ],
      "execution_count": 61,
      "outputs": []
    },
    {
      "cell_type": "code",
      "metadata": {
        "colab": {
          "base_uri": "https://localhost:8080/"
        },
        "id": "rh8-kLHWmiPR",
        "outputId": "9e1bc55c-5dff-42ba-baf3-a16926bbaee0"
      },
      "source": [
        "empty.extend(li)\n",
        "\n",
        "print(empty)"
      ],
      "execution_count": 62,
      "outputs": [
        {
          "output_type": "stream",
          "text": [
            "[5, 55, [1, 2, 3], 'ravi', '56', '90', '77', 'kgh', 1, 2, 3, 4]\n"
          ],
          "name": "stdout"
        }
      ]
    },
    {
      "cell_type": "code",
      "metadata": {
        "colab": {
          "base_uri": "https://localhost:8080/"
        },
        "id": "Zs3vwuYLmmUM",
        "outputId": "eda79f5c-04db-43a2-ccae-7938f215481b"
      },
      "source": [
        "print(empty + li)"
      ],
      "execution_count": 63,
      "outputs": [
        {
          "output_type": "stream",
          "text": [
            "[5, 55, [1, 2, 3], 'ravi', '56', '90', '77', 'kgh', 1, 2, 3, 4, 1, 2, 3, 4]\n"
          ],
          "name": "stdout"
        }
      ]
    },
    {
      "cell_type": "code",
      "metadata": {
        "colab": {
          "base_uri": "https://localhost:8080/"
        },
        "id": "irN32DGDmodr",
        "outputId": "2ab9dad9-98f0-4100-a3e1-2dbea9681079"
      },
      "source": [
        "emp2 = empty + li\n",
        "\n",
        "print(emp2)"
      ],
      "execution_count": 64,
      "outputs": [
        {
          "output_type": "stream",
          "text": [
            "[5, 55, [1, 2, 3], 'ravi', '56', '90', '77', 'kgh', 1, 2, 3, 4, 1, 2, 3, 4]\n"
          ],
          "name": "stdout"
        }
      ]
    },
    {
      "cell_type": "code",
      "metadata": {
        "colab": {
          "base_uri": "https://localhost:8080/"
        },
        "id": "rWFBEBGlmq36",
        "outputId": "090f28c1-a867-4acf-c9b7-0f5581eab99b"
      },
      "source": [
        "print(emp2[2])"
      ],
      "execution_count": 65,
      "outputs": [
        {
          "output_type": "stream",
          "text": [
            "[1, 2, 3]\n"
          ],
          "name": "stdout"
        }
      ]
    },
    {
      "cell_type": "code",
      "metadata": {
        "colab": {
          "base_uri": "https://localhost:8080/"
        },
        "id": "NIyyHKsdmrfb",
        "outputId": "2565bb5e-7ccc-4787-908d-956a87f3ab0e"
      },
      "source": [
        "emp2[2] = li\n",
        "\n",
        "print(emp2)"
      ],
      "execution_count": 66,
      "outputs": [
        {
          "output_type": "stream",
          "text": [
            "[5, 55, [1, 2, 3, 4], 'ravi', '56', '90', '77', 'kgh', 1, 2, 3, 4, 1, 2, 3, 4]\n"
          ],
          "name": "stdout"
        }
      ]
    },
    {
      "cell_type": "code",
      "metadata": {
        "colab": {
          "base_uri": "https://localhost:8080/"
        },
        "id": "pJYb3ZQ-nWK_",
        "outputId": "ec98bb45-6d25-4b5d-ac16-41b4d0113632"
      },
      "source": [
        "emp2[2:4] = li\n",
        "\n",
        "print(emp2)"
      ],
      "execution_count": 67,
      "outputs": [
        {
          "output_type": "stream",
          "text": [
            "[5, 55, 1, 2, 3, 4, '56', '90', '77', 'kgh', 1, 2, 3, 4, 1, 2, 3, 4]\n"
          ],
          "name": "stdout"
        }
      ]
    },
    {
      "cell_type": "code",
      "metadata": {
        "colab": {
          "base_uri": "https://localhost:8080/"
        },
        "id": "u1M9tvZYmwDo",
        "outputId": "5024818a-bb24-4f2b-cd88-f32461d5d9d7"
      },
      "source": [
        "emp2.insert(1, 10)\n",
        "\n",
        "print(emp2)"
      ],
      "execution_count": 68,
      "outputs": [
        {
          "output_type": "stream",
          "text": [
            "[5, 10, 55, 1, 2, 3, 4, '56', '90', '77', 'kgh', 1, 2, 3, 4, 1, 2, 3, 4]\n"
          ],
          "name": "stdout"
        }
      ]
    },
    {
      "cell_type": "code",
      "metadata": {
        "colab": {
          "base_uri": "https://localhost:8080/"
        },
        "id": "KltZmWdCm2S3",
        "outputId": "4d5c36d0-f654-444c-89f4-967ed69fb959"
      },
      "source": [
        "emp2.pop()\n",
        "\n",
        "print(emp2) # LIFO -> Last In First Out"
      ],
      "execution_count": 69,
      "outputs": [
        {
          "output_type": "stream",
          "text": [
            "[5, 10, 55, 1, 2, 3, 4, '56', '90', '77', 'kgh', 1, 2, 3, 4, 1, 2, 3]\n"
          ],
          "name": "stdout"
        }
      ]
    },
    {
      "cell_type": "code",
      "metadata": {
        "colab": {
          "base_uri": "https://localhost:8080/"
        },
        "id": "q-ozcpRim5xe",
        "outputId": "4d0819f8-71e3-4cf8-de2f-9262e95a9632"
      },
      "source": [
        "emp2.pop(2)\n",
        "\n",
        "print(emp2)"
      ],
      "execution_count": 70,
      "outputs": [
        {
          "output_type": "stream",
          "text": [
            "[5, 10, 1, 2, 3, 4, '56', '90', '77', 'kgh', 1, 2, 3, 4, 1, 2, 3]\n"
          ],
          "name": "stdout"
        }
      ]
    },
    {
      "cell_type": "code",
      "metadata": {
        "colab": {
          "base_uri": "https://localhost:8080/",
          "height": 197
        },
        "id": "ePDoxC_gm_Ct",
        "outputId": "c1e2c51e-c3e2-42e5-f64e-b64882b853fa"
      },
      "source": [
        "emp2.pop(100)\n",
        "\n",
        "print(emp2)"
      ],
      "execution_count": 71,
      "outputs": [
        {
          "output_type": "error",
          "ename": "IndexError",
          "evalue": "ignored",
          "traceback": [
            "\u001b[0;31m---------------------------------------------------------------------------\u001b[0m",
            "\u001b[0;31mIndexError\u001b[0m                                Traceback (most recent call last)",
            "\u001b[0;32m<ipython-input-71-bfab930aa297>\u001b[0m in \u001b[0;36m<module>\u001b[0;34m()\u001b[0m\n\u001b[0;32m----> 1\u001b[0;31m \u001b[0memp2\u001b[0m\u001b[0;34m.\u001b[0m\u001b[0mpop\u001b[0m\u001b[0;34m(\u001b[0m\u001b[0;36m100\u001b[0m\u001b[0;34m)\u001b[0m\u001b[0;34m\u001b[0m\u001b[0;34m\u001b[0m\u001b[0m\n\u001b[0m\u001b[1;32m      2\u001b[0m \u001b[0;34m\u001b[0m\u001b[0m\n\u001b[1;32m      3\u001b[0m \u001b[0mprint\u001b[0m\u001b[0;34m(\u001b[0m\u001b[0memp2\u001b[0m\u001b[0;34m)\u001b[0m\u001b[0;34m\u001b[0m\u001b[0;34m\u001b[0m\u001b[0m\n",
            "\u001b[0;31mIndexError\u001b[0m: pop index out of range"
          ]
        }
      ]
    },
    {
      "cell_type": "code",
      "metadata": {
        "id": "UVAt9lBvogn6"
      },
      "source": [
        "emp2.remove('kgh')"
      ],
      "execution_count": 72,
      "outputs": []
    },
    {
      "cell_type": "code",
      "metadata": {
        "colab": {
          "base_uri": "https://localhost:8080/"
        },
        "id": "bSNASuv8nl9D",
        "outputId": "6f41cb85-cf59-4832-84b6-19cb8159e036"
      },
      "source": [
        "\n",
        "print(emp2)"
      ],
      "execution_count": 73,
      "outputs": [
        {
          "output_type": "stream",
          "text": [
            "[5, 10, 1, 2, 3, 4, '56', '90', '77', 1, 2, 3, 4, 1, 2, 3]\n"
          ],
          "name": "stdout"
        }
      ]
    },
    {
      "cell_type": "code",
      "metadata": {
        "colab": {
          "base_uri": "https://localhost:8080/",
          "height": 163
        },
        "id": "j_IkBtMonoFf",
        "outputId": "97ea750d-eeea-4229-ec0d-e5994d5469ab"
      },
      "source": [
        "print(emp2.remove('kgh'))"
      ],
      "execution_count": 75,
      "outputs": [
        {
          "output_type": "error",
          "ename": "ValueError",
          "evalue": "ignored",
          "traceback": [
            "\u001b[0;31m---------------------------------------------------------------------------\u001b[0m",
            "\u001b[0;31mValueError\u001b[0m                                Traceback (most recent call last)",
            "\u001b[0;32m<ipython-input-75-06b1ee8c8e58>\u001b[0m in \u001b[0;36m<module>\u001b[0;34m()\u001b[0m\n\u001b[0;32m----> 1\u001b[0;31m \u001b[0mprint\u001b[0m\u001b[0;34m(\u001b[0m\u001b[0memp2\u001b[0m\u001b[0;34m.\u001b[0m\u001b[0mremove\u001b[0m\u001b[0;34m(\u001b[0m\u001b[0;34m'kgh'\u001b[0m\u001b[0;34m)\u001b[0m\u001b[0;34m)\u001b[0m\u001b[0;34m\u001b[0m\u001b[0;34m\u001b[0m\u001b[0m\n\u001b[0m",
            "\u001b[0;31mValueError\u001b[0m: list.remove(x): x not in list"
          ]
        }
      ]
    },
    {
      "cell_type": "code",
      "metadata": {
        "colab": {
          "base_uri": "https://localhost:8080/"
        },
        "id": "55fxzjywnqyH",
        "outputId": "6e7fd08e-9d56-4a0b-a3ff-21be4eebb97c"
      },
      "source": [
        "print(emp2.pop())\n",
        "\n",
        "\n",
        "print(emp2)"
      ],
      "execution_count": 76,
      "outputs": [
        {
          "output_type": "stream",
          "text": [
            "3\n",
            "[5, 10, 1, 2, 3, 4, '56', '90', '77', 1, 2, 3, 4, 1, 2]\n"
          ],
          "name": "stdout"
        }
      ]
    },
    {
      "cell_type": "code",
      "metadata": {
        "colab": {
          "base_uri": "https://localhost:8080/"
        },
        "id": "_j8_RoCinvX1",
        "outputId": "d1773856-973d-416f-91a8-8520fa5756cc"
      },
      "source": [
        "emp3 = emp2\n",
        "\n",
        "print(emp3, emp2)"
      ],
      "execution_count": 77,
      "outputs": [
        {
          "output_type": "stream",
          "text": [
            "[5, 10, 1, 2, 3, 4, '56', '90', '77', 1, 2, 3, 4, 1, 2] [5, 10, 1, 2, 3, 4, '56', '90', '77', 1, 2, 3, 4, 1, 2]\n"
          ],
          "name": "stdout"
        }
      ]
    },
    {
      "cell_type": "code",
      "metadata": {
        "colab": {
          "base_uri": "https://localhost:8080/"
        },
        "id": "XUVd3wPMn2-z",
        "outputId": "8c107b43-050c-406c-96a9-7ede0f88df52"
      },
      "source": [
        "print(id(emp2), id(emp3))"
      ],
      "execution_count": 78,
      "outputs": [
        {
          "output_type": "stream",
          "text": [
            "140407924569904 140407924569904\n"
          ],
          "name": "stdout"
        }
      ]
    },
    {
      "cell_type": "code",
      "metadata": {
        "colab": {
          "base_uri": "https://localhost:8080/"
        },
        "id": "RZyK1rEkn32T",
        "outputId": "e136967c-6b06-4879-b37c-b13e5b25eaf7"
      },
      "source": [
        "print(emp3.pop())\n",
        "\n",
        "print(emp2, emp3)"
      ],
      "execution_count": 79,
      "outputs": [
        {
          "output_type": "stream",
          "text": [
            "2\n",
            "[5, 10, 1, 2, 3, 4, '56', '90', '77', 1, 2, 3, 4, 1] [5, 10, 1, 2, 3, 4, '56', '90', '77', 1, 2, 3, 4, 1]\n"
          ],
          "name": "stdout"
        }
      ]
    },
    {
      "cell_type": "code",
      "metadata": {
        "colab": {
          "base_uri": "https://localhost:8080/"
        },
        "id": "_YAUAJPOn6Cd",
        "outputId": "b9538b77-4c59-402f-957a-2faaf0b3589a"
      },
      "source": [
        "emp3 = emp2.copy()\n",
        "\n",
        "\n",
        "print(id(emp2), id(emp3))\n",
        "print(emp2, emp3)"
      ],
      "execution_count": 80,
      "outputs": [
        {
          "output_type": "stream",
          "text": [
            "140407924569904 140407924960304\n",
            "[5, 10, 1, 2, 3, 4, '56', '90', '77', 1, 2, 3, 4, 1] [5, 10, 1, 2, 3, 4, '56', '90', '77', 1, 2, 3, 4, 1]\n"
          ],
          "name": "stdout"
        }
      ]
    },
    {
      "cell_type": "code",
      "metadata": {
        "colab": {
          "base_uri": "https://localhost:8080/"
        },
        "id": "khs8igwHoCT6",
        "outputId": "597063ac-e683-4cd9-d076-aed1bd81db09"
      },
      "source": [
        "print(emp3.pop())\n",
        "\n",
        "print(emp2, emp3)"
      ],
      "execution_count": 81,
      "outputs": [
        {
          "output_type": "stream",
          "text": [
            "1\n",
            "[5, 10, 1, 2, 3, 4, '56', '90', '77', 1, 2, 3, 4, 1] [5, 10, 1, 2, 3, 4, '56', '90', '77', 1, 2, 3, 4]\n"
          ],
          "name": "stdout"
        }
      ]
    },
    {
      "cell_type": "code",
      "metadata": {
        "colab": {
          "base_uri": "https://localhost:8080/"
        },
        "id": "Uv7VFR_noEhk",
        "outputId": "e60d21cb-a9f6-4abd-a27d-b3705b7109e3"
      },
      "source": [
        "print(emp2.count(1))"
      ],
      "execution_count": 82,
      "outputs": [
        {
          "output_type": "stream",
          "text": [
            "3\n"
          ],
          "name": "stdout"
        }
      ]
    },
    {
      "cell_type": "code",
      "metadata": {
        "colab": {
          "base_uri": "https://localhost:8080/"
        },
        "id": "JzoM977coHZa",
        "outputId": "bd2ad801-e045-46c2-8dcb-624eb071e5a9"
      },
      "source": [
        "print(emp2.index('90'))"
      ],
      "execution_count": 84,
      "outputs": [
        {
          "output_type": "stream",
          "text": [
            "7\n"
          ],
          "name": "stdout"
        }
      ]
    },
    {
      "cell_type": "code",
      "metadata": {
        "colab": {
          "base_uri": "https://localhost:8080/",
          "height": 163
        },
        "id": "CneyN2vBoKHQ",
        "outputId": "e1512e27-1af7-4cb5-8657-07b637165667"
      },
      "source": [
        "print(emp2.index('dgf'))"
      ],
      "execution_count": 86,
      "outputs": [
        {
          "output_type": "error",
          "ename": "ValueError",
          "evalue": "ignored",
          "traceback": [
            "\u001b[0;31m---------------------------------------------------------------------------\u001b[0m",
            "\u001b[0;31mValueError\u001b[0m                                Traceback (most recent call last)",
            "\u001b[0;32m<ipython-input-86-ea10929c1a95>\u001b[0m in \u001b[0;36m<module>\u001b[0;34m()\u001b[0m\n\u001b[0;32m----> 1\u001b[0;31m \u001b[0mprint\u001b[0m\u001b[0;34m(\u001b[0m\u001b[0memp2\u001b[0m\u001b[0;34m.\u001b[0m\u001b[0mindex\u001b[0m\u001b[0;34m(\u001b[0m\u001b[0;34m'dgf'\u001b[0m\u001b[0;34m)\u001b[0m\u001b[0;34m)\u001b[0m\u001b[0;34m\u001b[0m\u001b[0;34m\u001b[0m\u001b[0m\n\u001b[0m",
            "\u001b[0;31mValueError\u001b[0m: 'dgf' is not in list"
          ]
        }
      ]
    },
    {
      "cell_type": "code",
      "metadata": {
        "colab": {
          "base_uri": "https://localhost:8080/"
        },
        "id": "EmcJp89-oumK",
        "outputId": "5d6d5e82-abec-4288-f896-c7adc69bcb31"
      },
      "source": [
        "emp2.reverse()\n",
        "\n",
        "print(emp2)"
      ],
      "execution_count": 87,
      "outputs": [
        {
          "output_type": "stream",
          "text": [
            "[1, 4, 3, 2, 1, '77', '90', '56', 4, 3, 2, 1, 10, 5]\n"
          ],
          "name": "stdout"
        }
      ]
    },
    {
      "cell_type": "code",
      "metadata": {
        "colab": {
          "base_uri": "https://localhost:8080/",
          "height": 214
        },
        "id": "YqR39rzRoz9q",
        "outputId": "7bc63d3c-2574-4ed9-f01e-4705a500e675"
      },
      "source": [
        "emp3.sort()\n",
        "\n",
        "\n",
        "print(emp3)"
      ],
      "execution_count": 88,
      "outputs": [
        {
          "output_type": "error",
          "ename": "TypeError",
          "evalue": "ignored",
          "traceback": [
            "\u001b[0;31m---------------------------------------------------------------------------\u001b[0m",
            "\u001b[0;31mTypeError\u001b[0m                                 Traceback (most recent call last)",
            "\u001b[0;32m<ipython-input-88-d9096d7c8955>\u001b[0m in \u001b[0;36m<module>\u001b[0;34m()\u001b[0m\n\u001b[0;32m----> 1\u001b[0;31m \u001b[0memp3\u001b[0m\u001b[0;34m.\u001b[0m\u001b[0msort\u001b[0m\u001b[0;34m(\u001b[0m\u001b[0;34m)\u001b[0m\u001b[0;34m\u001b[0m\u001b[0;34m\u001b[0m\u001b[0m\n\u001b[0m\u001b[1;32m      2\u001b[0m \u001b[0;34m\u001b[0m\u001b[0m\n\u001b[1;32m      3\u001b[0m \u001b[0;34m\u001b[0m\u001b[0m\n\u001b[1;32m      4\u001b[0m \u001b[0mprint\u001b[0m\u001b[0;34m(\u001b[0m\u001b[0memp3\u001b[0m\u001b[0;34m)\u001b[0m\u001b[0;34m\u001b[0m\u001b[0;34m\u001b[0m\u001b[0m\n",
            "\u001b[0;31mTypeError\u001b[0m: '<' not supported between instances of 'str' and 'int'"
          ]
        }
      ]
    },
    {
      "cell_type": "code",
      "metadata": {
        "colab": {
          "base_uri": "https://localhost:8080/"
        },
        "id": "yhfjup-Ao-ql",
        "outputId": "48aa9209-c51b-4441-b234-71331b24ae77"
      },
      "source": [
        "li = [5,3,6,22,77,4,66,9,345]\n",
        "li.sort()\n",
        "\n",
        "print(li)"
      ],
      "execution_count": 36,
      "outputs": [
        {
          "output_type": "stream",
          "text": [
            "[3, 4, 5, 6, 9, 22, 66, 77, 345]\n"
          ],
          "name": "stdout"
        }
      ]
    },
    {
      "cell_type": "code",
      "metadata": {
        "colab": {
          "base_uri": "https://localhost:8080/"
        },
        "id": "5VPiHFv6o2mC",
        "outputId": "2fcaca2c-1dde-43e4-c1c0-63ad2ee86826"
      },
      "source": [
        "li = [5,3,6,22,77,4,66,9,345]\n",
        "li.sort(reverse=True)\n",
        "\n",
        "print(li)"
      ],
      "execution_count": 37,
      "outputs": [
        {
          "output_type": "stream",
          "text": [
            "[345, 77, 66, 22, 9, 6, 5, 4, 3]\n"
          ],
          "name": "stdout"
        }
      ]
    },
    {
      "cell_type": "code",
      "metadata": {
        "colab": {
          "base_uri": "https://localhost:8080/"
        },
        "id": "rXhiWb60pErd",
        "outputId": "80dd68f5-5cb0-4e3c-fcf3-351359ecb2cf"
      },
      "source": [
        "matrix = [[1,20,3],[4,5,6], [6,75,8]]\n",
        "\n",
        "print(matrix)"
      ],
      "execution_count": 38,
      "outputs": [
        {
          "output_type": "stream",
          "text": [
            "[[1, 20, 3], [4, 5, 6], [6, 75, 8]]\n"
          ],
          "name": "stdout"
        }
      ]
    },
    {
      "cell_type": "code",
      "metadata": {
        "colab": {
          "base_uri": "https://localhost:8080/"
        },
        "id": "F7dxVHBipHom",
        "outputId": "64229160-91c5-4309-fdff-49e64318f9ef"
      },
      "source": [
        "matrix = [[40,20,3],[35,5,6],[6,75,8]]\n",
        "\n",
        "\n",
        "matrix.sort()\n",
        "\n",
        "\n",
        "print(matrix)"
      ],
      "execution_count": 40,
      "outputs": [
        {
          "output_type": "stream",
          "text": [
            "[[6, 75, 8], [35, 5, 6], [40, 20, 3]]\n"
          ],
          "name": "stdout"
        }
      ]
    },
    {
      "cell_type": "code",
      "metadata": {
        "colab": {
          "base_uri": "https://localhost:8080/"
        },
        "id": "kPng9ZTHpMs-",
        "outputId": "333949fc-024d-4940-ab4b-5919c35a5fc0"
      },
      "source": [
        "matrix = [[40,20,3],[35,5,6], [6,75,8]]\n",
        "\n",
        "\n",
        "matrix.sort(key = lambda x :x[1])\n",
        "\n",
        "\n",
        "print(matrix)"
      ],
      "execution_count": 41,
      "outputs": [
        {
          "output_type": "stream",
          "text": [
            "[[35, 5, 6], [40, 20, 3], [6, 75, 8]]\n"
          ],
          "name": "stdout"
        }
      ]
    },
    {
      "cell_type": "code",
      "metadata": {
        "colab": {
          "base_uri": "https://localhost:8080/"
        },
        "id": "8AzgStVGpPjR",
        "outputId": "9de4b7af-d401-4ec3-dc0f-5c1856a61a9f"
      },
      "source": [
        "print(sorted(matrix))\n",
        "\n",
        "\n",
        "print(matrix)"
      ],
      "execution_count": 42,
      "outputs": [
        {
          "output_type": "stream",
          "text": [
            "[[6, 75, 8], [35, 5, 6], [40, 20, 3]]\n",
            "[[35, 5, 6], [40, 20, 3], [6, 75, 8]]\n"
          ],
          "name": "stdout"
        }
      ]
    },
    {
      "cell_type": "code",
      "metadata": {
        "colab": {
          "base_uri": "https://localhost:8080/"
        },
        "id": "e3ilb7GvpSeu",
        "outputId": "5829bb13-ad01-4284-a1ac-e7ee0a3e6cd6"
      },
      "source": [
        "print(list(reversed(matrix)))"
      ],
      "execution_count": 43,
      "outputs": [
        {
          "output_type": "stream",
          "text": [
            "[[6, 75, 8], [40, 20, 3], [35, 5, 6]]\n"
          ],
          "name": "stdout"
        }
      ]
    },
    {
      "cell_type": "code",
      "metadata": {
        "colab": {
          "base_uri": "https://localhost:8080/"
        },
        "id": "YtKqosbspVQ5",
        "outputId": "3da383f5-5aae-42fb-c1a8-942a93858ed7"
      },
      "source": [
        "emp3.clear()\n",
        "\n",
        "\n",
        "print(emp3)"
      ],
      "execution_count": 44,
      "outputs": [
        {
          "output_type": "stream",
          "text": [
            "[]\n"
          ],
          "name": "stdout"
        }
      ]
    },
    {
      "cell_type": "code",
      "metadata": {
        "colab": {
          "base_uri": "https://localhost:8080/",
          "height": 197
        },
        "id": "Tcrcw9sHpWC5",
        "outputId": "5b63cd38-1d54-4879-c3dd-e9a95fff3450"
      },
      "source": [
        "del emp3\n",
        "\n",
        "print(emp3)"
      ],
      "execution_count": 45,
      "outputs": [
        {
          "output_type": "error",
          "ename": "NameError",
          "evalue": "ignored",
          "traceback": [
            "\u001b[0;31m---------------------------------------------------------------------------\u001b[0m",
            "\u001b[0;31mNameError\u001b[0m                                 Traceback (most recent call last)",
            "\u001b[0;32m<ipython-input-45-70167493e5a1>\u001b[0m in \u001b[0;36m<module>\u001b[0;34m()\u001b[0m\n\u001b[1;32m      1\u001b[0m \u001b[0;32mdel\u001b[0m \u001b[0memp3\u001b[0m\u001b[0;34m\u001b[0m\u001b[0;34m\u001b[0m\u001b[0m\n\u001b[1;32m      2\u001b[0m \u001b[0;34m\u001b[0m\u001b[0m\n\u001b[0;32m----> 3\u001b[0;31m \u001b[0mprint\u001b[0m\u001b[0;34m(\u001b[0m\u001b[0memp3\u001b[0m\u001b[0;34m)\u001b[0m\u001b[0;34m\u001b[0m\u001b[0;34m\u001b[0m\u001b[0m\n\u001b[0m",
            "\u001b[0;31mNameError\u001b[0m: name 'emp3' is not defined"
          ]
        }
      ]
    },
    {
      "cell_type": "markdown",
      "metadata": {
        "id": "KZBw6xHYpXbY"
      },
      "source": [
        "### ***Tuples***\n",
        "Storing the Group of non-homogenous group of data\n",
        "- It is created using ()\n",
        "- It is immutable\n",
        "- it is iterable\n",
        "- it is ordered"
      ]
    },
    {
      "cell_type": "code",
      "metadata": {
        "id": "mds18mBeprKb"
      },
      "source": [
        "t1 = ()\n",
        "t2 = tuple()"
      ],
      "execution_count": 46,
      "outputs": []
    },
    {
      "cell_type": "code",
      "metadata": {
        "id": "z28ngFKDpx5W"
      },
      "source": [
        "t1 = (1,2,3,4, 'Python', (1,2,3), [1,2,3])"
      ],
      "execution_count": 47,
      "outputs": []
    },
    {
      "cell_type": "code",
      "metadata": {
        "colab": {
          "base_uri": "https://localhost:8080/"
        },
        "id": "Lj7sjMxfp10I",
        "outputId": "9a7aac21-1f95-48e3-d6b5-05b99679660f"
      },
      "source": [
        "print(t1[0], t1[-1], t1[2], t1[-2])"
      ],
      "execution_count": 48,
      "outputs": [
        {
          "output_type": "stream",
          "text": [
            "1 [1, 2, 3] 3 (1, 2, 3)\n"
          ],
          "name": "stdout"
        }
      ]
    },
    {
      "cell_type": "code",
      "metadata": {
        "colab": {
          "base_uri": "https://localhost:8080/"
        },
        "id": "iJ0s7R3kp2vX",
        "outputId": "ad5c5804-b80f-428a-dee9-8054d939b142"
      },
      "source": [
        "print(t1[0:2])"
      ],
      "execution_count": 49,
      "outputs": [
        {
          "output_type": "stream",
          "text": [
            "(1, 2)\n"
          ],
          "name": "stdout"
        }
      ]
    },
    {
      "cell_type": "code",
      "metadata": {
        "colab": {
          "base_uri": "https://localhost:8080/",
          "height": 180
        },
        "id": "4ffJ4eBkp5Lg",
        "outputId": "4f0cab4f-4d33-460d-f9ee-f7015295a454"
      },
      "source": [
        "\n",
        "t1[0] = 55"
      ],
      "execution_count": 50,
      "outputs": [
        {
          "output_type": "error",
          "ename": "TypeError",
          "evalue": "ignored",
          "traceback": [
            "\u001b[0;31m---------------------------------------------------------------------------\u001b[0m",
            "\u001b[0;31mTypeError\u001b[0m                                 Traceback (most recent call last)",
            "\u001b[0;32m<ipython-input-50-d96155fbaee6>\u001b[0m in \u001b[0;36m<module>\u001b[0;34m()\u001b[0m\n\u001b[1;32m      1\u001b[0m \u001b[0;34m\u001b[0m\u001b[0m\n\u001b[0;32m----> 2\u001b[0;31m \u001b[0mt1\u001b[0m\u001b[0;34m[\u001b[0m\u001b[0;36m0\u001b[0m\u001b[0;34m]\u001b[0m \u001b[0;34m=\u001b[0m \u001b[0;36m55\u001b[0m\u001b[0;34m\u001b[0m\u001b[0;34m\u001b[0m\u001b[0m\n\u001b[0m",
            "\u001b[0;31mTypeError\u001b[0m: 'tuple' object does not support item assignment"
          ]
        }
      ]
    },
    {
      "cell_type": "code",
      "metadata": {
        "id": "8B5rTL3uqDGM"
      },
      "source": [
        "t1 = (1,2,3,4, 'Python', (1,2,3), [1,2,3])\n",
        "\n",
        "t1[-1].append(5)"
      ],
      "execution_count": 51,
      "outputs": []
    },
    {
      "cell_type": "code",
      "metadata": {
        "colab": {
          "base_uri": "https://localhost:8080/"
        },
        "id": "hr87FVQUqFYs",
        "outputId": "853a7b99-9698-4a51-812d-00532f2c2780"
      },
      "source": [
        "t1"
      ],
      "execution_count": 52,
      "outputs": [
        {
          "output_type": "execute_result",
          "data": {
            "text/plain": [
              "(1, 2, 3, 4, 'Python', (1, 2, 3), [1, 2, 3, 5])"
            ]
          },
          "metadata": {
            "tags": []
          },
          "execution_count": 52
        }
      ]
    },
    {
      "cell_type": "code",
      "metadata": {
        "colab": {
          "base_uri": "https://localhost:8080/"
        },
        "id": "ECdgm-TSqGEi",
        "outputId": "2afbcd16-8227-4472-c1c4-244613b3212b"
      },
      "source": [
        "for ele in t1:\n",
        "    print(ele)"
      ],
      "execution_count": 53,
      "outputs": [
        {
          "output_type": "stream",
          "text": [
            "1\n",
            "2\n",
            "3\n",
            "4\n",
            "Python\n",
            "(1, 2, 3)\n",
            "[1, 2, 3, 5]\n"
          ],
          "name": "stdout"
        }
      ]
    },
    {
      "cell_type": "code",
      "metadata": {
        "colab": {
          "base_uri": "https://localhost:8080/"
        },
        "id": "56uI-PuXqIdU",
        "outputId": "cc7ee4c8-76a6-4b3b-e651-d2bde3e55f61"
      },
      "source": [
        "print(len(t1))"
      ],
      "execution_count": 54,
      "outputs": [
        {
          "output_type": "stream",
          "text": [
            "7\n"
          ],
          "name": "stdout"
        }
      ]
    },
    {
      "cell_type": "markdown",
      "metadata": {
        "id": "h713hEbPqOA5"
      },
      "source": [
        "### Tuple Methods"
      ]
    },
    {
      "cell_type": "code",
      "metadata": {
        "colab": {
          "base_uri": "https://localhost:8080/"
        },
        "id": "_Tl-61BqqWdp",
        "outputId": "64f589a7-2207-4718-d606-3d57d3682196"
      },
      "source": [
        "print(t1.count(1))"
      ],
      "execution_count": 55,
      "outputs": [
        {
          "output_type": "stream",
          "text": [
            "1\n"
          ],
          "name": "stdout"
        }
      ]
    },
    {
      "cell_type": "code",
      "metadata": {
        "colab": {
          "base_uri": "https://localhost:8080/"
        },
        "id": "ro7BWrvEqZBB",
        "outputId": "caa7a397-528f-4bd9-85eb-1ceb2dfa16c3"
      },
      "source": [
        "print(t1.index('Python'))"
      ],
      "execution_count": 56,
      "outputs": [
        {
          "output_type": "stream",
          "text": [
            "4\n"
          ],
          "name": "stdout"
        }
      ]
    },
    {
      "cell_type": "code",
      "metadata": {
        "colab": {
          "base_uri": "https://localhost:8080/"
        },
        "id": "HfdXXDcXqbVn",
        "outputId": "34b748e3-372e-4ac5-cad7-d76f8f8d81c7"
      },
      "source": [
        "print('y' + 'o')\n",
        "\n",
        "print('y' * 5)"
      ],
      "execution_count": 57,
      "outputs": [
        {
          "output_type": "stream",
          "text": [
            "yo\n",
            "yyyyy\n"
          ],
          "name": "stdout"
        }
      ]
    },
    {
      "cell_type": "markdown",
      "metadata": {
        "id": "10__GkO_qd74"
      },
      "source": [
        "### **Tasks**\n",
        "s = 'Python is an interpreted high-level general-purpose programming language. Python's design philosophy emphasizes code readability with its notable use of significant indentation. Wikipedia Developer: Python Software Foundation Stable release: 3.9.5 / 3 May 2021; 19 days ago Preview release: 3.10.0b1 / 3 May 2021; 19 days ago Typing discipline: Duck, dynamic, strong typing; gradual (since 3.5, but ignored in CPython) First appeared: February 1991; 30 years ago Paradigm: Multi-paradigm: object-oriented, procedural (imperative), functional, structured, reflective'"
      ]
    },
    {
      "cell_type": "code",
      "metadata": {
        "id": "XtqDJU05qoOz"
      },
      "source": [
        "s = '''Python is an interpreted high-level general-purpose programming language. Python's design philosophy emphasizes code readability with its notable use of significant indentation. Wikipedia\n",
        "Developer: Python Software Foundation\n",
        "Stable release: 3.9.5 / 3 May 2021; 19 days ago\n",
        "Preview release: 3.10.0b1 / 3 May 2021; 19 days ago\n",
        "Typing discipline: Duck, dynamic, strong typing; gradual (since 3.5, but ignored in CPython)\n",
        "First appeared: February 1991; 30 years ago\n",
        "Paradigm: Multi-paradigm: object-oriented, procedural (imperative), functional, structured, reflective'''"
      ],
      "execution_count": 58,
      "outputs": []
    },
    {
      "cell_type": "code",
      "metadata": {
        "colab": {
          "base_uri": "https://localhost:8080/"
        },
        "id": "t52XTXqBqryH",
        "outputId": "f179c677-fd6b-4be3-82b0-35c840673a1e"
      },
      "source": [
        "print(s.split())"
      ],
      "execution_count": 59,
      "outputs": [
        {
          "output_type": "stream",
          "text": [
            "['Python', 'is', 'an', 'interpreted', 'high-level', 'general-purpose', 'programming', 'language.', \"Python's\", 'design', 'philosophy', 'emphasizes', 'code', 'readability', 'with', 'its', 'notable', 'use', 'of', 'significant', 'indentation.', 'Wikipedia', 'Developer:', 'Python', 'Software', 'Foundation', 'Stable', 'release:', '3.9.5', '/', '3', 'May', '2021;', '19', 'days', 'ago', 'Preview', 'release:', '3.10.0b1', '/', '3', 'May', '2021;', '19', 'days', 'ago', 'Typing', 'discipline:', 'Duck,', 'dynamic,', 'strong', 'typing;', 'gradual', '(since', '3.5,', 'but', 'ignored', 'in', 'CPython)', 'First', 'appeared:', 'February', '1991;', '30', 'years', 'ago', 'Paradigm:', 'Multi-paradigm:', 'object-oriented,', 'procedural', '(imperative),', 'functional,', 'structured,', 'reflective']\n"
          ],
          "name": "stdout"
        }
      ]
    },
    {
      "cell_type": "markdown",
      "metadata": {
        "id": "j54JjlJ_qxB2"
      },
      "source": [
        "\n",
        "### **Tasks**\n",
        "1. Reverse every element in list and update them in another list\n",
        "- extract lower-case alpha from each element and update in another list\n",
        "- remove special characters from the element and update in another list\n",
        "- get the middle character of every element and update in another list"
      ]
    }
  ]
}