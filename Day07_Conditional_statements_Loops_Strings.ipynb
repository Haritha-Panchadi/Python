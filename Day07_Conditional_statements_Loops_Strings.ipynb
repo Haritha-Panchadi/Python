{
  "nbformat": 4,
  "nbformat_minor": 0,
  "metadata": {
    "colab": {
      "name": "Day07_Conditional statements_Loops_Strings.ipynb",
      "provenance": [],
      "collapsed_sections": []
    },
    "kernelspec": {
      "name": "python3",
      "display_name": "Python 3"
    },
    "language_info": {
      "name": "python"
    }
  },
  "cells": [
    {
      "cell_type": "markdown",
      "metadata": {
        "id": "YareTHdxHiqC"
      },
      "source": [
        "### Day Objectives\n",
        "\n",
        "\n",
        "- Conditional Statements\n",
        "  - If\n",
        "  - If Else\n",
        "  - If-else-If\n",
        "-Loops\n",
        "   - for\n",
        "   - While\n",
        "- Strings\n",
        "  - Declaring string\n",
        "  - Accessing the elements from string\n",
        "  - String Methods     "
      ]
    },
    {
      "cell_type": "markdown",
      "metadata": {
        "id": "72WDr9PeIA1R"
      },
      "source": [
        "# Conditional Statements\n",
        " Controlling The Flow of Execution\n",
        " #### Syntax\n",
        "\n",
        " - if\n",
        "\n",
        "```python\n",
        "if condition:\n",
        "      Block of Code\n",
        "```\n",
        "\n",
        "- if-else\n",
        "\n",
        "```python\n",
        "if condition:\n",
        "      BLock  of Condition\n",
        "else:\n",
        "      Block of Code      \n",
        "```\n",
        "\n",
        "- if-elif-else\n",
        "\n",
        "```python\n",
        "if condition:\n",
        "   BLock of Code\n",
        "elif condtion:\n",
        "  Blockm of code\n",
        "else:\n",
        "  Block of COde\n",
        "```\n",
        " - Biggest of 2 numbers\n",
        "\n",
        "\n",
        "\n"
      ]
    },
    {
      "cell_type": "code",
      "metadata": {
        "colab": {
          "base_uri": "https://localhost:8080/"
        },
        "id": "13jY5FEAJxCd",
        "outputId": "a495721c-8052-4b0b-be87-de94bd347b49"
      },
      "source": [
        "a = 5\n",
        "b = 15\n",
        "\n",
        "\n",
        "if a > b:\n",
        "    print(a, \"is the biggest number\")\n",
        "else:\n",
        "     print(b, \"is the biggest numberc\")"
      ],
      "execution_count": 5,
      "outputs": [
        {
          "output_type": "stream",
          "text": [
            "15 is the biggest numberc\n"
          ],
          "name": "stdout"
        }
      ]
    },
    {
      "cell_type": "code",
      "metadata": {
        "colab": {
          "base_uri": "https://localhost:8080/"
        },
        "id": "Ls-Y-HrLKdIp",
        "outputId": "dad82129-c048-4e89-9d1a-85112925054b"
      },
      "source": [
        "a = 5\n",
        "b = 15\n",
        "\n",
        "\n",
        "if a > b:\n",
        "    print(a, \"is the biggest number\")\n",
        "elif b > a:\n",
        "     print(b, \"is the biggest numberc\")\n",
        "else:\n",
        "  print(\"both a and b are equal\")"
      ],
      "execution_count": 6,
      "outputs": [
        {
          "output_type": "stream",
          "text": [
            "15 is the biggest numberc\n"
          ],
          "name": "stdout"
        }
      ]
    },
    {
      "cell_type": "code",
      "metadata": {
        "id": "qCFjsbx5LKGc",
        "colab": {
          "base_uri": "https://localhost:8080/"
        },
        "outputId": "e3af88b5-c13f-4495-ec23-7fa18d2aa699"
      },
      "source": [
        "a = 5\n",
        "b = 15\n",
        "c=8\n",
        "\n",
        "if a > b and a>c:\n",
        "    print(a, \"is the biggest number\")\n",
        "elif b > c:\n",
        "     print(b, \"is the biggest numberc\")\n",
        "else:\n",
        "  print(c, \"is the biggest num\")     "
      ],
      "execution_count": 7,
      "outputs": [
        {
          "output_type": "stream",
          "text": [
            "15 is the biggest numberc\n"
          ],
          "name": "stdout"
        }
      ]
    },
    {
      "cell_type": "markdown",
      "metadata": {
        "id": "xs3XdevOLwNX"
      },
      "source": [
        "- Check the input number is even or not"
      ]
    },
    {
      "cell_type": "code",
      "metadata": {
        "colab": {
          "base_uri": "https://localhost:8080/"
        },
        "id": "sHUAlZawLul2",
        "outputId": "dfdd741f-b88c-4708-c5e0-ab6a2255a091"
      },
      "source": [
        "n = int(input(\"Enter a Number: \"))\n",
        "\n",
        "if n% 2 == 0:\n",
        "  print(n, \"is the even number\")\n",
        "else:\n",
        "  print(n, \"is not even number\")"
      ],
      "execution_count": 8,
      "outputs": [
        {
          "output_type": "stream",
          "text": [
            "Enter a Number: 34\n",
            "34 is the even number\n"
          ],
          "name": "stdout"
        }
      ]
    },
    {
      "cell_type": "markdown",
      "metadata": {
        "id": "8bLzngHXMtIQ"
      },
      "source": [
        "### Verify Given Year Is Leap Year or Not\n",
        "\n",
        "- It should be divisible by 4 \n",
        "- It shouldn,t divisible by 100\n",
        "- It is divisible by 400"
      ]
    },
    {
      "cell_type": "code",
      "metadata": {
        "colab": {
          "base_uri": "https://localhost:8080/"
        },
        "id": "6jND76hLOBzD",
        "outputId": "b7ca9f88-e1eb-4699-f8c8-a20277310554"
      },
      "source": [
        "year =int(input(\"Enter a year: \"))\n",
        "\n",
        "if (year % 400 ==0) or (year % 4 ==0 and year % 100 != 0):\n",
        "  print(year, \"is a leap year\")\n",
        "else:\n",
        "  print(year, \"is not a leap year\")  "
      ],
      "execution_count": 9,
      "outputs": [
        {
          "output_type": "stream",
          "text": [
            "Enter a year: 4567\n",
            "4567 is not a leap year\n"
          ],
          "name": "stdout"
        }
      ]
    },
    {
      "cell_type": "markdown",
      "metadata": {
        "id": "jV0cpZxiOwJA"
      },
      "source": [
        "Calculator Application\n",
        "\n",
        "- 2 input number\n",
        "- Arthemetic operation"
      ]
    },
    {
      "cell_type": "code",
      "metadata": {
        "id": "2L_zZcLEPUO9",
        "colab": {
          "base_uri": "https://localhost:8080/"
        },
        "outputId": "0815b541-4e0d-4e54-a91b-3065bc21ecee"
      },
      "source": [
        "a = int(input(\"Enter a number: \"))\n",
        "b = int(input(\"Enter a number: \"))\n",
        "arth = input(\"What Arithematic I Need To Perform: \")\n",
        "\n",
        "if arth == '+':\n",
        "  print(a+b)\n",
        "elif arth == '-':\n",
        "  print(a-b)\n",
        "elif arth == '*':\n",
        "  print(a*b)\n",
        "else:\n",
        "  print(\"Given Arthematic Operation is invalid\")"
      ],
      "execution_count": 10,
      "outputs": [
        {
          "output_type": "stream",
          "text": [
            "Enter a number: 5\n",
            "Enter a number: 7\n",
            "What Arithematic I Need To Perform: +\n",
            "12\n"
          ],
          "name": "stdout"
        }
      ]
    },
    {
      "cell_type": "markdown",
      "metadata": {
        "id": "AVQc1ToYRJ36"
      },
      "source": [
        "### Loops in Python\n",
        "\n",
        "execute the block of code for multiple times\n",
        "\n",
        "- Intialisation\n",
        "- Conditon\n",
        "- inc/dec\n",
        "\n",
        "#### Syntax\n",
        "\n",
        "- For Loop\n",
        "\n",
        "\n",
        "```python\n",
        "for IterativeVariable in GroupOfData:\n",
        "  Block of Code\n",
        "```\n",
        "- While Loop -> Based on the Condition\n",
        "\n",
        "\n",
        "\n",
        "```python\n",
        "init\n",
        "while condition:\n",
        "  Block of Code\n",
        "  inc/dec\n",
        "```\n",
        "\n",
        "### GroupOfNumber\n",
        "\n",
        "range(init, cond, inc/dec)  \n",
        "range(start, stop, step)  \n",
        "cond -> required arg \n",
        "\n",
        "init -> 0\n",
        "\n",
        "inc/dec -> +1\n",
        "\n",
        "\n",
        "\n",
        "\n",
        "\n"
      ]
    },
    {
      "cell_type": "code",
      "metadata": {
        "colab": {
          "base_uri": "https://localhost:8080/"
        },
        "id": "KksTbzw_UWZV",
        "outputId": "ae002772-cabf-4baf-9191-7403778fa9f0"
      },
      "source": [
        "print(1)\n",
        "print(2)\n",
        "print(3)\n",
        "print(4)"
      ],
      "execution_count": 11,
      "outputs": [
        {
          "output_type": "stream",
          "text": [
            "1\n",
            "2\n",
            "3\n",
            "4\n"
          ],
          "name": "stdout"
        }
      ]
    },
    {
      "cell_type": "markdown",
      "metadata": {
        "id": "MmtaCbLHUZio"
      },
      "source": [
        "Display 1 to 100 numbers"
      ]
    },
    {
      "cell_type": "code",
      "metadata": {
        "colab": {
          "base_uri": "https://localhost:8080/"
        },
        "id": "fa2SaFH5VH8q",
        "outputId": "dd0ce2b5-63bd-4d87-fd59-4834b3f4e092"
      },
      "source": [
        "for i in range (1,101,1):\n",
        "  print(i)"
      ],
      "execution_count": 12,
      "outputs": [
        {
          "output_type": "stream",
          "text": [
            "1\n",
            "2\n",
            "3\n",
            "4\n",
            "5\n",
            "6\n",
            "7\n",
            "8\n",
            "9\n",
            "10\n",
            "11\n",
            "12\n",
            "13\n",
            "14\n",
            "15\n",
            "16\n",
            "17\n",
            "18\n",
            "19\n",
            "20\n",
            "21\n",
            "22\n",
            "23\n",
            "24\n",
            "25\n",
            "26\n",
            "27\n",
            "28\n",
            "29\n",
            "30\n",
            "31\n",
            "32\n",
            "33\n",
            "34\n",
            "35\n",
            "36\n",
            "37\n",
            "38\n",
            "39\n",
            "40\n",
            "41\n",
            "42\n",
            "43\n",
            "44\n",
            "45\n",
            "46\n",
            "47\n",
            "48\n",
            "49\n",
            "50\n",
            "51\n",
            "52\n",
            "53\n",
            "54\n",
            "55\n",
            "56\n",
            "57\n",
            "58\n",
            "59\n",
            "60\n",
            "61\n",
            "62\n",
            "63\n",
            "64\n",
            "65\n",
            "66\n",
            "67\n",
            "68\n",
            "69\n",
            "70\n",
            "71\n",
            "72\n",
            "73\n",
            "74\n",
            "75\n",
            "76\n",
            "77\n",
            "78\n",
            "79\n",
            "80\n",
            "81\n",
            "82\n",
            "83\n",
            "84\n",
            "85\n",
            "86\n",
            "87\n",
            "88\n",
            "89\n",
            "90\n",
            "91\n",
            "92\n",
            "93\n",
            "94\n",
            "95\n",
            "96\n",
            "97\n",
            "98\n",
            "99\n",
            "100\n"
          ],
          "name": "stdout"
        }
      ]
    },
    {
      "cell_type": "code",
      "metadata": {
        "colab": {
          "base_uri": "https://localhost:8080/"
        },
        "id": "NiMwKHPkVjTP",
        "outputId": "925c5d53-379f-4edf-eb03-c3b4efade49d"
      },
      "source": [
        "for i in range (1,101):\n",
        "  print(i)"
      ],
      "execution_count": 13,
      "outputs": [
        {
          "output_type": "stream",
          "text": [
            "1\n",
            "2\n",
            "3\n",
            "4\n",
            "5\n",
            "6\n",
            "7\n",
            "8\n",
            "9\n",
            "10\n",
            "11\n",
            "12\n",
            "13\n",
            "14\n",
            "15\n",
            "16\n",
            "17\n",
            "18\n",
            "19\n",
            "20\n",
            "21\n",
            "22\n",
            "23\n",
            "24\n",
            "25\n",
            "26\n",
            "27\n",
            "28\n",
            "29\n",
            "30\n",
            "31\n",
            "32\n",
            "33\n",
            "34\n",
            "35\n",
            "36\n",
            "37\n",
            "38\n",
            "39\n",
            "40\n",
            "41\n",
            "42\n",
            "43\n",
            "44\n",
            "45\n",
            "46\n",
            "47\n",
            "48\n",
            "49\n",
            "50\n",
            "51\n",
            "52\n",
            "53\n",
            "54\n",
            "55\n",
            "56\n",
            "57\n",
            "58\n",
            "59\n",
            "60\n",
            "61\n",
            "62\n",
            "63\n",
            "64\n",
            "65\n",
            "66\n",
            "67\n",
            "68\n",
            "69\n",
            "70\n",
            "71\n",
            "72\n",
            "73\n",
            "74\n",
            "75\n",
            "76\n",
            "77\n",
            "78\n",
            "79\n",
            "80\n",
            "81\n",
            "82\n",
            "83\n",
            "84\n",
            "85\n",
            "86\n",
            "87\n",
            "88\n",
            "89\n",
            "90\n",
            "91\n",
            "92\n",
            "93\n",
            "94\n",
            "95\n",
            "96\n",
            "97\n",
            "98\n",
            "99\n",
            "100\n"
          ],
          "name": "stdout"
        }
      ]
    },
    {
      "cell_type": "markdown",
      "metadata": {
        "id": "JWUj0VBpWHwQ"
      },
      "source": [
        ""
      ]
    },
    {
      "cell_type": "code",
      "metadata": {
        "id": "EDyIUaGQWG-I",
        "colab": {
          "base_uri": "https://localhost:8080/"
        },
        "outputId": "b953cca9-bdd8-4148-90ca-728e25b340d1"
      },
      "source": [
        "for i in range(101):\n",
        "    print(i, end = '\\t')"
      ],
      "execution_count": 14,
      "outputs": [
        {
          "output_type": "stream",
          "text": [
            "0\t1\t2\t3\t4\t5\t6\t7\t8\t9\t10\t11\t12\t13\t14\t15\t16\t17\t18\t19\t20\t21\t22\t23\t24\t25\t26\t27\t28\t29\t30\t31\t32\t33\t34\t35\t36\t37\t38\t39\t40\t41\t42\t43\t44\t45\t46\t47\t48\t49\t50\t51\t52\t53\t54\t55\t56\t57\t58\t59\t60\t61\t62\t63\t64\t65\t66\t67\t68\t69\t70\t71\t72\t73\t74\t75\t76\t77\t78\t79\t80\t81\t82\t83\t84\t85\t86\t87\t88\t89\t90\t91\t92\t93\t94\t95\t96\t97\t98\t99\t100\t"
          ],
          "name": "stdout"
        }
      ]
    },
    {
      "cell_type": "code",
      "metadata": {
        "colab": {
          "base_uri": "https://localhost:8080/"
        },
        "id": "3ZsV8kyEDplg",
        "outputId": "c7b73131-4c60-4b72-b352-4190a135b130"
      },
      "source": [
        "for i in range(1, 101, 2):\n",
        "    print(i, end = '\\t')"
      ],
      "execution_count": 15,
      "outputs": [
        {
          "output_type": "stream",
          "text": [
            "1\t3\t5\t7\t9\t11\t13\t15\t17\t19\t21\t23\t25\t27\t29\t31\t33\t35\t37\t39\t41\t43\t45\t47\t49\t51\t53\t55\t57\t59\t61\t63\t65\t67\t69\t71\t73\t75\t77\t79\t81\t83\t85\t87\t89\t91\t93\t95\t97\t99\t"
          ],
          "name": "stdout"
        }
      ]
    },
    {
      "cell_type": "markdown",
      "metadata": {
        "id": "rZLEXTQWWIjc"
      },
      "source": [
        "- Even numbers between 1to 1000"
      ]
    },
    {
      "cell_type": "code",
      "metadata": {
        "id": "UIiey2_wWbOT",
        "colab": {
          "base_uri": "https://localhost:8080/"
        },
        "outputId": "7bcb0193-f794-4c05-c045-0e229b0fba31"
      },
      "source": [
        "for num in range(1, 1001, 1):\n",
        "    if num % 2 == 0:\n",
        "        print(num, end = '\\t')"
      ],
      "execution_count": 16,
      "outputs": [
        {
          "output_type": "stream",
          "text": [
            "2\t4\t6\t8\t10\t12\t14\t16\t18\t20\t22\t24\t26\t28\t30\t32\t34\t36\t38\t40\t42\t44\t46\t48\t50\t52\t54\t56\t58\t60\t62\t64\t66\t68\t70\t72\t74\t76\t78\t80\t82\t84\t86\t88\t90\t92\t94\t96\t98\t100\t102\t104\t106\t108\t110\t112\t114\t116\t118\t120\t122\t124\t126\t128\t130\t132\t134\t136\t138\t140\t142\t144\t146\t148\t150\t152\t154\t156\t158\t160\t162\t164\t166\t168\t170\t172\t174\t176\t178\t180\t182\t184\t186\t188\t190\t192\t194\t196\t198\t200\t202\t204\t206\t208\t210\t212\t214\t216\t218\t220\t222\t224\t226\t228\t230\t232\t234\t236\t238\t240\t242\t244\t246\t248\t250\t252\t254\t256\t258\t260\t262\t264\t266\t268\t270\t272\t274\t276\t278\t280\t282\t284\t286\t288\t290\t292\t294\t296\t298\t300\t302\t304\t306\t308\t310\t312\t314\t316\t318\t320\t322\t324\t326\t328\t330\t332\t334\t336\t338\t340\t342\t344\t346\t348\t350\t352\t354\t356\t358\t360\t362\t364\t366\t368\t370\t372\t374\t376\t378\t380\t382\t384\t386\t388\t390\t392\t394\t396\t398\t400\t402\t404\t406\t408\t410\t412\t414\t416\t418\t420\t422\t424\t426\t428\t430\t432\t434\t436\t438\t440\t442\t444\t446\t448\t450\t452\t454\t456\t458\t460\t462\t464\t466\t468\t470\t472\t474\t476\t478\t480\t482\t484\t486\t488\t490\t492\t494\t496\t498\t500\t502\t504\t506\t508\t510\t512\t514\t516\t518\t520\t522\t524\t526\t528\t530\t532\t534\t536\t538\t540\t542\t544\t546\t548\t550\t552\t554\t556\t558\t560\t562\t564\t566\t568\t570\t572\t574\t576\t578\t580\t582\t584\t586\t588\t590\t592\t594\t596\t598\t600\t602\t604\t606\t608\t610\t612\t614\t616\t618\t620\t622\t624\t626\t628\t630\t632\t634\t636\t638\t640\t642\t644\t646\t648\t650\t652\t654\t656\t658\t660\t662\t664\t666\t668\t670\t672\t674\t676\t678\t680\t682\t684\t686\t688\t690\t692\t694\t696\t698\t700\t702\t704\t706\t708\t710\t712\t714\t716\t718\t720\t722\t724\t726\t728\t730\t732\t734\t736\t738\t740\t742\t744\t746\t748\t750\t752\t754\t756\t758\t760\t762\t764\t766\t768\t770\t772\t774\t776\t778\t780\t782\t784\t786\t788\t790\t792\t794\t796\t798\t800\t802\t804\t806\t808\t810\t812\t814\t816\t818\t820\t822\t824\t826\t828\t830\t832\t834\t836\t838\t840\t842\t844\t846\t848\t850\t852\t854\t856\t858\t860\t862\t864\t866\t868\t870\t872\t874\t876\t878\t880\t882\t884\t886\t888\t890\t892\t894\t896\t898\t900\t902\t904\t906\t908\t910\t912\t914\t916\t918\t920\t922\t924\t926\t928\t930\t932\t934\t936\t938\t940\t942\t944\t946\t948\t950\t952\t954\t956\t958\t960\t962\t964\t966\t968\t970\t972\t974\t976\t978\t980\t982\t984\t986\t988\t990\t992\t994\t996\t998\t1000\t"
          ],
          "name": "stdout"
        }
      ]
    },
    {
      "cell_type": "markdown",
      "metadata": {
        "id": "UhQa7GRYWcV5"
      },
      "source": [
        "1. Get the Leap Year year between the given range\n",
        "    - Starting range ending range is given as input\n",
        "2. Get the prime number between the given range\n",
        "3. Get n number of Fibonacci numbers"
      ]
    },
    {
      "cell_type": "markdown",
      "metadata": {
        "id": "fABYSDoUXA9C"
      },
      "source": [
        "### While Loop\n"
      ]
    },
    {
      "cell_type": "code",
      "metadata": {
        "colab": {
          "base_uri": "https://localhost:8080/"
        },
        "id": "CpoTmFh2XEG-",
        "outputId": "d2a229b1-d29f-4043-f98b-44d634bf045b"
      },
      "source": [
        "i = 1\n",
        "while i <  101:\n",
        "  print(i, end = '\\t')\n",
        "  i += 1"
      ],
      "execution_count": 17,
      "outputs": [
        {
          "output_type": "stream",
          "text": [
            "1\t2\t3\t4\t5\t6\t7\t8\t9\t10\t11\t12\t13\t14\t15\t16\t17\t18\t19\t20\t21\t22\t23\t24\t25\t26\t27\t28\t29\t30\t31\t32\t33\t34\t35\t36\t37\t38\t39\t40\t41\t42\t43\t44\t45\t46\t47\t48\t49\t50\t51\t52\t53\t54\t55\t56\t57\t58\t59\t60\t61\t62\t63\t64\t65\t66\t67\t68\t69\t70\t71\t72\t73\t74\t75\t76\t77\t78\t79\t80\t81\t82\t83\t84\t85\t86\t87\t88\t89\t90\t91\t92\t93\t94\t95\t96\t97\t98\t99\t100\t"
          ],
          "name": "stdout"
        }
      ]
    },
    {
      "cell_type": "markdown",
      "metadata": {
        "id": "6Me959XCXkdn"
      },
      "source": [
        "- Break: To terminate the execution of the loop\n",
        "- Continue: Skip the current execution of the loop"
      ]
    },
    {
      "cell_type": "markdown",
      "metadata": {
        "id": "DsUkKi7uYLod"
      },
      "source": [
        "print the numbers betwee 1 to 100 whenever i reached 50 stop travelling"
      ]
    },
    {
      "cell_type": "code",
      "metadata": {
        "colab": {
          "base_uri": "https://localhost:8080/"
        },
        "id": "CVKxfAbAYe7x",
        "outputId": "3be15d8d-ca83-4094-c135-e7fcb81e1ec5"
      },
      "source": [
        "for travel in range(1, 101, 1):\n",
        "    if travel == 50:\n",
        "        break \n",
        "    print(travel, end ='\\t')"
      ],
      "execution_count": 18,
      "outputs": [
        {
          "output_type": "stream",
          "text": [
            "1\t2\t3\t4\t5\t6\t7\t8\t9\t10\t11\t12\t13\t14\t15\t16\t17\t18\t19\t20\t21\t22\t23\t24\t25\t26\t27\t28\t29\t30\t31\t32\t33\t34\t35\t36\t37\t38\t39\t40\t41\t42\t43\t44\t45\t46\t47\t48\t49\t"
          ],
          "name": "stdout"
        }
      ]
    },
    {
      "cell_type": "code",
      "metadata": {
        "colab": {
          "base_uri": "https://localhost:8080/"
        },
        "id": "GwFp5tNRZA_-",
        "outputId": "b87bfe4f-acf3-4270-cdb0-5f50275beae5"
      },
      "source": [
        "for travel in range(1, 101, 1):\n",
        "    if travel == 50:\n",
        "        break \n",
        "    elif travel % 2 == 0:\n",
        "         continue\n",
        "    print(travel, end ='\\t')"
      ],
      "execution_count": 19,
      "outputs": [
        {
          "output_type": "stream",
          "text": [
            "1\t3\t5\t7\t9\t11\t13\t15\t17\t19\t21\t23\t25\t27\t29\t31\t33\t35\t37\t39\t41\t43\t45\t47\t49\t"
          ],
          "name": "stdout"
        }
      ]
    },
    {
      "cell_type": "code",
      "metadata": {
        "colab": {
          "base_uri": "https://localhost:8080/"
        },
        "id": "TztbSj5LZWh8",
        "outputId": "3403de38-da2d-4211-c3c0-5a35a3a34239"
      },
      "source": [
        "while True:\n",
        "  inp = input()\n",
        "  if inp == 'cancel':\n",
        "    print(\"Loop Terminated\")\n",
        "    break\n",
        "  print(inp)"
      ],
      "execution_count": 20,
      "outputs": [
        {
          "output_type": "stream",
          "text": [
            "45\n",
            "45\n",
            "56\n",
            "56\n",
            "8\n",
            "8\n",
            "ghjgjhkj\n",
            "ghjgjhkj\n",
            "kjkujkjkm\n",
            "kjkujkjkm\n",
            "gbfgbf\n",
            "gbfgbf\n",
            "cancel\n",
            "Loop Terminated\n"
          ],
          "name": "stdout"
        }
      ]
    },
    {
      "cell_type": "markdown",
      "metadata": {
        "id": "Sw8D76xXaf3I"
      },
      "source": [
        "### Strings\n",
        "\n",
        "it is group of data enclosed between \"\", '', \"\" \"\" \"\", '''''' are called strings in python \n",
        " \n",
        " #### Properties of Strings\n",
        "  - It is immutable data type\n",
        "  - It is iterable\n"
      ]
    },
    {
      "cell_type": "code",
      "metadata": {
        "id": "FkbMBxePbWtY"
      },
      "source": [
        "s = 'I am a single line string'\n",
        "s2 = \"I am also a single line string\"\n",
        "s3 = '''I am  \n",
        "a \n",
        "multi \n",
        "line \n",
        "string'''\n",
        "s3 = \"\"\"I am \n",
        "a \n",
        "multi \n",
        "line\n",
        "string\"\"\""
      ],
      "execution_count": 21,
      "outputs": []
    },
    {
      "cell_type": "code",
      "metadata": {
        "colab": {
          "base_uri": "https://localhost:8080/"
        },
        "id": "5xQgXEBycil-",
        "outputId": "adff2697-ba4e-48e7-db6f-60bc090fe69c"
      },
      "source": [
        "print(type(s),type(s3))"
      ],
      "execution_count": 22,
      "outputs": [
        {
          "output_type": "stream",
          "text": [
            "<class 'str'> <class 'str'>\n"
          ],
          "name": "stdout"
        }
      ]
    },
    {
      "cell_type": "code",
      "metadata": {
        "colab": {
          "base_uri": "https://localhost:8080/"
        },
        "id": "exT190NccsMi",
        "outputId": "e85c2ac9-f8f9-4a69-aac2-ea9d04100e69"
      },
      "source": [
        "for char in s3:\n",
        "  print(char, end = '\\t')"
      ],
      "execution_count": 23,
      "outputs": [
        {
          "output_type": "stream",
          "text": [
            "I\t \ta\tm\t \t\n",
            "\ta\t \t\n",
            "\tm\tu\tl\tt\ti\t \t\n",
            "\tl\ti\tn\te\t\n",
            "\ts\tt\tr\ti\tn\tg\t"
          ],
          "name": "stdout"
        }
      ]
    },
    {
      "cell_type": "code",
      "metadata": {
        "id": "15VD-kXyecS9"
      },
      "source": [
        "\n",
        "s = \"\"\"A leap year (also known as an intercalary year or bissextile year) is a calendar year that contains an additional day (or, in the case of a lunisolar calendar, a month) added to keep the calendar year synchronized with the astronomical year or seasonal year.[1] Because astronomical events and seasons do not repeat in a whole number of days, calendars that have a constant number of days in each year will unavoidably drift over time with respect to the event that the year is supposed to track, such as seasons. By inserting (called intercalating in technical terminology) an additional day or month into some years, the drift between a civilization's dating system and the physical properties of the solar system can be corrected. A year that is not a leap year is a common year.\n",
        "\n",
        "For example, in the Gregorian calendar, each leap year has 366 days instead of 365, by extending February to 29 days rather than the common 28. These extra days occur in each year which is an integer multiple of 4 (except for years evenly divisible by 100, which are not leap years unless evenly divisible by 400). The leap year of 366 days has 52 weeks and two days, hence the year following a leap year will start later by two days of the week.\"\"\"\n",
        "\n"
      ],
      "execution_count": 24,
      "outputs": []
    },
    {
      "cell_type": "code",
      "metadata": {
        "colab": {
          "base_uri": "https://localhost:8080/"
        },
        "id": "eV2DmNYzFzNx",
        "outputId": "f88da772-2dd2-4257-ff4d-05ff134c31da"
      },
      "source": [
        "print(s)"
      ],
      "execution_count": 25,
      "outputs": [
        {
          "output_type": "stream",
          "text": [
            "A leap year (also known as an intercalary year or bissextile year) is a calendar year that contains an additional day (or, in the case of a lunisolar calendar, a month) added to keep the calendar year synchronized with the astronomical year or seasonal year.[1] Because astronomical events and seasons do not repeat in a whole number of days, calendars that have a constant number of days in each year will unavoidably drift over time with respect to the event that the year is supposed to track, such as seasons. By inserting (called intercalating in technical terminology) an additional day or month into some years, the drift between a civilization's dating system and the physical properties of the solar system can be corrected. A year that is not a leap year is a common year.\n",
            "\n",
            "For example, in the Gregorian calendar, each leap year has 366 days instead of 365, by extending February to 29 days rather than the common 28. These extra days occur in each year which is an integer multiple of 4 (except for years evenly divisible by 100, which are not leap years unless evenly divisible by 400). The leap year of 366 days has 52 weeks and two days, hence the year following a leap year will start later by two days of the week.\n"
          ],
          "name": "stdout"
        }
      ]
    },
    {
      "cell_type": "code",
      "metadata": {
        "colab": {
          "base_uri": "https://localhost:8080/"
        },
        "id": "bVSbW4GYGi_V",
        "outputId": "5d11502d-cbc0-4d00-e31d-fedaf8ccdfe8"
      },
      "source": [
        "for char in s:\n",
        "    print(char, end = '\\t')\n",
        "    "
      ],
      "execution_count": 26,
      "outputs": [
        {
          "output_type": "stream",
          "text": [
            "A\t \tl\te\ta\tp\t \ty\te\ta\tr\t \t(\ta\tl\ts\to\t \tk\tn\to\tw\tn\t \ta\ts\t \ta\tn\t \ti\tn\tt\te\tr\tc\ta\tl\ta\tr\ty\t \ty\te\ta\tr\t \to\tr\t \tb\ti\ts\ts\te\tx\tt\ti\tl\te\t \ty\te\ta\tr\t)\t \ti\ts\t \ta\t \tc\ta\tl\te\tn\td\ta\tr\t \ty\te\ta\tr\t \tt\th\ta\tt\t \tc\to\tn\tt\ta\ti\tn\ts\t \ta\tn\t \ta\td\td\ti\tt\ti\to\tn\ta\tl\t \td\ta\ty\t \t(\to\tr\t,\t \ti\tn\t \tt\th\te\t \tc\ta\ts\te\t \to\tf\t \ta\t \tl\tu\tn\ti\ts\to\tl\ta\tr\t \tc\ta\tl\te\tn\td\ta\tr\t,\t \ta\t \tm\to\tn\tt\th\t)\t \ta\td\td\te\td\t \tt\to\t \tk\te\te\tp\t \tt\th\te\t \tc\ta\tl\te\tn\td\ta\tr\t \ty\te\ta\tr\t \ts\ty\tn\tc\th\tr\to\tn\ti\tz\te\td\t \tw\ti\tt\th\t \tt\th\te\t \ta\ts\tt\tr\to\tn\to\tm\ti\tc\ta\tl\t \ty\te\ta\tr\t \to\tr\t \ts\te\ta\ts\to\tn\ta\tl\t \ty\te\ta\tr\t.\t[\t1\t]\t \tB\te\tc\ta\tu\ts\te\t \ta\ts\tt\tr\to\tn\to\tm\ti\tc\ta\tl\t \te\tv\te\tn\tt\ts\t \ta\tn\td\t \ts\te\ta\ts\to\tn\ts\t \td\to\t \tn\to\tt\t \tr\te\tp\te\ta\tt\t \ti\tn\t \ta\t \tw\th\to\tl\te\t \tn\tu\tm\tb\te\tr\t \to\tf\t \td\ta\ty\ts\t,\t \tc\ta\tl\te\tn\td\ta\tr\ts\t \tt\th\ta\tt\t \th\ta\tv\te\t \ta\t \tc\to\tn\ts\tt\ta\tn\tt\t \tn\tu\tm\tb\te\tr\t \to\tf\t \td\ta\ty\ts\t \ti\tn\t \te\ta\tc\th\t \ty\te\ta\tr\t \tw\ti\tl\tl\t \tu\tn\ta\tv\to\ti\td\ta\tb\tl\ty\t \td\tr\ti\tf\tt\t \to\tv\te\tr\t \tt\ti\tm\te\t \tw\ti\tt\th\t \tr\te\ts\tp\te\tc\tt\t \tt\to\t \tt\th\te\t \te\tv\te\tn\tt\t \tt\th\ta\tt\t \tt\th\te\t \ty\te\ta\tr\t \ti\ts\t \ts\tu\tp\tp\to\ts\te\td\t \tt\to\t \tt\tr\ta\tc\tk\t,\t \ts\tu\tc\th\t \ta\ts\t \ts\te\ta\ts\to\tn\ts\t.\t \tB\ty\t \ti\tn\ts\te\tr\tt\ti\tn\tg\t \t(\tc\ta\tl\tl\te\td\t \ti\tn\tt\te\tr\tc\ta\tl\ta\tt\ti\tn\tg\t \ti\tn\t \tt\te\tc\th\tn\ti\tc\ta\tl\t \tt\te\tr\tm\ti\tn\to\tl\to\tg\ty\t)\t \ta\tn\t \ta\td\td\ti\tt\ti\to\tn\ta\tl\t \td\ta\ty\t \to\tr\t \tm\to\tn\tt\th\t \ti\tn\tt\to\t \ts\to\tm\te\t \ty\te\ta\tr\ts\t,\t \tt\th\te\t \td\tr\ti\tf\tt\t \tb\te\tt\tw\te\te\tn\t \ta\t \tc\ti\tv\ti\tl\ti\tz\ta\tt\ti\to\tn\t'\ts\t \td\ta\tt\ti\tn\tg\t \ts\ty\ts\tt\te\tm\t \ta\tn\td\t \tt\th\te\t \tp\th\ty\ts\ti\tc\ta\tl\t \tp\tr\to\tp\te\tr\tt\ti\te\ts\t \to\tf\t \tt\th\te\t \ts\to\tl\ta\tr\t \ts\ty\ts\tt\te\tm\t \tc\ta\tn\t \tb\te\t \tc\to\tr\tr\te\tc\tt\te\td\t.\t \tA\t \ty\te\ta\tr\t \tt\th\ta\tt\t \ti\ts\t \tn\to\tt\t \ta\t \tl\te\ta\tp\t \ty\te\ta\tr\t \ti\ts\t \ta\t \tc\to\tm\tm\to\tn\t \ty\te\ta\tr\t.\t\n",
            "\t\n",
            "\tF\to\tr\t \te\tx\ta\tm\tp\tl\te\t,\t \ti\tn\t \tt\th\te\t \tG\tr\te\tg\to\tr\ti\ta\tn\t \tc\ta\tl\te\tn\td\ta\tr\t,\t \te\ta\tc\th\t \tl\te\ta\tp\t \ty\te\ta\tr\t \th\ta\ts\t \t3\t6\t6\t \td\ta\ty\ts\t \ti\tn\ts\tt\te\ta\td\t \to\tf\t \t3\t6\t5\t,\t \tb\ty\t \te\tx\tt\te\tn\td\ti\tn\tg\t \tF\te\tb\tr\tu\ta\tr\ty\t \tt\to\t \t2\t9\t \td\ta\ty\ts\t \tr\ta\tt\th\te\tr\t \tt\th\ta\tn\t \tt\th\te\t \tc\to\tm\tm\to\tn\t \t2\t8\t.\t \tT\th\te\ts\te\t \te\tx\tt\tr\ta\t \td\ta\ty\ts\t \to\tc\tc\tu\tr\t \ti\tn\t \te\ta\tc\th\t \ty\te\ta\tr\t \tw\th\ti\tc\th\t \ti\ts\t \ta\tn\t \ti\tn\tt\te\tg\te\tr\t \tm\tu\tl\tt\ti\tp\tl\te\t \to\tf\t \t4\t \t(\te\tx\tc\te\tp\tt\t \tf\to\tr\t \ty\te\ta\tr\ts\t \te\tv\te\tn\tl\ty\t \td\ti\tv\ti\ts\ti\tb\tl\te\t \tb\ty\t \t1\t0\t0\t,\t \tw\th\ti\tc\th\t \ta\tr\te\t \tn\to\tt\t \tl\te\ta\tp\t \ty\te\ta\tr\ts\t \tu\tn\tl\te\ts\ts\t \te\tv\te\tn\tl\ty\t \td\ti\tv\ti\ts\ti\tb\tl\te\t \tb\ty\t \t4\t0\t0\t)\t.\t \tT\th\te\t \tl\te\ta\tp\t \ty\te\ta\tr\t \to\tf\t \t3\t6\t6\t \td\ta\ty\ts\t \th\ta\ts\t \t5\t2\t \tw\te\te\tk\ts\t \ta\tn\td\t \tt\tw\to\t \td\ta\ty\ts\t,\t \th\te\tn\tc\te\t \tt\th\te\t \ty\te\ta\tr\t \tf\to\tl\tl\to\tw\ti\tn\tg\t \ta\t \tl\te\ta\tp\t \ty\te\ta\tr\t \tw\ti\tl\tl\t \ts\tt\ta\tr\tt\t \tl\ta\tt\te\tr\t \tb\ty\t \tt\tw\to\t \td\ta\ty\ts\t \to\tf\t \tt\th\te\t \tw\te\te\tk\t.\t"
          ],
          "name": "stdout"
        }
      ]
    },
    {
      "cell_type": "code",
      "metadata": {
        "colab": {
          "base_uri": "https://localhost:8080/"
        },
        "id": "QZWr30s-G4Yj",
        "outputId": "418fa281-2894-4b6d-dd63-32b690c268a2"
      },
      "source": [
        "for char in s:\n",
        "    if char == 'a' or char == 'e' or char == 'i' or char == 'o' or char == 'u':\n",
        "        print(char, end = ' ')"
      ],
      "execution_count": 27,
      "outputs": [
        {
          "output_type": "stream",
          "text": [
            "e a e a a o o a a i e a a e a o i e i e e a i a a e a e a a o a i a a i i o a a o i e a e o a u i o a a e a a o a e o e e e a e a e a o i e i e a o o i a e a o e a o a e a e a u e a o o i a e e a e a o o o e e a i a o e u e o a a e a a a e a o a u e o a i e a e a i u a o i a i o e i e i e e o e e e a e e a i u o e o a u a e a o i e i a e i e a a i i e i a e i o o a a i i o a a o o i o o e e a e i e e e a i i i a i o a i e a e i a o e i e o e o a e a e o e e e a a i o a e a e a i a o o e a o e a e i e e o i a a e a e a e a e a a a i e a o e e i e u a o a a e a e o o e e e a a o u i e a e a i i a i e e u i e o e e o e a e e i i i e i a e o e a e a u e e e i i i e e e a e a o a a e e a o a e e e e a o o i a e a e a i a a e o a o e e e "
          ],
          "name": "stdout"
        }
      ]
    },
    {
      "cell_type": "code",
      "metadata": {
        "colab": {
          "base_uri": "https://localhost:8080/"
        },
        "id": "v6q_lDdVHDuk",
        "outputId": "c60aa34e-7f45-4512-9c15-3b81a8a6ac13"
      },
      "source": [
        "for char in s:\n",
        "    if char in 'aeiouAEIOU':\n",
        "        print(char, end = ' ')"
      ],
      "execution_count": 28,
      "outputs": [
        {
          "output_type": "stream",
          "text": [
            "A e a e a a o o a a i e a a e a o i e i e e a i a a e a e a a o a i a a i i o a a o i e a e o a u i o a a e a a o a e o e e e a e a e a o i e i e a o o i a e a o e a o a e a e a u e a o o i a e e a e a o o o e e a i a o e u e o a a e a a a e a o a u e o a i e a e a i u a o i a i o e i e i e e o e e e a e e a i u o e o a u a e a o i e i a e i e a a i i e i a e i o o a a i i o a a o o i o o e e a e i e e e a i i i a i o a i e a e i a o e i e o e o a e a e o e e A e a a i o a e a e a i a o o e a o e a e i e e o i a a e a e a e a e a a a i e a o e e i e u a o a a e a e o o e e e a a o u i e a e a i i a i e e u i e o e e o e a e e i i i e i a e o e a e a u e e e i i i e e e a e a o a a e e a o a e e e e a o o i a e a e a i a a e o a o e e e "
          ],
          "name": "stdout"
        }
      ]
    },
    {
      "cell_type": "code",
      "metadata": {
        "colab": {
          "base_uri": "https://localhost:8080/"
        },
        "id": "5m6ir2QrHPy7",
        "outputId": "ad6eddf4-70d4-4580-8c28-380157b28035"
      },
      "source": [
        "lo = 0\n",
        "uo = 0\n",
        "c = 0\n",
        "\n",
        "for char in s:\n",
        "    if char in 'aeiou':\n",
        "        lo += 1\n",
        "    elif char in 'AEIOU':\n",
        "        uo += 1\n",
        "    else:\n",
        "        c += 1\n",
        "print(uo, \"Upper Case Ovels\", lo , \"Lower\", c, \"Consants\")"
      ],
      "execution_count": 29,
      "outputs": [
        {
          "output_type": "stream",
          "text": [
            "2 Upper Case Ovels 371 Lower 857 Consants\n"
          ],
          "name": "stdout"
        }
      ]
    },
    {
      "cell_type": "markdown",
      "metadata": {
        "id": "3doOp4NEIO6X"
      },
      "source": [
        "### Accessing the Characters from the string\n",
        "- Indexing\n",
        "   - +ve/Forward\n",
        "   - _ve/Reverse\n",
        "- Slicing\n",
        "   - +ve/Forward\n",
        "   - _ve/Reverse   "
      ]
    },
    {
      "cell_type": "code",
      "metadata": {
        "colab": {
          "base_uri": "https://localhost:8080/"
        },
        "id": "hACTxtVnI2Kk",
        "outputId": "f4bf303f-fc75-4685-d671-87b5bc681dc8"
      },
      "source": [
        "print(s)"
      ],
      "execution_count": 30,
      "outputs": [
        {
          "output_type": "stream",
          "text": [
            "A leap year (also known as an intercalary year or bissextile year) is a calendar year that contains an additional day (or, in the case of a lunisolar calendar, a month) added to keep the calendar year synchronized with the astronomical year or seasonal year.[1] Because astronomical events and seasons do not repeat in a whole number of days, calendars that have a constant number of days in each year will unavoidably drift over time with respect to the event that the year is supposed to track, such as seasons. By inserting (called intercalating in technical terminology) an additional day or month into some years, the drift between a civilization's dating system and the physical properties of the solar system can be corrected. A year that is not a leap year is a common year.\n",
            "\n",
            "For example, in the Gregorian calendar, each leap year has 366 days instead of 365, by extending February to 29 days rather than the common 28. These extra days occur in each year which is an integer multiple of 4 (except for years evenly divisible by 100, which are not leap years unless evenly divisible by 400). The leap year of 366 days has 52 weeks and two days, hence the year following a leap year will start later by two days of the week.\n"
          ],
          "name": "stdout"
        }
      ]
    },
    {
      "cell_type": "code",
      "metadata": {
        "colab": {
          "base_uri": "https://localhost:8080/"
        },
        "id": "lRqQoRY0I6cE",
        "outputId": "411ee6f2-0343-44b7-e388-27840c17e9ad"
      },
      "source": [
        "print(s[0])"
      ],
      "execution_count": 31,
      "outputs": [
        {
          "output_type": "stream",
          "text": [
            "A\n"
          ],
          "name": "stdout"
        }
      ]
    },
    {
      "cell_type": "code",
      "metadata": {
        "colab": {
          "base_uri": "https://localhost:8080/"
        },
        "id": "zQZ8yUL0JAk2",
        "outputId": "0002ee90-8b65-41c0-ae1b-1a8bd7c1f0f6"
      },
      "source": [
        "print(s[8])"
      ],
      "execution_count": 33,
      "outputs": [
        {
          "output_type": "stream",
          "text": [
            "e\n"
          ],
          "name": "stdout"
        }
      ]
    },
    {
      "cell_type": "code",
      "metadata": {
        "colab": {
          "base_uri": "https://localhost:8080/"
        },
        "id": "X7tS-yRXJMDy",
        "outputId": "c6fc9541-d9b6-4dfa-d66c-717af035dabe"
      },
      "source": [
        "print(s[-1])"
      ],
      "execution_count": 34,
      "outputs": [
        {
          "output_type": "stream",
          "text": [
            ".\n"
          ],
          "name": "stdout"
        }
      ]
    },
    {
      "cell_type": "code",
      "metadata": {
        "colab": {
          "base_uri": "https://localhost:8080/"
        },
        "id": "6FrwYHGeJPNT",
        "outputId": "e1c519a5-fdb4-4f8e-b4a2-f4717f435b5a"
      },
      "source": [
        "print(s[-9])"
      ],
      "execution_count": 35,
      "outputs": [
        {
          "output_type": "stream",
          "text": [
            "t\n"
          ],
          "name": "stdout"
        }
      ]
    }
  ]
}