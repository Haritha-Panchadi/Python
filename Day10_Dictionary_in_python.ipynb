{
  "nbformat": 4,
  "nbformat_minor": 0,
  "metadata": {
    "colab": {
      "name": "Day10_Dictionary in python.ipynb",
      "provenance": [],
      "collapsed_sections": []
    },
    "kernelspec": {
      "name": "python3",
      "display_name": "Python 3"
    },
    "language_info": {
      "name": "python"
    }
  },
  "cells": [
    {
      "cell_type": "markdown",
      "metadata": {
        "id": "al8hbf--0YI6"
      },
      "source": [
        "### Todays Objectives\n",
        "- Dictionary\n",
        "  - Accessing the elements\n",
        "  - Dictionary Methods\n",
        "- Sets\n",
        "  - Set Methods\n",
        "### **Dictionary**\n",
        "It is used to store non-homogenous group of data in the form of Key:value\n",
        "\n",
        "#### Properties\n",
        "- It is used to store data as K:V in {}\n",
        "- It is iterable\n",
        "- Ordered\n",
        "  - Python 3.6 is unOrdered\n",
        "  - Python 3.6+ in ordered\n",
        "- Key should be unique and it is immutable"
      ]
    },
    {
      "cell_type": "code",
      "metadata": {
        "colab": {
          "base_uri": "https://localhost:8080/"
        },
        "id": "2aJJq7P-2wHy",
        "outputId": "aabb65b1-b79f-4f8e-963b-c036b64c77b5"
      },
      "source": [
        "d1 = {}\n",
        "d2 = dict()\n",
        "\n",
        "\n",
        "print(type(d1), type(d2))"
      ],
      "execution_count": 1,
      "outputs": [
        {
          "output_type": "stream",
          "text": [
            "<class 'dict'> <class 'dict'>\n"
          ],
          "name": "stdout"
        }
      ]
    },
    {
      "cell_type": "code",
      "metadata": {
        "colab": {
          "base_uri": "https://localhost:8080/"
        },
        "id": "YCVynqsI3Bcc",
        "outputId": "d92f580b-0138-4066-9767-8e8961b49681"
      },
      "source": [
        "d1 = {'RollNo': [1,2,3,4,5,6]}\n",
        "\n",
        "\n",
        "print(d1)"
      ],
      "execution_count": 2,
      "outputs": [
        {
          "output_type": "stream",
          "text": [
            "{'RollNo': [1, 2, 3, 4, 5, 6]}\n"
          ],
          "name": "stdout"
        }
      ]
    },
    {
      "cell_type": "code",
      "metadata": {
        "colab": {
          "base_uri": "https://localhost:8080/"
        },
        "id": "uOmpcRiU3CDA",
        "outputId": "42cdcb24-a127-4069-a6b3-b9d9403b38e4"
      },
      "source": [
        "d1 = {'1234567890': ['APSSDC', 'Vijayawada', '01/01/2000', '9876543210'],\n",
        "      '9876543210': ['Python', 'Earth', '01/01/1994', '0123456789'],\n",
        "      '1234567890': ['APSSDC', 'Visakhapatnam', '01/01/2000', '9876543210']}\n",
        "\n",
        "print(d1)"
      ],
      "execution_count": 3,
      "outputs": [
        {
          "output_type": "stream",
          "text": [
            "{'1234567890': ['APSSDC', 'Visakhapatnam', '01/01/2000', '9876543210'], '9876543210': ['Python', 'Earth', '01/01/1994', '0123456789']}\n"
          ],
          "name": "stdout"
        }
      ]
    },
    {
      "cell_type": "code",
      "metadata": {
        "colab": {
          "base_uri": "https://localhost:8080/",
          "height": 163
        },
        "id": "AH5TuNC83FL0",
        "outputId": "c736f97f-c21a-49bb-dc9f-d68fceb014c9"
      },
      "source": [
        "d2 = {[1,2,3]: 'Python'}"
      ],
      "execution_count": 4,
      "outputs": [
        {
          "output_type": "error",
          "ename": "TypeError",
          "evalue": "ignored",
          "traceback": [
            "\u001b[0;31m---------------------------------------------------------------------------\u001b[0m",
            "\u001b[0;31mTypeError\u001b[0m                                 Traceback (most recent call last)",
            "\u001b[0;32m<ipython-input-4-1efc00009c8b>\u001b[0m in \u001b[0;36m<module>\u001b[0;34m()\u001b[0m\n\u001b[0;32m----> 1\u001b[0;31m \u001b[0md2\u001b[0m \u001b[0;34m=\u001b[0m \u001b[0;34m{\u001b[0m\u001b[0;34m[\u001b[0m\u001b[0;36m1\u001b[0m\u001b[0;34m,\u001b[0m\u001b[0;36m2\u001b[0m\u001b[0;34m,\u001b[0m\u001b[0;36m3\u001b[0m\u001b[0;34m]\u001b[0m\u001b[0;34m:\u001b[0m \u001b[0;34m'Python'\u001b[0m\u001b[0;34m}\u001b[0m\u001b[0;34m\u001b[0m\u001b[0;34m\u001b[0m\u001b[0m\n\u001b[0m",
            "\u001b[0;31mTypeError\u001b[0m: unhashable type: 'list'"
          ]
        }
      ]
    },
    {
      "cell_type": "code",
      "metadata": {
        "id": "h7puLC0k3HrW"
      },
      "source": [
        "d2 = {(1,2,3): 'Python'}"
      ],
      "execution_count": 6,
      "outputs": []
    },
    {
      "cell_type": "code",
      "metadata": {
        "colab": {
          "base_uri": "https://localhost:8080/"
        },
        "id": "xIoeLhUG3TCi",
        "outputId": "924e0edb-1d9a-4701-f405-1f2a674edbc7"
      },
      "source": [
        "print(d2)"
      ],
      "execution_count": 7,
      "outputs": [
        {
          "output_type": "stream",
          "text": [
            "{(1, 2, 3): 'Python'}\n"
          ],
          "name": "stdout"
        }
      ]
    },
    {
      "cell_type": "markdown",
      "metadata": {
        "id": "ccBT9qyV3Yl6"
      },
      "source": [
        "### Accessing the pairs fromthe dict"
      ]
    },
    {
      "cell_type": "code",
      "metadata": {
        "colab": {
          "base_uri": "https://localhost:8080/"
        },
        "id": "qr0ac85b3_F0",
        "outputId": "4d7d8f2e-42ff-4a8e-93d0-0ffbc2023774"
      },
      "source": [
        "print(d1)"
      ],
      "execution_count": 8,
      "outputs": [
        {
          "output_type": "stream",
          "text": [
            "{'1234567890': ['APSSDC', 'Visakhapatnam', '07/07/2014', '9876543210'], '9876543210': ['Python', 'Earth', '01/01/1994', '0123456789']}\n"
          ],
          "name": "stdout"
        }
      ]
    },
    {
      "cell_type": "code",
      "metadata": {
        "colab": {
          "base_uri": "https://localhost:8080/"
        },
        "id": "di2SM0O04Bdv",
        "outputId": "ea4a6696-a26f-4481-da17-7ac5aacc5a10"
      },
      "source": [
        "print(d1['1234567890'])"
      ],
      "execution_count": 9,
      "outputs": [
        {
          "output_type": "stream",
          "text": [
            "['APSSDC', 'Visakhapatnam', '07/07/2014', '9876543210']\n"
          ],
          "name": "stdout"
        }
      ]
    },
    {
      "cell_type": "code",
      "metadata": {
        "colab": {
          "base_uri": "https://localhost:8080/",
          "height": 163
        },
        "id": "haVPaeA84EEz",
        "outputId": "40bd4363-dccb-4129-89b0-24e0fb48408c"
      },
      "source": [
        "print(d1['123456789'])"
      ],
      "execution_count": 10,
      "outputs": [
        {
          "output_type": "error",
          "ename": "KeyError",
          "evalue": "ignored",
          "traceback": [
            "\u001b[0;31m---------------------------------------------------------------------------\u001b[0m",
            "\u001b[0;31mKeyError\u001b[0m                                  Traceback (most recent call last)",
            "\u001b[0;32m<ipython-input-10-f54622f17d58>\u001b[0m in \u001b[0;36m<module>\u001b[0;34m()\u001b[0m\n\u001b[0;32m----> 1\u001b[0;31m \u001b[0mprint\u001b[0m\u001b[0;34m(\u001b[0m\u001b[0md1\u001b[0m\u001b[0;34m[\u001b[0m\u001b[0;34m'123456789'\u001b[0m\u001b[0;34m]\u001b[0m\u001b[0;34m)\u001b[0m\u001b[0;34m\u001b[0m\u001b[0;34m\u001b[0m\u001b[0m\n\u001b[0m",
            "\u001b[0;31mKeyError\u001b[0m: '123456789'"
          ]
        }
      ]
    },
    {
      "cell_type": "code",
      "metadata": {
        "colab": {
          "base_uri": "https://localhost:8080/"
        },
        "id": "54VOrW-l4JHu",
        "outputId": "75621398-d71b-4c22-e896-fe04fa2a2fb1"
      },
      "source": [
        "d1['1234567890'] = ['Apssdc', 'Tadepalli', '01/01/2014', '1234567890']\n",
        "d1['123456789'] = ['APSSDC', 'Visakhapatnam', '01/01/2000', '9876543210']\n",
        "\n",
        "\n",
        "print(d1)"
      ],
      "execution_count": 11,
      "outputs": [
        {
          "output_type": "stream",
          "text": [
            "{'1234567890': ['Apssdc', 'Tadepalli', '01/01/2014', '1234567890'], '9876543210': ['Python', 'Earth', '01/01/1994', '0123456789'], '123456789': ['APSSDC', 'Visakhapatnam', '01/01/2000', '9876543210']}\n"
          ],
          "name": "stdout"
        }
      ]
    },
    {
      "cell_type": "code",
      "metadata": {
        "colab": {
          "base_uri": "https://localhost:8080/"
        },
        "id": "SPySCFD74LNf",
        "outputId": "9cc8612b-3073-4b04-e663-7d9c7c666480"
      },
      "source": [
        "print(d1['1234567890'])"
      ],
      "execution_count": 12,
      "outputs": [
        {
          "output_type": "stream",
          "text": [
            "['Apssdc', 'Tadepalli', '01/01/2014', '1234567890']\n"
          ],
          "name": "stdout"
        }
      ]
    },
    {
      "cell_type": "code",
      "metadata": {
        "colab": {
          "base_uri": "https://localhost:8080/"
        },
        "id": "eXMmP3D64N8C",
        "outputId": "85d51c97-9cad-4525-d97c-edc7391edf8b"
      },
      "source": [
        "print(d1['1234567890'][2])"
      ],
      "execution_count": 13,
      "outputs": [
        {
          "output_type": "stream",
          "text": [
            "01/01/2014\n"
          ],
          "name": "stdout"
        }
      ]
    },
    {
      "cell_type": "code",
      "metadata": {
        "colab": {
          "base_uri": "https://localhost:8080/"
        },
        "id": "GQXxsArQ4P8o",
        "outputId": "3887a680-8ec3-4e68-975c-3dbed030f52c"
      },
      "source": [
        "d1['1234567890'][2] = '07/07/2014'\n",
        "\n",
        "print(d1)"
      ],
      "execution_count": 14,
      "outputs": [
        {
          "output_type": "stream",
          "text": [
            "{'1234567890': ['Apssdc', 'Tadepalli', '07/07/2014', '1234567890'], '9876543210': ['Python', 'Earth', '01/01/1994', '0123456789'], '123456789': ['APSSDC', 'Visakhapatnam', '01/01/2000', '9876543210']}\n"
          ],
          "name": "stdout"
        }
      ]
    },
    {
      "cell_type": "code",
      "metadata": {
        "colab": {
          "base_uri": "https://localhost:8080/"
        },
        "id": "_58OWZtJ4R2G",
        "outputId": "5c5b17d9-2ba2-4771-a309-0233bf37fb31"
      },
      "source": [
        "d1['1234567890'][3] = '95135741236'\n",
        "\n",
        "print(d1)"
      ],
      "execution_count": 15,
      "outputs": [
        {
          "output_type": "stream",
          "text": [
            "{'1234567890': ['Apssdc', 'Tadepalli', '07/07/2014', '95135741236'], '9876543210': ['Python', 'Earth', '01/01/1994', '0123456789'], '123456789': ['APSSDC', 'Visakhapatnam', '01/01/2000', '9876543210']}\n"
          ],
          "name": "stdout"
        }
      ]
    },
    {
      "cell_type": "code",
      "metadata": {
        "colab": {
          "base_uri": "https://localhost:8080/"
        },
        "id": "DCOukLC54T4p",
        "outputId": "2e7024ab-e05a-4208-a6f6-e651a20156c5"
      },
      "source": [
        "d1['1234567890'] = sorted(d1['1234567890'])\n",
        "\n",
        "print(d1)"
      ],
      "execution_count": 16,
      "outputs": [
        {
          "output_type": "stream",
          "text": [
            "{'1234567890': ['07/07/2014', '95135741236', 'Apssdc', 'Tadepalli'], '9876543210': ['Python', 'Earth', '01/01/1994', '0123456789'], '123456789': ['APSSDC', 'Visakhapatnam', '01/01/2000', '9876543210']}\n"
          ],
          "name": "stdout"
        }
      ]
    },
    {
      "cell_type": "code",
      "metadata": {
        "id": "wrIaMUPn4UuR"
      },
      "source": [
        "d1 = {123:456, 132:344, 123:456}"
      ],
      "execution_count": 17,
      "outputs": []
    },
    {
      "cell_type": "code",
      "metadata": {
        "colab": {
          "base_uri": "https://localhost:8080/"
        },
        "id": "2tf1tTKd4Wpb",
        "outputId": "d7a118ae-f6a0-40a8-f5d6-3e4300aa2f9d"
      },
      "source": [
        "print(d1)"
      ],
      "execution_count": 18,
      "outputs": [
        {
          "output_type": "stream",
          "text": [
            "{123: 456, 132: 344}\n"
          ],
          "name": "stdout"
        }
      ]
    },
    {
      "cell_type": "code",
      "metadata": {
        "colab": {
          "base_uri": "https://localhost:8080/"
        },
        "id": "0kiqfqKL4bpa",
        "outputId": "aa212239-7725-4b3b-c6d5-b91255256a71"
      },
      "source": [
        "print(d1[123])"
      ],
      "execution_count": 19,
      "outputs": [
        {
          "output_type": "stream",
          "text": [
            "456\n"
          ],
          "name": "stdout"
        }
      ]
    },
    {
      "cell_type": "markdown",
      "metadata": {
        "id": "I5wO9pZg4y4P"
      },
      "source": [
        "### **Dictionary Methods** "
      ]
    },
    {
      "cell_type": "code",
      "metadata": {
        "colab": {
          "base_uri": "https://localhost:8080/"
        },
        "id": "w3UARfDh45qO",
        "outputId": "a26ce862-3a59-4904-9482-044a95f99e5e"
      },
      "source": [
        "print(d1)\n"
      ],
      "execution_count": 20,
      "outputs": [
        {
          "output_type": "stream",
          "text": [
            "{123: 456, 132: 344}\n"
          ],
          "name": "stdout"
        }
      ]
    },
    {
      "cell_type": "code",
      "metadata": {
        "colab": {
          "base_uri": "https://localhost:8080/"
        },
        "id": "CS6xW4lK472d",
        "outputId": "791ec84f-400f-47f9-cd23-a2f56281bd71"
      },
      "source": [
        "print(d1.keys())"
      ],
      "execution_count": 22,
      "outputs": [
        {
          "output_type": "stream",
          "text": [
            "dict_keys([123, 132])\n"
          ],
          "name": "stdout"
        }
      ]
    },
    {
      "cell_type": "code",
      "metadata": {
        "colab": {
          "base_uri": "https://localhost:8080/"
        },
        "id": "lxaqyYMC4_Pa",
        "outputId": "94dc8b1b-569e-44dc-b436-98879459a08c"
      },
      "source": [
        "print(d1.values())"
      ],
      "execution_count": 23,
      "outputs": [
        {
          "output_type": "stream",
          "text": [
            "dict_values([456, 344])\n"
          ],
          "name": "stdout"
        }
      ]
    },
    {
      "cell_type": "code",
      "metadata": {
        "colab": {
          "base_uri": "https://localhost:8080/"
        },
        "id": "E7v4bMd75BPq",
        "outputId": "57d84bfe-8a36-4d63-ac03-fd528e41fcb8"
      },
      "source": [
        "print(d1.items())"
      ],
      "execution_count": 24,
      "outputs": [
        {
          "output_type": "stream",
          "text": [
            "dict_items([(123, 456), (132, 344)])\n"
          ],
          "name": "stdout"
        }
      ]
    },
    {
      "cell_type": "code",
      "metadata": {
        "id": "MIuRcVbX5DGt"
      },
      "source": [
        "d1.get('1234567890')"
      ],
      "execution_count": 25,
      "outputs": []
    },
    {
      "cell_type": "code",
      "metadata": {
        "colab": {
          "base_uri": "https://localhost:8080/"
        },
        "id": "QiTtmFVi5Fem",
        "outputId": "e48b4a4c-afa5-49c8-81b5-85be6e77a371"
      },
      "source": [
        "print(d1.get('123'))"
      ],
      "execution_count": 26,
      "outputs": [
        {
          "output_type": "stream",
          "text": [
            "None\n"
          ],
          "name": "stdout"
        }
      ]
    },
    {
      "cell_type": "code",
      "metadata": {
        "colab": {
          "base_uri": "https://localhost:8080/"
        },
        "id": "bt3GSzit5Hsq",
        "outputId": "285b4b22-0faf-4370-a8d8-2a1a825bdab9"
      },
      "source": [
        "print(d1.get('123', 'Key not Avaliable'))"
      ],
      "execution_count": 27,
      "outputs": [
        {
          "output_type": "stream",
          "text": [
            "Key not Avaliable\n"
          ],
          "name": "stdout"
        }
      ]
    },
    {
      "cell_type": "code",
      "metadata": {
        "colab": {
          "base_uri": "https://localhost:8080/"
        },
        "id": "CPtPLPjj5IbC",
        "outputId": "c563ea83-7f14-4292-8d1a-2c77581b6fbd"
      },
      "source": [
        "print(d1.get('1234567890', 'Key not Avaliable'))"
      ],
      "execution_count": 28,
      "outputs": [
        {
          "output_type": "stream",
          "text": [
            "Key not Avaliable\n"
          ],
          "name": "stdout"
        }
      ]
    },
    {
      "cell_type": "code",
      "metadata": {
        "id": "wtM6zAnK5MHm"
      },
      "source": [
        "m21 = {'2_1': [25, 55, 65, 77, 80, 60]}\n",
        "m31 = {'2_1': [35, 55, 65, 77, 80, 60], '3_1': [1,2,4,5,6]}\n",
        "m32 = {'2_1': [50, 55, 65, 77, 80, 60], '3_2': [6,5,4,3,2,1]}"
      ],
      "execution_count": 35,
      "outputs": []
    },
    {
      "cell_type": "code",
      "metadata": {
        "colab": {
          "base_uri": "https://localhost:8080/"
        },
        "id": "-IpiN1i05M0P",
        "outputId": "50bbcf62-1056-4f06-9717-ab6b38e4d7c9"
      },
      "source": [
        "print(m21)"
      ],
      "execution_count": 36,
      "outputs": [
        {
          "output_type": "stream",
          "text": [
            "{'2_1': [25, 55, 65, 77, 80, 60]}\n"
          ],
          "name": "stdout"
        }
      ]
    },
    {
      "cell_type": "code",
      "metadata": {
        "colab": {
          "base_uri": "https://localhost:8080/"
        },
        "id": "oYrjn1VK5PJL",
        "outputId": "b9cf2757-d10e-4411-8db7-69bcda37a757"
      },
      "source": [
        "m21.update(m31)\n",
        "print(m21)"
      ],
      "execution_count": 37,
      "outputs": [
        {
          "output_type": "stream",
          "text": [
            "{'2_1': [35, 55, 65, 77, 80, 60], '3_1': [1, 2, 4, 5, 6]}\n"
          ],
          "name": "stdout"
        }
      ]
    },
    {
      "cell_type": "code",
      "metadata": {
        "colab": {
          "base_uri": "https://localhost:8080/"
        },
        "id": "V8Q_-Jli5RO4",
        "outputId": "372e94ad-d4f4-4236-f2a0-98b9c5dab66b"
      },
      "source": [
        "m21.update(m32)\n",
        "\n",
        "print(m21)"
      ],
      "execution_count": 38,
      "outputs": [
        {
          "output_type": "stream",
          "text": [
            "{'2_1': [50, 55, 65, 77, 80, 60], '3_1': [1, 2, 4, 5, 6], '3_2': [6, 5, 4, 3, 2, 1]}\n"
          ],
          "name": "stdout"
        }
      ]
    },
    {
      "cell_type": "code",
      "metadata": {
        "colab": {
          "base_uri": "https://localhost:8080/",
          "height": 197
        },
        "id": "30a9URhy6oS8",
        "outputId": "d5ddf202-52d2-468e-f97c-b459980d984f"
      },
      "source": [
        "copy = Mark2_1.copy()\n",
        "\n",
        "print(copy)"
      ],
      "execution_count": 44,
      "outputs": [
        {
          "output_type": "error",
          "ename": "NameError",
          "evalue": "ignored",
          "traceback": [
            "\u001b[0;31m---------------------------------------------------------------------------\u001b[0m",
            "\u001b[0;31mNameError\u001b[0m                                 Traceback (most recent call last)",
            "\u001b[0;32m<ipython-input-44-415453c000dd>\u001b[0m in \u001b[0;36m<module>\u001b[0;34m()\u001b[0m\n\u001b[0;32m----> 1\u001b[0;31m \u001b[0mcopy\u001b[0m \u001b[0;34m=\u001b[0m \u001b[0mMark2_1\u001b[0m\u001b[0;34m.\u001b[0m\u001b[0mcopy\u001b[0m\u001b[0;34m(\u001b[0m\u001b[0;34m)\u001b[0m\u001b[0;34m\u001b[0m\u001b[0;34m\u001b[0m\u001b[0m\n\u001b[0m\u001b[1;32m      2\u001b[0m \u001b[0;34m\u001b[0m\u001b[0m\n\u001b[1;32m      3\u001b[0m \u001b[0mprint\u001b[0m\u001b[0;34m(\u001b[0m\u001b[0mcopy\u001b[0m\u001b[0;34m)\u001b[0m\u001b[0;34m\u001b[0m\u001b[0;34m\u001b[0m\u001b[0m\n",
            "\u001b[0;31mNameError\u001b[0m: name 'Mark2_1' is not defined"
          ]
        }
      ]
    },
    {
      "cell_type": "code",
      "metadata": {
        "colab": {
          "base_uri": "https://localhost:8080/"
        },
        "id": "1P119Wqm5VUI",
        "outputId": "34e632fe-8577-45e1-f50a-531b244962f8"
      },
      "source": [
        "m21 = m31.copy()\n",
        "\n",
        "print(m21)"
      ],
      "execution_count": 40,
      "outputs": [
        {
          "output_type": "stream",
          "text": [
            "{'2_1': [35, 55, 65, 77, 80, 60], '3_1': [1, 2, 4, 5, 6]}\n"
          ],
          "name": "stdout"
        }
      ]
    },
    {
      "cell_type": "code",
      "metadata": {
        "colab": {
          "base_uri": "https://localhost:8080/"
        },
        "id": "wG8b4efd5X2N",
        "outputId": "6c4ccb26-9b47-438b-fd96-10fc07817252"
      },
      "source": [
        "m21.clear()\n",
        "\n",
        "print(m21)"
      ],
      "execution_count": 41,
      "outputs": [
        {
          "output_type": "stream",
          "text": [
            "{}\n"
          ],
          "name": "stdout"
        }
      ]
    },
    {
      "cell_type": "code",
      "metadata": {
        "colab": {
          "base_uri": "https://localhost:8080/"
        },
        "id": "SHgJTVCF5ZyB",
        "outputId": "ef900a7b-e7ea-4eba-ac43-ad68f2e15c41"
      },
      "source": [
        "print(m31.pop('3_1'))\n",
        "\n",
        "print(m31)"
      ],
      "execution_count": 42,
      "outputs": [
        {
          "output_type": "stream",
          "text": [
            "[1, 2, 4, 5, 6]\n",
            "{'2_1': [35, 55, 65, 77, 80, 60]}\n"
          ],
          "name": "stdout"
        }
      ]
    },
    {
      "cell_type": "code",
      "metadata": {
        "colab": {
          "base_uri": "https://localhost:8080/",
          "height": 197
        },
        "id": "tMCkn7Sl5b4O",
        "outputId": "f0031596-d782-46f4-cc79-caf923707790"
      },
      "source": [
        "print(m31.pop('3_1'))\n",
        "\n",
        "print(m31)"
      ],
      "execution_count": 43,
      "outputs": [
        {
          "output_type": "error",
          "ename": "KeyError",
          "evalue": "ignored",
          "traceback": [
            "\u001b[0;31m---------------------------------------------------------------------------\u001b[0m",
            "\u001b[0;31mKeyError\u001b[0m                                  Traceback (most recent call last)",
            "\u001b[0;32m<ipython-input-43-887351cc3e4f>\u001b[0m in \u001b[0;36m<module>\u001b[0;34m()\u001b[0m\n\u001b[0;32m----> 1\u001b[0;31m \u001b[0mprint\u001b[0m\u001b[0;34m(\u001b[0m\u001b[0mm31\u001b[0m\u001b[0;34m.\u001b[0m\u001b[0mpop\u001b[0m\u001b[0;34m(\u001b[0m\u001b[0;34m'3_1'\u001b[0m\u001b[0;34m)\u001b[0m\u001b[0;34m)\u001b[0m\u001b[0;34m\u001b[0m\u001b[0;34m\u001b[0m\u001b[0m\n\u001b[0m\u001b[1;32m      2\u001b[0m \u001b[0;34m\u001b[0m\u001b[0m\n\u001b[1;32m      3\u001b[0m \u001b[0mprint\u001b[0m\u001b[0;34m(\u001b[0m\u001b[0mm31\u001b[0m\u001b[0;34m)\u001b[0m\u001b[0;34m\u001b[0m\u001b[0;34m\u001b[0m\u001b[0m\n",
            "\u001b[0;31mKeyError\u001b[0m: '3_1'"
          ]
        }
      ]
    },
    {
      "cell_type": "code",
      "metadata": {
        "colab": {
          "base_uri": "https://localhost:8080/"
        },
        "id": "VsKDkLjy6tBx",
        "outputId": "78d36985-bd2c-4e5f-c45e-676f265ee1b6"
      },
      "source": [
        "print(m32)"
      ],
      "execution_count": 45,
      "outputs": [
        {
          "output_type": "stream",
          "text": [
            "{'2_1': [50, 55, 65, 77, 80, 60], '3_2': [6, 5, 4, 3, 2, 1]}\n"
          ],
          "name": "stdout"
        }
      ]
    },
    {
      "cell_type": "code",
      "metadata": {
        "colab": {
          "base_uri": "https://localhost:8080/"
        },
        "id": "hS9x540668VJ",
        "outputId": "894e46af-5877-447e-d412-dd5f4d16f1be"
      },
      "source": [
        "print(m32.popitem())\n",
        "\n",
        "print(m32)"
      ],
      "execution_count": 48,
      "outputs": [
        {
          "output_type": "stream",
          "text": [
            "('2_1', [50, 55, 65, 77, 80, 60])\n",
            "{}\n"
          ],
          "name": "stdout"
        }
      ]
    },
    {
      "cell_type": "code",
      "metadata": {
        "colab": {
          "base_uri": "https://localhost:8080/",
          "height": 197
        },
        "id": "L-ViqVl17AHN",
        "outputId": "079930ad-49c3-41d8-c9bc-0701a6f3ada3"
      },
      "source": [
        "print(m21.popitem())\n",
        "\n",
        "print(m21)"
      ],
      "execution_count": 47,
      "outputs": [
        {
          "output_type": "error",
          "ename": "KeyError",
          "evalue": "ignored",
          "traceback": [
            "\u001b[0;31m---------------------------------------------------------------------------\u001b[0m",
            "\u001b[0;31mKeyError\u001b[0m                                  Traceback (most recent call last)",
            "\u001b[0;32m<ipython-input-47-b14506c61eec>\u001b[0m in \u001b[0;36m<module>\u001b[0;34m()\u001b[0m\n\u001b[0;32m----> 1\u001b[0;31m \u001b[0mprint\u001b[0m\u001b[0;34m(\u001b[0m\u001b[0mm21\u001b[0m\u001b[0;34m.\u001b[0m\u001b[0mpopitem\u001b[0m\u001b[0;34m(\u001b[0m\u001b[0;34m)\u001b[0m\u001b[0;34m)\u001b[0m\u001b[0;34m\u001b[0m\u001b[0;34m\u001b[0m\u001b[0m\n\u001b[0m\u001b[1;32m      2\u001b[0m \u001b[0;34m\u001b[0m\u001b[0m\n\u001b[1;32m      3\u001b[0m \u001b[0mprint\u001b[0m\u001b[0;34m(\u001b[0m\u001b[0mm21\u001b[0m\u001b[0;34m)\u001b[0m\u001b[0;34m\u001b[0m\u001b[0;34m\u001b[0m\u001b[0m\n",
            "\u001b[0;31mKeyError\u001b[0m: 'popitem(): dictionary is empty'"
          ]
        }
      ]
    },
    {
      "cell_type": "code",
      "metadata": {
        "colab": {
          "base_uri": "https://localhost:8080/"
        },
        "id": "NZNccFH97F2B",
        "outputId": "f5c292f9-64c6-4c8a-cdd4-7c3ed960287d"
      },
      "source": [
        "li = [1,2,3]\n",
        "\n",
        "\n",
        "a, b, c = li\n",
        "\n",
        "print(a,b,c)"
      ],
      "execution_count": 49,
      "outputs": [
        {
          "output_type": "stream",
          "text": [
            "1 2 3\n"
          ],
          "name": "stdout"
        }
      ]
    },
    {
      "cell_type": "code",
      "metadata": {
        "colab": {
          "base_uri": "https://localhost:8080/",
          "height": 163
        },
        "id": "Zz9wcT4s7JcE",
        "outputId": "3e889ae3-fb20-470e-c818-b8cca604dfbf"
      },
      "source": [
        "a,b = [1,2,3]"
      ],
      "execution_count": 50,
      "outputs": [
        {
          "output_type": "error",
          "ename": "ValueError",
          "evalue": "ignored",
          "traceback": [
            "\u001b[0;31m---------------------------------------------------------------------------\u001b[0m",
            "\u001b[0;31mValueError\u001b[0m                                Traceback (most recent call last)",
            "\u001b[0;32m<ipython-input-50-e99d840cfee5>\u001b[0m in \u001b[0;36m<module>\u001b[0;34m()\u001b[0m\n\u001b[0;32m----> 1\u001b[0;31m \u001b[0ma\u001b[0m\u001b[0;34m,\u001b[0m\u001b[0mb\u001b[0m \u001b[0;34m=\u001b[0m \u001b[0;34m[\u001b[0m\u001b[0;36m1\u001b[0m\u001b[0;34m,\u001b[0m\u001b[0;36m2\u001b[0m\u001b[0;34m,\u001b[0m\u001b[0;36m3\u001b[0m\u001b[0;34m]\u001b[0m\u001b[0;34m\u001b[0m\u001b[0;34m\u001b[0m\u001b[0m\n\u001b[0m",
            "\u001b[0;31mValueError\u001b[0m: too many values to unpack (expected 2)"
          ]
        }
      ]
    },
    {
      "cell_type": "code",
      "metadata": {
        "colab": {
          "base_uri": "https://localhost:8080/",
          "height": 163
        },
        "id": "hOmbBC6P7LhP",
        "outputId": "a685a50a-3dee-4ba5-f6b4-3c737cc41359"
      },
      "source": [
        "a,b,c,d = [1,2,3]"
      ],
      "execution_count": 51,
      "outputs": [
        {
          "output_type": "error",
          "ename": "ValueError",
          "evalue": "ignored",
          "traceback": [
            "\u001b[0;31m---------------------------------------------------------------------------\u001b[0m",
            "\u001b[0;31mValueError\u001b[0m                                Traceback (most recent call last)",
            "\u001b[0;32m<ipython-input-51-c8f31c2d8086>\u001b[0m in \u001b[0;36m<module>\u001b[0;34m()\u001b[0m\n\u001b[0;32m----> 1\u001b[0;31m \u001b[0ma\u001b[0m\u001b[0;34m,\u001b[0m\u001b[0mb\u001b[0m\u001b[0;34m,\u001b[0m\u001b[0mc\u001b[0m\u001b[0;34m,\u001b[0m\u001b[0md\u001b[0m \u001b[0;34m=\u001b[0m \u001b[0;34m[\u001b[0m\u001b[0;36m1\u001b[0m\u001b[0;34m,\u001b[0m\u001b[0;36m2\u001b[0m\u001b[0;34m,\u001b[0m\u001b[0;36m3\u001b[0m\u001b[0;34m]\u001b[0m\u001b[0;34m\u001b[0m\u001b[0;34m\u001b[0m\u001b[0m\n\u001b[0m",
            "\u001b[0;31mValueError\u001b[0m: not enough values to unpack (expected 4, got 3)"
          ]
        }
      ]
    },
    {
      "cell_type": "code",
      "metadata": {
        "colab": {
          "base_uri": "https://localhost:8080/"
        },
        "id": "JUX4AsP87Tpv",
        "outputId": "fe0d61f8-30a4-40ac-9441-05a165329a35"
      },
      "source": [
        "a,b,c,d = (1,1,2,3)\n",
        "\n",
        "print(a,b,c,d)"
      ],
      "execution_count": 52,
      "outputs": [
        {
          "output_type": "stream",
          "text": [
            "1 1 2 3\n"
          ],
          "name": "stdout"
        }
      ]
    },
    {
      "cell_type": "code",
      "metadata": {
        "colab": {
          "base_uri": "https://localhost:8080/"
        },
        "id": "OORgzRwi7Vj6",
        "outputId": "f0b46d3c-4aca-4285-ae59-ddcbb9ab0b44"
      },
      "source": [
        "li2 = [a,b,c,d]\n",
        "\n",
        "print(li2)"
      ],
      "execution_count": 53,
      "outputs": [
        {
          "output_type": "stream",
          "text": [
            "[1, 1, 2, 3]\n"
          ],
          "name": "stdout"
        }
      ]
    },
    {
      "cell_type": "code",
      "metadata": {
        "colab": {
          "base_uri": "https://localhost:8080/"
        },
        "id": "iQCt1pb17XuE",
        "outputId": "47d7692a-c561-4d8d-c1ac-6d518959ba21"
      },
      "source": [
        "print(len(d1))"
      ],
      "execution_count": 54,
      "outputs": [
        {
          "output_type": "stream",
          "text": [
            "2\n"
          ],
          "name": "stdout"
        }
      ]
    },
    {
      "cell_type": "code",
      "metadata": {
        "colab": {
          "base_uri": "https://localhost:8080/"
        },
        "id": "fO5wshS37YXU",
        "outputId": "dbd40688-24b7-45dd-f1f8-a97912425495"
      },
      "source": [
        "print(max(d1))"
      ],
      "execution_count": 55,
      "outputs": [
        {
          "output_type": "stream",
          "text": [
            "132\n"
          ],
          "name": "stdout"
        }
      ]
    },
    {
      "cell_type": "code",
      "metadata": {
        "colab": {
          "base_uri": "https://localhost:8080/"
        },
        "id": "5EnC9BDI7bp6",
        "outputId": "8a53e62a-0271-4f0c-a58a-3efea959b79d"
      },
      "source": [
        "print(min(d1))"
      ],
      "execution_count": 56,
      "outputs": [
        {
          "output_type": "stream",
          "text": [
            "123\n"
          ],
          "name": "stdout"
        }
      ]
    },
    {
      "cell_type": "markdown",
      "metadata": {
        "id": "rPWb13CB7dii"
      },
      "source": [
        "### Iterating"
      ]
    },
    {
      "cell_type": "code",
      "metadata": {
        "colab": {
          "base_uri": "https://localhost:8080/"
        },
        "id": "FN1v-MlR7iMP",
        "outputId": "ea80c6ff-451b-43a9-e17e-a166f5f4b106"
      },
      "source": [
        "for pair in d1:\n",
        "    print(pair)"
      ],
      "execution_count": 57,
      "outputs": [
        {
          "output_type": "stream",
          "text": [
            "123\n",
            "132\n"
          ],
          "name": "stdout"
        }
      ]
    },
    {
      "cell_type": "code",
      "metadata": {
        "colab": {
          "base_uri": "https://localhost:8080/"
        },
        "id": "wE45dJ3a7kGA",
        "outputId": "f1d7fb2d-bfd4-454e-b60b-5f64e6443204"
      },
      "source": [
        "for val in d1.values():\n",
        "    print(val)"
      ],
      "execution_count": 58,
      "outputs": [
        {
          "output_type": "stream",
          "text": [
            "456\n",
            "344\n"
          ],
          "name": "stdout"
        }
      ]
    },
    {
      "cell_type": "code",
      "metadata": {
        "colab": {
          "base_uri": "https://localhost:8080/"
        },
        "id": "vmVAdZR17l3p",
        "outputId": "e6ca4e14-f7a5-48c7-df75-22c9b0c8454e"
      },
      "source": [
        "for pair in d1:\n",
        "    print(d1[pair])"
      ],
      "execution_count": 59,
      "outputs": [
        {
          "output_type": "stream",
          "text": [
            "456\n",
            "344\n"
          ],
          "name": "stdout"
        }
      ]
    },
    {
      "cell_type": "code",
      "metadata": {
        "colab": {
          "base_uri": "https://localhost:8080/"
        },
        "id": "krmCBNcC7oPX",
        "outputId": "36ba092f-60fb-4818-e9a8-40d4056eb2dc"
      },
      "source": [
        "for pair in d1:\n",
        "    print(d1.get(pair))"
      ],
      "execution_count": 60,
      "outputs": [
        {
          "output_type": "stream",
          "text": [
            "456\n",
            "344\n"
          ],
          "name": "stdout"
        }
      ]
    },
    {
      "cell_type": "code",
      "metadata": {
        "colab": {
          "base_uri": "https://localhost:8080/"
        },
        "id": "bkfvgTRD7qVz",
        "outputId": "29112767-42c3-4e14-b9fa-4201f3586cf0"
      },
      "source": [
        "for pair in d1.items():\n",
        "    print(pair)"
      ],
      "execution_count": 61,
      "outputs": [
        {
          "output_type": "stream",
          "text": [
            "(123, 456)\n",
            "(132, 344)\n"
          ],
          "name": "stdout"
        }
      ]
    },
    {
      "cell_type": "code",
      "metadata": {
        "colab": {
          "base_uri": "https://localhost:8080/"
        },
        "id": "sgBd7D4W7skM",
        "outputId": "fe1050b7-945c-466e-e20d-944b18a96730"
      },
      "source": [
        "for pair in d1.items():\n",
        "    print(pair[1])"
      ],
      "execution_count": 62,
      "outputs": [
        {
          "output_type": "stream",
          "text": [
            "456\n",
            "344\n"
          ],
          "name": "stdout"
        }
      ]
    },
    {
      "cell_type": "code",
      "metadata": {
        "colab": {
          "base_uri": "https://localhost:8080/"
        },
        "id": "RspRiEh07u90",
        "outputId": "cb1e5ee5-f014-48b1-fd05-ac9be7041f02"
      },
      "source": [
        "for key, value in d1.items():\n",
        "    print(key)\n",
        "    print(value)\n",
        "    print('*' * 10)"
      ],
      "execution_count": 63,
      "outputs": [
        {
          "output_type": "stream",
          "text": [
            "123\n",
            "456\n",
            "**********\n",
            "132\n",
            "344\n",
            "**********\n"
          ],
          "name": "stdout"
        }
      ]
    },
    {
      "cell_type": "code",
      "metadata": {
        "colab": {
          "base_uri": "https://localhost:8080/"
        },
        "id": "l01G5MTF7vt_",
        "outputId": "6f996347-65bf-4406-e15d-79f2a175d020"
      },
      "source": [
        "sq = {}\n",
        "\n",
        "\n",
        "for i in range(1, 101):\n",
        "    sq[i] = i ** 2\n",
        "\n",
        "    \n",
        "print(sq)"
      ],
      "execution_count": 64,
      "outputs": [
        {
          "output_type": "stream",
          "text": [
            "{1: 1, 2: 4, 3: 9, 4: 16, 5: 25, 6: 36, 7: 49, 8: 64, 9: 81, 10: 100, 11: 121, 12: 144, 13: 169, 14: 196, 15: 225, 16: 256, 17: 289, 18: 324, 19: 361, 20: 400, 21: 441, 22: 484, 23: 529, 24: 576, 25: 625, 26: 676, 27: 729, 28: 784, 29: 841, 30: 900, 31: 961, 32: 1024, 33: 1089, 34: 1156, 35: 1225, 36: 1296, 37: 1369, 38: 1444, 39: 1521, 40: 1600, 41: 1681, 42: 1764, 43: 1849, 44: 1936, 45: 2025, 46: 2116, 47: 2209, 48: 2304, 49: 2401, 50: 2500, 51: 2601, 52: 2704, 53: 2809, 54: 2916, 55: 3025, 56: 3136, 57: 3249, 58: 3364, 59: 3481, 60: 3600, 61: 3721, 62: 3844, 63: 3969, 64: 4096, 65: 4225, 66: 4356, 67: 4489, 68: 4624, 69: 4761, 70: 4900, 71: 5041, 72: 5184, 73: 5329, 74: 5476, 75: 5625, 76: 5776, 77: 5929, 78: 6084, 79: 6241, 80: 6400, 81: 6561, 82: 6724, 83: 6889, 84: 7056, 85: 7225, 86: 7396, 87: 7569, 88: 7744, 89: 7921, 90: 8100, 91: 8281, 92: 8464, 93: 8649, 94: 8836, 95: 9025, 96: 9216, 97: 9409, 98: 9604, 99: 9801, 100: 10000}\n"
          ],
          "name": "stdout"
        }
      ]
    },
    {
      "cell_type": "code",
      "metadata": {
        "colab": {
          "base_uri": "https://localhost:8080/"
        },
        "id": "SzQhgESn7y13",
        "outputId": "19ce3011-cf1b-4533-d983-d10b32b6206d"
      },
      "source": [
        "for key in sq:\n",
        "    if key % 2 == 0:\n",
        "        print(sq[key], end = '--')"
      ],
      "execution_count": 65,
      "outputs": [
        {
          "output_type": "stream",
          "text": [
            "4--16--36--64--100--144--196--256--324--400--484--576--676--784--900--1024--1156--1296--1444--1600--1764--1936--2116--2304--2500--2704--2916--3136--3364--3600--3844--4096--4356--4624--4900--5184--5476--5776--6084--6400--6724--7056--7396--7744--8100--8464--8836--9216--9604--10000--"
          ],
          "name": "stdout"
        }
      ]
    },
    {
      "cell_type": "code",
      "metadata": {
        "id": "bsK-96dw8L3O"
      },
      "source": [
        "s = \"\"\"Python is an interpreted high-level general-purpose programming language. Python's design philosophy emphasizes code readability with its notable use of significant indentation. Wikipedia\n",
        "Developer: Python Software Foundation\n",
        "Stable release: 3.9.5 / 3 May 2021; 19 days ago\n",
        "Preview release: 3.10.0b1 / 3 May 2021; 19 days ago\n",
        "Typing discipline: Duck, dynamic, strong typing; gradual (since 3.5, but ignored in CPython)\n",
        "First appeared: February 1991; 30 years ago\n",
        "Paradigm: Multi-paradigm: object-oriented, procedural (imperative), functional, structured, reflective\"\"\""
      ],
      "execution_count": 66,
      "outputs": []
    },
    {
      "cell_type": "markdown",
      "metadata": {
        "id": "F9SH2tPl8Qo2"
      },
      "source": [
        "char, char_count\n",
        "\n",
        "- [['p', 5], ['a', 10]]\n",
        "\n",
        "- {'p':5, 'a':10}\n",
        "\n",
        "### Contact Application\n",
        "{'Name': ['Mobile1','mobile1', 'email', 'DOB', 'website']}\n",
        "\n",
        "Take the input from the user\n",
        "\n",
        "- 1. Create a contact -> Key:Value\n",
        "- 1. add the contact to existing contact -> Key -> Name\n",
        "- 1. edit the contact -> Key -> value\n",
        "- 1. delete the contact -> Name\n",
        "- 1. view the contact -> Name"
      ]
    },
    {
      "cell_type": "code",
      "metadata": {
        "colab": {
          "base_uri": "https://localhost:8080/"
        },
        "id": "9T5jbP-o8zkp",
        "outputId": "35f20204-11ee-423b-be6a-ec14e069605e"
      },
      "source": [
        "\n",
        "option = input(\"\"\"Press the options below\n",
        "1. Create a contact\n",
        "2. add the contact to existing contact\n",
        "3. edit the contact\n",
        "4. delete the contact\"\"\")"
      ],
      "execution_count": 88,
      "outputs": [
        {
          "output_type": "stream",
          "text": [
            "Press the options below\n",
            "1. Create a contact\n",
            "2. add the contact to existing contact\n",
            "3. edit the contact\n",
            "4. delete the contact2\n"
          ],
          "name": "stdout"
        }
      ]
    },
    {
      "cell_type": "code",
      "metadata": {
        "id": "srhfKCdD81qR"
      },
      "source": [
        "contact = {}"
      ],
      "execution_count": 68,
      "outputs": []
    },
    {
      "cell_type": "code",
      "metadata": {
        "id": "PulcQhBX-Amq"
      },
      "source": [
        "if option == '1':\n",
        "    key = input(\"Enter Contact Name\")\n",
        "    value = input(\"Enter detail with space sep\").split()\n",
        "    contact[key] = value"
      ],
      "execution_count": 89,
      "outputs": []
    },
    {
      "cell_type": "code",
      "metadata": {
        "colab": {
          "base_uri": "https://localhost:8080/"
        },
        "id": "1x3Z2g2w85gi",
        "outputId": "d696fa80-368c-42e1-b71a-215984826b4d"
      },
      "source": [
        "print(contact)"
      ],
      "execution_count": 90,
      "outputs": [
        {
          "output_type": "stream",
          "text": [
            "{'python': ['9876543210', 'python@gmail.com', '01-01-1997']}\n"
          ],
          "name": "stdout"
        }
      ]
    },
    {
      "cell_type": "code",
      "metadata": {
        "colab": {
          "base_uri": "https://localhost:8080/"
        },
        "id": "2AAr5KYJ_CIT",
        "outputId": "4146484c-7f94-406e-9887-2ceb0b30e0f4"
      },
      "source": [
        "if option == '2':\n",
        "    name = input('Enter the name to add the existing')\n",
        "    if name in contact:\n",
        "        data = input(\"Enter the data to update\").split()\n",
        "        contact[name].extend(data)\n",
        "    else:\n",
        "        print(name, \"contact is not avaliable\")"
      ],
      "execution_count": 93,
      "outputs": [
        {
          "output_type": "stream",
          "text": [
            "Enter the name to add the existingpython\n",
            "Enter the data to update1234567890\n"
          ],
          "name": "stdout"
        }
      ]
    },
    {
      "cell_type": "code",
      "metadata": {
        "colab": {
          "base_uri": "https://localhost:8080/"
        },
        "id": "TM4RHngA8_sG",
        "outputId": "ce98b10c-7899-4cac-e605-baaea26e7acc"
      },
      "source": [
        "print(contact)"
      ],
      "execution_count": 94,
      "outputs": [
        {
          "output_type": "stream",
          "text": [
            "{'python': ['9876543210', 'python@gmail.com', '01-01-1997', '1234567890']}\n"
          ],
          "name": "stdout"
        }
      ]
    },
    {
      "cell_type": "code",
      "metadata": {
        "colab": {
          "base_uri": "https://localhost:8080/"
        },
        "id": "aV4fmzKx9BS6",
        "outputId": "3b4596b0-2036-4296-e2eb-93fd74b2cd85"
      },
      "source": [
        "name = input()\n",
        "\n",
        "if name in contact.keys():\n",
        "    print(contact.pop(name))\n",
        "else:\n",
        "    print('name is not avaliable')"
      ],
      "execution_count": 96,
      "outputs": [
        {
          "output_type": "stream",
          "text": [
            "python\n",
            "['9876543210', 'python@gmail.com', '01-01-1997', '1234567890']\n"
          ],
          "name": "stdout"
        }
      ]
    },
    {
      "cell_type": "code",
      "metadata": {
        "colab": {
          "base_uri": "https://localhost:8080/"
        },
        "id": "Iq3zhtO79Kpu",
        "outputId": "af375127-3cbd-4f81-a9a0-0885c9170461"
      },
      "source": [
        "print(contact)"
      ],
      "execution_count": 97,
      "outputs": [
        {
          "output_type": "stream",
          "text": [
            "{}\n"
          ],
          "name": "stdout"
        }
      ]
    }
  ]
}